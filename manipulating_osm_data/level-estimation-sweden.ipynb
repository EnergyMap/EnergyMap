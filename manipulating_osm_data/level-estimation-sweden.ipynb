{
 "cells": [
  {
   "cell_type": "code",
   "execution_count": 1,
   "id": "70f3c77a-ece0-46e6-bb09-c0aa4fb431c7",
   "metadata": {
    "tags": []
   },
   "outputs": [],
   "source": [
    "import osmium\n",
    "import shapely.wkb as wkblib\n",
    "import pandas as pd\n",
    "import geopandas\n",
    "import osmnx as ox\n",
    "import matplotlib.pyplot as plt\n",
    "import psutil"
   ]
  },
  {
   "cell_type": "code",
   "execution_count": 2,
   "id": "e8175f4b-8881-405d-90c2-2e1d9575c3ed",
   "metadata": {
    "tags": []
   },
   "outputs": [
    {
     "name": "stdout",
     "output_type": "stream",
     "text": [
      "--2023-03-15 07:36:22--  http://download.geofabrik.de/europe/sweden-latest.osm.pbf\n",
      "Resolving download.geofabrik.de (download.geofabrik.de)... 65.109.48.72, 65.109.50.43\n",
      "Connecting to download.geofabrik.de (download.geofabrik.de)|65.109.48.72|:80... connected.\n",
      "HTTP request sent, awaiting response... 200 OK\n",
      "Length: 657808154 (627M) [application/octet-stream]\n",
      "Saving to: ‘sweden-latest.osm.pbf’\n",
      "\n",
      "sweden-latest.osm.p 100%[===================>] 627.33M  86.4MB/s    in 7.3s    \n",
      "\n",
      "2023-03-15 07:36:29 (85.9 MB/s) - ‘sweden-latest.osm.pbf’ saved [657808154/657808154]\n",
      "\n"
     ]
    }
   ],
   "source": [
    "#uncomment and download data if you need it\n",
    "!wget http://download.geofabrik.de/europe/sweden-latest.osm.pbf"
   ]
  },
  {
   "cell_type": "code",
   "execution_count": 3,
   "id": "e2c3fd9f-63bd-46f9-b387-a9a00c648067",
   "metadata": {},
   "outputs": [],
   "source": [
    "#https://max-coding.medium.com/extracting-open-street-map-osm-street-data-from-data-files-using-pyosmium-afca6eaa5d00"
   ]
  },
  {
   "cell_type": "code",
   "execution_count": 3,
   "id": "83ea2840-e650-4d6c-aaca-2ae84eb4e100",
   "metadata": {
    "tags": []
   },
   "outputs": [],
   "source": [
    "#this class creates\n",
    "#multipolygons for all buildings. Uses \"area\", and I don't know\n",
    "#if e.g. \"way\" or \"relation\" also could/should be used.\n",
    "#Inspiration from here https://max-coding.medium.com/extracting-open-street-map-osm-street-data-from-data-files-using-pyosmium-afca6eaa5d00\n",
    "class BuildingHandler(osmium.SimpleHandler):\n",
    "    def __init__(self):\n",
    "        osmium.SimpleHandler.__init__(self)\n",
    "        self.building_count = 0\n",
    "        self.buildings = []\n",
    "        # A global factory that creates WKB from a osmium geometry\n",
    "        self.wkbfab = osmium.geom.WKBFactory()\n",
    "\n",
    "    def area(self, w):\n",
    "        if w.tags.get(\"building\") == 'yes':\n",
    "            try:\n",
    "                wkb = self.wkbfab.create_multipolygon(w)\n",
    "                geo = wkblib.loads(wkb, hex=True)\n",
    "            except Exception as e:\n",
    "                print(e)\n",
    "                return\n",
    "            row = { \"w_id\": w.id, \"geometry\": geo }\n",
    "\n",
    "            for key, value in w.tags:\n",
    "                row[key] = value\n",
    "\n",
    "            self.buildings.append(row)\n",
    "            self.building_count += 1"
   ]
  },
  {
   "cell_type": "code",
   "execution_count": 4,
   "id": "6a983db8-d234-49a7-9a04-fe543c01e9ee",
   "metadata": {
    "tags": []
   },
   "outputs": [],
   "source": [
    "#this runs the actual loading from the file, might take a while\n",
    "buildinghandler = BuildingHandler()\n",
    "buildinghandler.apply_file(\"sweden-latest.osm.pbf\", locations=True)"
   ]
  },
  {
   "cell_type": "code",
   "execution_count": 43,
   "id": "97e7c1f0-6c13-4d26-b7b3-46fca933ea9b",
   "metadata": {
    "tags": []
   },
   "outputs": [
    {
     "data": {
      "text/plain": [
       "2026058"
      ]
     },
     "execution_count": 43,
     "metadata": {},
     "output_type": "execute_result"
    }
   ],
   "source": [
    "len(buildinghandler.buildings)"
   ]
  },
  {
   "cell_type": "code",
   "execution_count": 44,
   "id": "23268e37-0f93-4902-97ae-26e02c60a718",
   "metadata": {
    "tags": []
   },
   "outputs": [
    {
     "data": {
      "text/plain": [
       "12.4"
      ]
     },
     "execution_count": 44,
     "metadata": {},
     "output_type": "execute_result"
    }
   ],
   "source": [
    "psutil.virtual_memory().percent"
   ]
  },
  {
   "cell_type": "code",
   "execution_count": 45,
   "id": "6385c23d-bb3c-402e-b4aa-6612fa5945b3",
   "metadata": {
    "tags": []
   },
   "outputs": [
    {
     "name": "stdout",
     "output_type": "stream",
     "text": [
      "(3891, 3)\n",
      "(5168, 3)\n",
      "(6180, 3)\n",
      "(6930, 3)\n",
      "(7860, 3)\n",
      "(8885, 3)\n",
      "(11312, 3)\n",
      "(11984, 3)\n",
      "(12926, 3)\n",
      "(13706, 3)\n"
     ]
    }
   ],
   "source": [
    "i = 200000\n",
    "while i < len(buildinghandler.buildings):\n",
    "    dfx = pd.DataFrame(buildinghandler.buildings[(i-200000):min([i, len(buildinghandler.buildings)-1])])\n",
    "    gdfx = geopandas.GeoDataFrame(dfx, geometry='geometry')\n",
    "    gdfx = gdfx.set_crs(\"EPSG:4326\")\n",
    "    gdfx = ox.project_gdf(gdfx)\n",
    "    #gdfx = gdfx.cx[672236:676942, 6577855:6579891]\n",
    "    gdfx = gdfx.dropna(subset=['building:levels'])\n",
    "    gdfx = gdfx[['w_id', 'geometry', 'building:levels']]\n",
    "    if i < 200001:\n",
    "        meta = gdfx\n",
    "    else:\n",
    "        meta = pd.concat([meta, gdfx])\n",
    "    print(meta.shape)\n",
    "    i += 200000"
   ]
  },
  {
   "cell_type": "code",
   "execution_count": 54,
   "id": "7fb0e588-44bf-41ee-8b8d-a163e1642c4f",
   "metadata": {},
   "outputs": [],
   "source": [
    "reg = meta[meta['building:levels'].str.contains('[A-Za-z]') == False]\n",
    "reg = reg[reg['building:levels'].str.contains('[;-]') == False]"
   ]
  },
  {
   "cell_type": "code",
   "execution_count": 55,
   "id": "23eeac5b-48a6-4a75-93e4-604e06cb6788",
   "metadata": {
    "tags": []
   },
   "outputs": [
    {
     "data": {
      "text/plain": [
       "(13700, 3)"
      ]
     },
     "execution_count": 55,
     "metadata": {},
     "output_type": "execute_result"
    }
   ],
   "source": [
    "reg.shape"
   ]
  },
  {
   "cell_type": "code",
   "execution_count": 56,
   "id": "fb4fddee-c4df-4875-9688-e0ecaade5ca8",
   "metadata": {
    "tags": []
   },
   "outputs": [],
   "source": [
    "y = reg['building:levels'].astype(float)\n",
    "x = reg.area"
   ]
  },
  {
   "cell_type": "code",
   "execution_count": 57,
   "id": "26da860e-3cb3-44ab-94f1-c3bb928c8e5a",
   "metadata": {
    "tags": []
   },
   "outputs": [],
   "source": [
    "from sklearn.model_selection import train_test_split, cross_val_score\n",
    "X_train, X_test, y_train, y_test = train_test_split(\n",
    "    x, y, train_size=8000, random_state=42, shuffle=True\n",
    ")"
   ]
  },
  {
   "cell_type": "code",
   "execution_count": 58,
   "id": "29cca31f-871d-4025-810f-dee6d6d344f4",
   "metadata": {
    "tags": []
   },
   "outputs": [],
   "source": [
    "from sklearn.linear_model import LinearRegression"
   ]
  },
  {
   "cell_type": "code",
   "execution_count": 59,
   "id": "a107bdd0-4e99-41ee-9613-c3805f830ac4",
   "metadata": {
    "tags": []
   },
   "outputs": [],
   "source": [
    "model = LinearRegression()"
   ]
  },
  {
   "cell_type": "code",
   "execution_count": 60,
   "id": "b176d1fc-7e64-4f25-9aa6-47f06adb024b",
   "metadata": {
    "tags": []
   },
   "outputs": [
    {
     "data": {
      "text/html": [
       "<style>#sk-container-id-4 {color: black;background-color: white;}#sk-container-id-4 pre{padding: 0;}#sk-container-id-4 div.sk-toggleable {background-color: white;}#sk-container-id-4 label.sk-toggleable__label {cursor: pointer;display: block;width: 100%;margin-bottom: 0;padding: 0.3em;box-sizing: border-box;text-align: center;}#sk-container-id-4 label.sk-toggleable__label-arrow:before {content: \"▸\";float: left;margin-right: 0.25em;color: #696969;}#sk-container-id-4 label.sk-toggleable__label-arrow:hover:before {color: black;}#sk-container-id-4 div.sk-estimator:hover label.sk-toggleable__label-arrow:before {color: black;}#sk-container-id-4 div.sk-toggleable__content {max-height: 0;max-width: 0;overflow: hidden;text-align: left;background-color: #f0f8ff;}#sk-container-id-4 div.sk-toggleable__content pre {margin: 0.2em;color: black;border-radius: 0.25em;background-color: #f0f8ff;}#sk-container-id-4 input.sk-toggleable__control:checked~div.sk-toggleable__content {max-height: 200px;max-width: 100%;overflow: auto;}#sk-container-id-4 input.sk-toggleable__control:checked~label.sk-toggleable__label-arrow:before {content: \"▾\";}#sk-container-id-4 div.sk-estimator input.sk-toggleable__control:checked~label.sk-toggleable__label {background-color: #d4ebff;}#sk-container-id-4 div.sk-label input.sk-toggleable__control:checked~label.sk-toggleable__label {background-color: #d4ebff;}#sk-container-id-4 input.sk-hidden--visually {border: 0;clip: rect(1px 1px 1px 1px);clip: rect(1px, 1px, 1px, 1px);height: 1px;margin: -1px;overflow: hidden;padding: 0;position: absolute;width: 1px;}#sk-container-id-4 div.sk-estimator {font-family: monospace;background-color: #f0f8ff;border: 1px dotted black;border-radius: 0.25em;box-sizing: border-box;margin-bottom: 0.5em;}#sk-container-id-4 div.sk-estimator:hover {background-color: #d4ebff;}#sk-container-id-4 div.sk-parallel-item::after {content: \"\";width: 100%;border-bottom: 1px solid gray;flex-grow: 1;}#sk-container-id-4 div.sk-label:hover label.sk-toggleable__label {background-color: #d4ebff;}#sk-container-id-4 div.sk-serial::before {content: \"\";position: absolute;border-left: 1px solid gray;box-sizing: border-box;top: 0;bottom: 0;left: 50%;z-index: 0;}#sk-container-id-4 div.sk-serial {display: flex;flex-direction: column;align-items: center;background-color: white;padding-right: 0.2em;padding-left: 0.2em;position: relative;}#sk-container-id-4 div.sk-item {position: relative;z-index: 1;}#sk-container-id-4 div.sk-parallel {display: flex;align-items: stretch;justify-content: center;background-color: white;position: relative;}#sk-container-id-4 div.sk-item::before, #sk-container-id-4 div.sk-parallel-item::before {content: \"\";position: absolute;border-left: 1px solid gray;box-sizing: border-box;top: 0;bottom: 0;left: 50%;z-index: -1;}#sk-container-id-4 div.sk-parallel-item {display: flex;flex-direction: column;z-index: 1;position: relative;background-color: white;}#sk-container-id-4 div.sk-parallel-item:first-child::after {align-self: flex-end;width: 50%;}#sk-container-id-4 div.sk-parallel-item:last-child::after {align-self: flex-start;width: 50%;}#sk-container-id-4 div.sk-parallel-item:only-child::after {width: 0;}#sk-container-id-4 div.sk-dashed-wrapped {border: 1px dashed gray;margin: 0 0.4em 0.5em 0.4em;box-sizing: border-box;padding-bottom: 0.4em;background-color: white;}#sk-container-id-4 div.sk-label label {font-family: monospace;font-weight: bold;display: inline-block;line-height: 1.2em;}#sk-container-id-4 div.sk-label-container {text-align: center;}#sk-container-id-4 div.sk-container {/* jupyter's `normalize.less` sets `[hidden] { display: none; }` but bootstrap.min.css set `[hidden] { display: none !important; }` so we also need the `!important` here to be able to override the default hidden behavior on the sphinx rendered scikit-learn.org. See: https://github.com/scikit-learn/scikit-learn/issues/21755 */display: inline-block !important;position: relative;}#sk-container-id-4 div.sk-text-repr-fallback {display: none;}</style><div id=\"sk-container-id-4\" class=\"sk-top-container\"><div class=\"sk-text-repr-fallback\"><pre>LinearRegression()</pre><b>In a Jupyter environment, please rerun this cell to show the HTML representation or trust the notebook. <br />On GitHub, the HTML representation is unable to render, please try loading this page with nbviewer.org.</b></div><div class=\"sk-container\" hidden><div class=\"sk-item\"><div class=\"sk-estimator sk-toggleable\"><input class=\"sk-toggleable__control sk-hidden--visually\" id=\"sk-estimator-id-4\" type=\"checkbox\" checked><label for=\"sk-estimator-id-4\" class=\"sk-toggleable__label sk-toggleable__label-arrow\">LinearRegression</label><div class=\"sk-toggleable__content\"><pre>LinearRegression()</pre></div></div></div></div></div>"
      ],
      "text/plain": [
       "LinearRegression()"
      ]
     },
     "execution_count": 60,
     "metadata": {},
     "output_type": "execute_result"
    }
   ],
   "source": [
    "import numpy as np\n",
    "model.fit(np.array(X_train).reshape(-1,1), y_train)"
   ]
  },
  {
   "cell_type": "code",
   "execution_count": 61,
   "id": "c8cb4ce0-54e5-4dbe-9082-396ed9bdec7a",
   "metadata": {
    "tags": []
   },
   "outputs": [
    {
     "data": {
      "text/plain": [
       "1.7578397665848287"
      ]
     },
     "execution_count": 61,
     "metadata": {},
     "output_type": "execute_result"
    }
   ],
   "source": [
    "from sklearn.metrics import mean_squared_error\n",
    "import math\n",
    "predict_y = model.predict(np.array(X_test).reshape(-1,1))\n",
    "rmse = math.sqrt(mean_squared_error(y_test,predict_y))\n",
    "rmse"
   ]
  },
  {
   "cell_type": "code",
   "execution_count": 62,
   "id": "bf3bd379-3dae-4135-b8c3-c54891fc08ac",
   "metadata": {
    "tags": []
   },
   "outputs": [
    {
     "data": {
      "text/plain": [
       "85.0622708164956"
      ]
     },
     "execution_count": 62,
     "metadata": {},
     "output_type": "execute_result"
    }
   ],
   "source": [
    "#computing scatter indexs\n",
    "rmse / y.mean() * 100\n",
    "#and it is very high - the model is not a good one"
   ]
  },
  {
   "cell_type": "code",
   "execution_count": 63,
   "id": "c9a7ea88-2487-42d6-b448-bdd4bf5df5dc",
   "metadata": {
    "tags": []
   },
   "outputs": [
    {
     "data": {
      "image/png": "[encoded data removed]",
      "text/plain": [
       "<Figure size 640x480 with 1 Axes>"
      ]
     },
     "metadata": {},
     "output_type": "display_data"
    }
   ],
   "source": [
    "plt.hist(y, bins=20)\n",
    "plt.show()"
   ]
  },
  {
   "cell_type": "code",
   "execution_count": 68,
   "id": "d8878fe5-7e98-4fa3-a7c7-676393deb40e",
   "metadata": {
    "tags": []
   },
   "outputs": [
    {
     "data": {
      "text/plain": [
       "Text(0.5, 1.0, 'Correlation for buildingarea and levels, Sweden')"
      ]
     },
     "execution_count": 68,
     "metadata": {},
     "output_type": "execute_result"
    },
    {
     "data": {
      "image/png": "[encoded data removed]",
      "text/plain": [
       "<Figure size 640x480 with 1 Axes>"
      ]
     },
     "metadata": {},
     "output_type": "display_data"
    }
   ],
   "source": [
    "#scatter plotting to inspect the correlation between area and levels\n",
    "plt.scatter(x, y)\n",
    "plt.ylabel('Levels')\n",
    "plt.xlabel('Area at groundlevel')\n",
    "plt.title('Correlation for buildingarea and levels, Sweden')"
   ]
  },
  {
   "cell_type": "code",
   "execution_count": 66,
   "id": "6aca27e7-496e-4185-82d9-44cfcbc0ec28",
   "metadata": {
    "tags": []
   },
   "outputs": [
    {
     "data": {
      "text/plain": [
       "2.0665328467153286"
      ]
     },
     "execution_count": 66,
     "metadata": {},
     "output_type": "execute_result"
    }
   ],
   "source": [
    "#for now we'll just go with the average levels for the buildings without level data\n",
    "y.mean()"
   ]
  },
  {
   "cell_type": "code",
   "execution_count": 70,
   "id": "d9bbab91-859a-4987-b064-4b44b77e5f10",
   "metadata": {
    "tags": []
   },
   "outputs": [
    {
     "data": {
      "text/plain": [
       "Text(0.5, 1.0, 'Buildings in Sweden')"
      ]
     },
     "execution_count": 70,
     "metadata": {},
     "output_type": "execute_result"
    },
    {
     "data": {
      "image/png": "[encoded data removed]",
      "text/plain": [
       "<Figure size 640x480 with 1 Axes>"
      ]
     },
     "metadata": {},
     "output_type": "display_data"
    }
   ],
   "source": [
    "meta.boundary.plot()\n",
    "plt.title('Buildings in Sweden')"
   ]
  },
  {
   "cell_type": "code",
   "execution_count": 73,
   "id": "2b83bd9e-d13c-4074-929c-9d4ac38d0349",
   "metadata": {
    "tags": []
   },
   "outputs": [
    {
     "name": "stdout",
     "output_type": "stream",
     "text": [
      "1235.398022890091\n"
     ]
    }
   ],
   "source": [
    "#looping through 1000x1000 squares of the data and collecting variances and means of level-data\n",
    "import time\n",
    "\n",
    "start = time.time()\n",
    "x = 250000\n",
    "size = 1000\n",
    "\n",
    "count = []\n",
    "means = []\n",
    "variances = []\n",
    "\n",
    "while x < 850000-size:\n",
    "    y = 6100000\n",
    "    while y < 7600000-size:\n",
    "        if reg.cx[x:x+size, y:y+size].shape[0] > 10:\n",
    "            means.append(reg.cx[x:x+size, y:y+size]['building:levels'].astype(float).mean())\n",
    "            variances.append(reg.cx[x:x+size, y:y+size]['building:levels'].astype(float).var())\n",
    "            count.append(reg.cx[x:x+size, y:y+size].shape[0])\n",
    "        y += size\n",
    "        #print(x,y)\n",
    "    x += size\n",
    "end = time.time()\n",
    "print(end - start)"
   ]
  },
  {
   "cell_type": "code",
   "execution_count": 74,
   "id": "c13777ed-57eb-4d16-912d-fdbbbac5884c",
   "metadata": {
    "tags": []
   },
   "outputs": [
    {
     "data": {
      "text/html": [
       "<div>\n",
       "<style scoped>\n",
       "    .dataframe tbody tr th:only-of-type {\n",
       "        vertical-align: middle;\n",
       "    }\n",
       "\n",
       "    .dataframe tbody tr th {\n",
       "        vertical-align: top;\n",
       "    }\n",
       "\n",
       "    .dataframe thead th {\n",
       "        text-align: right;\n",
       "    }\n",
       "</style>\n",
       "<table border=\"1\" class=\"dataframe\">\n",
       "  <thead>\n",
       "    <tr style=\"text-align: right;\">\n",
       "      <th></th>\n",
       "      <th>Count</th>\n",
       "      <th>Means</th>\n",
       "      <th>Variance</th>\n",
       "    </tr>\n",
       "  </thead>\n",
       "  <tbody>\n",
       "    <tr>\n",
       "      <th>0</th>\n",
       "      <td>11</td>\n",
       "      <td>1.090909</td>\n",
       "      <td>0.090909</td>\n",
       "    </tr>\n",
       "    <tr>\n",
       "      <th>1</th>\n",
       "      <td>11</td>\n",
       "      <td>2.000000</td>\n",
       "      <td>0.000000</td>\n",
       "    </tr>\n",
       "    <tr>\n",
       "      <th>2</th>\n",
       "      <td>30</td>\n",
       "      <td>1.833333</td>\n",
       "      <td>1.660920</td>\n",
       "    </tr>\n",
       "    <tr>\n",
       "      <th>3</th>\n",
       "      <td>85</td>\n",
       "      <td>1.741176</td>\n",
       "      <td>0.360784</td>\n",
       "    </tr>\n",
       "    <tr>\n",
       "      <th>4</th>\n",
       "      <td>70</td>\n",
       "      <td>2.157143</td>\n",
       "      <td>1.554658</td>\n",
       "    </tr>\n",
       "    <tr>\n",
       "      <th>...</th>\n",
       "      <td>...</td>\n",
       "      <td>...</td>\n",
       "      <td>...</td>\n",
       "    </tr>\n",
       "    <tr>\n",
       "      <th>287</th>\n",
       "      <td>130</td>\n",
       "      <td>1.761538</td>\n",
       "      <td>2.353548</td>\n",
       "    </tr>\n",
       "    <tr>\n",
       "      <th>288</th>\n",
       "      <td>15</td>\n",
       "      <td>2.733333</td>\n",
       "      <td>2.495238</td>\n",
       "    </tr>\n",
       "    <tr>\n",
       "      <th>289</th>\n",
       "      <td>30</td>\n",
       "      <td>1.533333</td>\n",
       "      <td>0.464368</td>\n",
       "    </tr>\n",
       "    <tr>\n",
       "      <th>290</th>\n",
       "      <td>12</td>\n",
       "      <td>1.333333</td>\n",
       "      <td>0.424242</td>\n",
       "    </tr>\n",
       "    <tr>\n",
       "      <th>291</th>\n",
       "      <td>52</td>\n",
       "      <td>1.423077</td>\n",
       "      <td>0.248869</td>\n",
       "    </tr>\n",
       "  </tbody>\n",
       "</table>\n",
       "<p>292 rows × 3 columns</p>\n",
       "</div>"
      ],
      "text/plain": [
       "     Count     Means  Variance\n",
       "0       11  1.090909  0.090909\n",
       "1       11  2.000000  0.000000\n",
       "2       30  1.833333  1.660920\n",
       "3       85  1.741176  0.360784\n",
       "4       70  2.157143  1.554658\n",
       "..     ...       ...       ...\n",
       "287    130  1.761538  2.353548\n",
       "288     15  2.733333  2.495238\n",
       "289     30  1.533333  0.464368\n",
       "290     12  1.333333  0.424242\n",
       "291     52  1.423077  0.248869\n",
       "\n",
       "[292 rows x 3 columns]"
      ]
     },
     "execution_count": 74,
     "metadata": {},
     "output_type": "execute_result"
    }
   ],
   "source": [
    "squares = pd.DataFrame({'Count': count, 'Means': means, 'Variance': variances})\n",
    "squares"
   ]
  },
  {
   "cell_type": "code",
   "execution_count": 75,
   "id": "97d11d68-24f6-4d8e-a1af-b77546c325aa",
   "metadata": {
    "tags": []
   },
   "outputs": [
    {
     "data": {
      "text/plain": [
       "2.5293782859473533"
      ]
     },
     "execution_count": 75,
     "metadata": {},
     "output_type": "execute_result"
    }
   ],
   "source": [
    "#the variation in levels within 1000x1000meter squares\n",
    "squares['Variance'].mean()"
   ]
  },
  {
   "cell_type": "code",
   "execution_count": 81,
   "id": "0a1ec60c-2598-498b-8445-af9f0849e92f",
   "metadata": {
    "tags": []
   },
   "outputs": [
    {
     "data": {
      "image/png": "[encoded data removed]",
      "text/plain": [
       "<Figure size 640x480 with 1 Axes>"
      ]
     },
     "metadata": {},
     "output_type": "display_data"
    }
   ],
   "source": [
    "#histogram of different variances within 1000x1000m squares\n",
    "plt.hist(squares['Variance'], bins=20)\n",
    "plt.ylabel('Amount')\n",
    "plt.xlabel('Variance within 1000x1000m area')\n",
    "plt.show()"
   ]
  },
  {
   "cell_type": "code",
   "execution_count": 84,
   "id": "b5130f6f-af38-41c3-80ed-376f2828adab",
   "metadata": {
    "tags": []
   },
   "outputs": [
    {
     "data": {
      "text/plain": [
       "2.142818823637269"
      ]
     },
     "execution_count": 84,
     "metadata": {},
     "output_type": "execute_result"
    }
   ],
   "source": [
    "squares2 = squares[squares['Variance'] < 40]\n",
    "squares2['Variance'].mean()"
   ]
  },
  {
   "cell_type": "code",
   "execution_count": 85,
   "id": "eeff920c-9d36-4ec9-886b-0cb4c46a3c11",
   "metadata": {
    "tags": []
   },
   "outputs": [
    {
     "data": {
      "text/plain": [
       "(array([201.,  33.,  17.,  12.,   6.,   4.,   3.,   4.,   3.,   0.,   1.,\n",
       "          3.,   0.,   2.,   0.,   0.,   0.,   1.,   0.,   1.]),\n",
       " array([ 0.        ,  1.53904762,  3.07809524,  4.61714286,  6.15619048,\n",
       "         7.6952381 ,  9.23428571, 10.77333333, 12.31238095, 13.85142857,\n",
       "        15.39047619, 16.92952381, 18.46857143, 20.00761905, 21.54666667,\n",
       "        23.08571429, 24.6247619 , 26.16380952, 27.70285714, 29.24190476,\n",
       "        30.78095238]),\n",
       " <BarContainer object of 20 artists>)"
      ]
     },
     "execution_count": 85,
     "metadata": {},
     "output_type": "execute_result"
    },
    {
     "data": {
      "image/png": "[encoded data removed]",
      "text/plain": [
       "<Figure size 640x480 with 1 Axes>"
      ]
     },
     "metadata": {},
     "output_type": "display_data"
    }
   ],
   "source": [
    "plt.hist(squares2['Variance'], bins=20)"
   ]
  },
  {
   "cell_type": "code",
   "execution_count": 76,
   "id": "99d70ef8-8e35-4f4f-8a40-6b4863f1fc71",
   "metadata": {
    "tags": []
   },
   "outputs": [
    {
     "data": {
      "text/plain": [
       "3.4564278640936545"
      ]
     },
     "execution_count": 76,
     "metadata": {},
     "output_type": "execute_result"
    }
   ],
   "source": [
    "reg['building:levels'].astype('float').var()"
   ]
  },
  {
   "cell_type": "code",
   "execution_count": 80,
   "id": "46b55349-da0f-4672-856e-59e0ee66c75f",
   "metadata": {
    "tags": []
   },
   "outputs": [
    {
     "data": {
      "image/png": "[encoded data removed]",
      "text/plain": [
       "<Figure size 640x480 with 1 Axes>"
      ]
     },
     "metadata": {},
     "output_type": "display_data"
    }
   ],
   "source": [
    "plt.hist(reg['building:levels'].astype('float'), bins=100)\n",
    "plt.show()"
   ]
  },
  {
   "cell_type": "code",
   "execution_count": 86,
   "id": "6e9e84a5-066e-4c08-9c91-7f0bc16ddca4",
   "metadata": {
    "tags": []
   },
   "outputs": [
    {
     "name": "stdout",
     "output_type": "stream",
     "text": [
      "4976.348487377167\n"
     ]
    }
   ],
   "source": [
    "#looping through 1000x1000 squares of the data and collecting variances and means of level-data\n",
    "\n",
    "start = time.time()\n",
    "x = 250000\n",
    "size = 500\n",
    "\n",
    "count2 = []\n",
    "means2 = []\n",
    "variances2 = []\n",
    "\n",
    "while x < 850000-size:\n",
    "    y = 6100000\n",
    "    while y < 7600000-size:\n",
    "        if reg.cx[x:x+size, y:y+size].shape[0] > 1:\n",
    "            means2.append(reg.cx[x:x+size, y:y+size]['building:levels'].astype(float).mean())\n",
    "            variances2.append(reg.cx[x:x+size, y:y+size]['building:levels'].astype(float).var())\n",
    "            count2.append(reg.cx[x:x+size, y:y+size].shape[0])\n",
    "        y += size\n",
    "        #print(x,y)\n",
    "    x += size\n",
    "end = time.time()\n",
    "print(end - start)"
   ]
  },
  {
   "cell_type": "code",
   "execution_count": 87,
   "id": "65211752-1649-4492-b91a-825be3b0c87e",
   "metadata": {
    "tags": []
   },
   "outputs": [
    {
     "data": {
      "text/plain": [
       "2.21379218185766"
      ]
     },
     "execution_count": 87,
     "metadata": {},
     "output_type": "execute_result"
    }
   ],
   "source": [
    "squares3 = pd.DataFrame({'Count': count2, 'Means': means2, 'Variance': variances2})\n",
    "squares3['Variance'].mean()"
   ]
  },
  {
   "cell_type": "code",
   "execution_count": null,
   "id": "ee9edb45-3ff5-403d-90b0-f0935af063b2",
   "metadata": {},
   "outputs": [],
   "source": []
  }
 ],
 "metadata": {
  "kernelspec": {
   "display_name": "Python 3 (ipykernel)",
   "language": "python",
   "name": "python3"
  },
  "language_info": {
   "codemirror_mode": {
    "name": "ipython",
    "version": 3
   },
   "file_extension": ".py",
   "mimetype": "text/x-python",
   "name": "python",
   "nbconvert_exporter": "python",
   "pygments_lexer": "ipython3",
   "version": "3.10.6"
  }
 },
 "nbformat": 4,
 "nbformat_minor": 5
}
