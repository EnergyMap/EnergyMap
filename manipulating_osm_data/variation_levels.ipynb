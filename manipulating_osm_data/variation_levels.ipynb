{
 "cells": [
  {
   "cell_type": "code",
   "execution_count": 1,
   "id": "70f3c77a-ece0-46e6-bb09-c0aa4fb431c7",
   "metadata": {
    "tags": []
   },
   "outputs": [],
   "source": [
    "import osmium\n",
    "import shapely.wkb as wkblib\n",
    "import pandas as pd\n",
    "import geopandas\n",
    "import osmnx as ox\n",
    "import matplotlib.pyplot as plt\n",
    "import psutil"
   ]
  },
  {
   "cell_type": "code",
   "execution_count": 2,
   "id": "e8175f4b-8881-405d-90c2-2e1d9575c3ed",
   "metadata": {
    "tags": []
   },
   "outputs": [
    {
     "name": "stdout",
     "output_type": "stream",
     "text": [
      "--2023-03-14 10:49:05--  http://download.geofabrik.de/europe/sweden-latest.osm.pbf\n",
      "Resolving download.geofabrik.de (download.geofabrik.de)... 65.109.50.43, 65.109.48.72\n",
      "Connecting to download.geofabrik.de (download.geofabrik.de)|65.109.50.43|:80... connected.\n",
      "HTTP request sent, awaiting response... 200 OK\n",
      "Length: 657674513 (627M) [application/octet-stream]\n",
      "Saving to: ‘sweden-latest.osm.pbf’\n",
      "\n",
      "sweden-latest.osm.p 100%[===================>] 627.21M  50.5MB/s    in 11s     \n",
      "\n",
      "2023-03-14 10:49:16 (57.6 MB/s) - ‘sweden-latest.osm.pbf’ saved [657674513/657674513]\n",
      "\n"
     ]
    }
   ],
   "source": [
    "#uncomment and download data if you need it\n",
    "!wget http://download.geofabrik.de/europe/sweden-latest.osm.pbf"
   ]
  },
  {
   "cell_type": "code",
   "execution_count": 3,
   "id": "e2c3fd9f-63bd-46f9-b387-a9a00c648067",
   "metadata": {},
   "outputs": [],
   "source": [
    "#https://max-coding.medium.com/extracting-open-street-map-osm-street-data-from-data-files-using-pyosmium-afca6eaa5d00"
   ]
  },
  {
   "cell_type": "code",
   "execution_count": 3,
   "id": "83ea2840-e650-4d6c-aaca-2ae84eb4e100",
   "metadata": {
    "tags": []
   },
   "outputs": [],
   "source": [
    "#this class creates\n",
    "#multipolygons for all buildings. Uses \"area\", and I don't know\n",
    "#if e.g. \"way\" or \"relation\" also could/should be used.\n",
    "#Inspiration from here https://max-coding.medium.com/extracting-open-street-map-osm-street-data-from-data-files-using-pyosmium-afca6eaa5d00\n",
    "class BuildingHandler(osmium.SimpleHandler):\n",
    "    def __init__(self):\n",
    "        osmium.SimpleHandler.__init__(self)\n",
    "        self.building_count = 0\n",
    "        self.buildings = []\n",
    "        # A global factory that creates WKB from a osmium geometry\n",
    "        self.wkbfab = osmium.geom.WKBFactory()\n",
    "\n",
    "    def area(self, w):\n",
    "        if w.tags.get(\"building\") == 'yes':\n",
    "            try:\n",
    "                wkb = self.wkbfab.create_multipolygon(w)\n",
    "                geo = wkblib.loads(wkb, hex=True)\n",
    "            except Exception as e:\n",
    "                print(e)\n",
    "                return\n",
    "            row = { \"w_id\": w.id, \"geometry\": geo }\n",
    "\n",
    "            for key, value in w.tags:\n",
    "                row[key] = value\n",
    "\n",
    "            self.buildings.append(row)\n",
    "            self.building_count += 1"
   ]
  },
  {
   "cell_type": "code",
   "execution_count": 4,
   "id": "6a983db8-d234-49a7-9a04-fe543c01e9ee",
   "metadata": {
    "tags": []
   },
   "outputs": [],
   "source": [
    "#this runs the actual loading from the file, might take a while\n",
    "buildinghandler = BuildingHandler()\n",
    "buildinghandler.apply_file(\"sweden-latest.osm.pbf\", locations=True)"
   ]
  },
  {
   "cell_type": "code",
   "execution_count": 61,
   "id": "97e7c1f0-6c13-4d26-b7b3-46fca933ea9b",
   "metadata": {
    "tags": []
   },
   "outputs": [
    {
     "data": {
      "text/plain": [
       "2023522"
      ]
     },
     "execution_count": 61,
     "metadata": {},
     "output_type": "execute_result"
    }
   ],
   "source": [
    "len(buildinghandler.buildings)"
   ]
  },
  {
   "cell_type": "code",
   "execution_count": 54,
   "id": "23268e37-0f93-4902-97ae-26e02c60a718",
   "metadata": {
    "tags": []
   },
   "outputs": [
    {
     "data": {
      "text/plain": [
       "14.3"
      ]
     },
     "execution_count": 54,
     "metadata": {},
     "output_type": "execute_result"
    }
   ],
   "source": [
    "psutil.virtual_memory().percent"
   ]
  },
  {
   "cell_type": "code",
   "execution_count": null,
   "id": "f3879ec4-3ce5-4049-bd3f-7bbc1c59fd07",
   "metadata": {
    "tags": []
   },
   "outputs": [],
   "source": [
    "#first to a pandas dataframe and then to geopandas\n",
    "df = pd.DataFrame(buildinghandler.buildings[:100000])\n",
    "gdf = geopandas.GeoDataFrame(df, geometry='geometry')\n",
    "gdf = gdf.set_crs(\"EPSG:4326\")\n",
    "gdf = ox.project_gdf(gdf)"
   ]
  },
  {
   "cell_type": "code",
   "execution_count": 56,
   "id": "e70bf5ea-b623-430a-99d7-d92dcb8fcec3",
   "metadata": {
    "tags": []
   },
   "outputs": [
    {
     "data": {
      "text/plain": [
       "(3056, 410)"
      ]
     },
     "execution_count": 56,
     "metadata": {},
     "output_type": "execute_result"
    }
   ],
   "source": [
    "#dropping all buildings that don't have level information\n",
    "gdf = gdf.dropna(subset=['building:levels'])\n",
    "gdf.shape"
   ]
  },
  {
   "cell_type": "code",
   "execution_count": 62,
   "id": "342eb498-6d60-43b3-b7af-6c1714950b54",
   "metadata": {
    "tags": []
   },
   "outputs": [
    {
     "data": {
      "text/plain": [
       "2.919011780104712"
      ]
     },
     "execution_count": 62,
     "metadata": {},
     "output_type": "execute_result"
    }
   ],
   "source": [
    "#taking a look at the mean levels\n",
    "gdf['building:levels'].astype(float).mean()"
   ]
  },
  {
   "cell_type": "code",
   "execution_count": 57,
   "id": "b1608a58-a47d-4f9a-955a-aabb693b1f31",
   "metadata": {
    "tags": []
   },
   "outputs": [
    {
     "data": {
      "text/plain": [
       "5.349985406080496"
      ]
     },
     "execution_count": 57,
     "metadata": {},
     "output_type": "execute_result"
    }
   ],
   "source": [
    "#variation of levels within all data\n",
    "gdf['building:levels'].astype(float).var()"
   ]
  },
  {
   "cell_type": "code",
   "execution_count": 58,
   "id": "5f602c36-0534-4474-afc0-9315a8a36494",
   "metadata": {
    "tags": []
   },
   "outputs": [],
   "source": [
    "#testing filtering out the Stockholm region using the cx-function\n",
    "gdf = gdf.cx[650000:681000, 6566000:6598000]"
   ]
  },
  {
   "cell_type": "code",
   "execution_count": 59,
   "id": "72660134-0346-4aa0-9836-6521009161e0",
   "metadata": {
    "tags": []
   },
   "outputs": [
    {
     "data": {
      "text/plain": [
       "(782, 410)"
      ]
     },
     "execution_count": 59,
     "metadata": {},
     "output_type": "execute_result"
    }
   ],
   "source": [
    "gdf.shape"
   ]
  },
  {
   "cell_type": "code",
   "execution_count": 60,
   "id": "10cf0e2f-f193-4b6d-9449-783304b1d7b9",
   "metadata": {
    "tags": []
   },
   "outputs": [
    {
     "data": {
      "text/plain": [
       "7.702742319997642"
      ]
     },
     "execution_count": 60,
     "metadata": {},
     "output_type": "execute_result"
    }
   ],
   "source": [
    "#variance within the Stockholm-region\n",
    "gdf['building:levels'].astype(float).var()"
   ]
  },
  {
   "cell_type": "code",
   "execution_count": 63,
   "id": "6385c23d-bb3c-402e-b4aa-6612fa5945b3",
   "metadata": {
    "tags": []
   },
   "outputs": [
    {
     "name": "stdout",
     "output_type": "stream",
     "text": [
      "(782, 3)\n",
      "(1564, 3)\n",
      "(2346, 3)\n",
      "(3128, 3)\n",
      "(3910, 3)\n",
      "(4692, 3)\n",
      "(5474, 3)\n",
      "(6256, 3)\n",
      "(7038, 3)\n",
      "(7820, 3)\n"
     ]
    }
   ],
   "source": [
    "i = 200000\n",
    "#j = 0\n",
    "#size = 1000\n",
    "\n",
    "#while i < 681000-size:\n",
    "#    while j < 6598000-size:\n",
    "        \n",
    "while i < len(buildinghandler.buildings):\n",
    "    dfx = pd.DataFrame(buildinghandler.buildings[(i-200000):min([i, len(buildinghandler.buildings)-1])])\n",
    "    gdfx = geopandas.GeoDataFrame(dfx, geometry='geometry')\n",
    "    gdfx = gdfx.set_crs(\"EPSG:4326\")\n",
    "    gdfx = ox.project_gdf(gdfx)\n",
    "    gdfx = gdf.cx[650000:681000, 6566000:6598000] # stockholm region\n",
    "    #gdfx = gdf.cx[672205:6579860, 676862:6577873]\n",
    "    gdfx = gdfx.dropna(subset=['building:levels'])\n",
    "    gdfx = gdfx[['w_id', 'geometry', 'building:levels']]\n",
    "    if i < 200001:\n",
    "        all = gdfx\n",
    "    else:\n",
    "        all = pd.concat([all, gdfx])\n",
    "    print(all.shape)\n",
    "    i += 200000"
   ]
  },
  {
   "cell_type": "code",
   "execution_count": 83,
   "id": "5d37cdfe-b5bd-424b-b259-b3063209ac26",
   "metadata": {
    "tags": []
   },
   "outputs": [],
   "source": [
    "#looping through 1000x1000 squares of the data and collecting variances and means of level-data\n",
    "x = 650000\n",
    "size = 1000\n",
    "\n",
    "count = []\n",
    "means = []\n",
    "variances = []\n",
    "\n",
    "while x < 681000-size:\n",
    "    y = 6566000\n",
    "    while y < 6598000-size:\n",
    "        if all.cx[x:x+size, y:y+size].shape[0] > 0:\n",
    "            means.append(all.cx[x:x+size, y:y+size]['building:levels'].astype(float).mean())\n",
    "            variances.append(all.cx[x:x+size, y:y+size]['building:levels'].astype(float).var())\n",
    "            count.append(all.cx[x:x+size, y:y+size].shape[0])\n",
    "        y += size\n",
    "        #print(x,y)\n",
    "    x += size"
   ]
  },
  {
   "cell_type": "code",
   "execution_count": 84,
   "id": "6d3f1074-a274-49e2-8671-f090d1802770",
   "metadata": {
    "tags": []
   },
   "outputs": [
    {
     "name": "stdout",
     "output_type": "stream",
     "text": [
      "[500, 10, 10, 10, 10, 30, 20, 20, 10, 30, 10, 20, 20, 40, 10, 20, 20, 10, 20, 10, 10, 10, 10, 10, 20, 10, 10, 10, 10, 30, 40, 10, 10, 10, 30, 20, 10, 10, 40, 10, 10, 10, 80, 20, 10, 10, 20, 130, 10, 10, 40, 20, 30, 30, 180, 520, 70, 10, 30, 20, 40, 80, 50, 10, 60, 80, 90, 10, 110, 30, 10, 90, 20, 50, 200, 60, 150, 10, 10, 30, 70, 60, 30, 20, 10, 80, 60, 80, 160, 280, 130, 80, 20, 30, 30, 30, 10, 10, 10, 30, 60, 10, 90, 230, 320, 200, 260, 10, 10, 10, 10, 20, 40, 30, 20, 60, 220, 430, 140, 10, 10, 20, 10, 20, 10, 10, 340, 330, 20, 50, 10, 60, 140, 20, 20, 20, 10, 10, 10, 10, 110, 10, 20, 10, 70, 10, 10, 10, 10, 10, 30]\n"
     ]
    }
   ],
   "source": [
    "print(count)"
   ]
  },
  {
   "cell_type": "code",
   "execution_count": 85,
   "id": "c71ea9d9-501d-48b3-9734-7fa6d99c500a",
   "metadata": {
    "tags": []
   },
   "outputs": [
    {
     "data": {
      "text/html": [
       "<div>\n",
       "<style scoped>\n",
       "    .dataframe tbody tr th:only-of-type {\n",
       "        vertical-align: middle;\n",
       "    }\n",
       "\n",
       "    .dataframe tbody tr th {\n",
       "        vertical-align: top;\n",
       "    }\n",
       "\n",
       "    .dataframe thead th {\n",
       "        text-align: right;\n",
       "    }\n",
       "</style>\n",
       "<table border=\"1\" class=\"dataframe\">\n",
       "  <thead>\n",
       "    <tr style=\"text-align: right;\">\n",
       "      <th></th>\n",
       "      <th>Count</th>\n",
       "      <th>Means</th>\n",
       "      <th>Variance</th>\n",
       "    </tr>\n",
       "  </thead>\n",
       "  <tbody>\n",
       "    <tr>\n",
       "      <th>0</th>\n",
       "      <td>500</td>\n",
       "      <td>2.360000</td>\n",
       "      <td>1.192786</td>\n",
       "    </tr>\n",
       "    <tr>\n",
       "      <th>1</th>\n",
       "      <td>10</td>\n",
       "      <td>4.000000</td>\n",
       "      <td>0.000000</td>\n",
       "    </tr>\n",
       "    <tr>\n",
       "      <th>2</th>\n",
       "      <td>10</td>\n",
       "      <td>1.000000</td>\n",
       "      <td>0.000000</td>\n",
       "    </tr>\n",
       "    <tr>\n",
       "      <th>3</th>\n",
       "      <td>10</td>\n",
       "      <td>2.000000</td>\n",
       "      <td>0.000000</td>\n",
       "    </tr>\n",
       "    <tr>\n",
       "      <th>4</th>\n",
       "      <td>10</td>\n",
       "      <td>3.000000</td>\n",
       "      <td>0.000000</td>\n",
       "    </tr>\n",
       "    <tr>\n",
       "      <th>...</th>\n",
       "      <td>...</td>\n",
       "      <td>...</td>\n",
       "      <td>...</td>\n",
       "    </tr>\n",
       "    <tr>\n",
       "      <th>146</th>\n",
       "      <td>10</td>\n",
       "      <td>1.000000</td>\n",
       "      <td>0.000000</td>\n",
       "    </tr>\n",
       "    <tr>\n",
       "      <th>147</th>\n",
       "      <td>10</td>\n",
       "      <td>2.000000</td>\n",
       "      <td>0.000000</td>\n",
       "    </tr>\n",
       "    <tr>\n",
       "      <th>148</th>\n",
       "      <td>10</td>\n",
       "      <td>3.000000</td>\n",
       "      <td>0.000000</td>\n",
       "    </tr>\n",
       "    <tr>\n",
       "      <th>149</th>\n",
       "      <td>10</td>\n",
       "      <td>3.000000</td>\n",
       "      <td>0.000000</td>\n",
       "    </tr>\n",
       "    <tr>\n",
       "      <th>150</th>\n",
       "      <td>30</td>\n",
       "      <td>3.666667</td>\n",
       "      <td>4.367816</td>\n",
       "    </tr>\n",
       "  </tbody>\n",
       "</table>\n",
       "<p>151 rows × 3 columns</p>\n",
       "</div>"
      ],
      "text/plain": [
       "     Count     Means  Variance\n",
       "0      500  2.360000  1.192786\n",
       "1       10  4.000000  0.000000\n",
       "2       10  1.000000  0.000000\n",
       "3       10  2.000000  0.000000\n",
       "4       10  3.000000  0.000000\n",
       "..     ...       ...       ...\n",
       "146     10  1.000000  0.000000\n",
       "147     10  2.000000  0.000000\n",
       "148     10  3.000000  0.000000\n",
       "149     10  3.000000  0.000000\n",
       "150     30  3.666667  4.367816\n",
       "\n",
       "[151 rows x 3 columns]"
      ]
     },
     "execution_count": 85,
     "metadata": {},
     "output_type": "execute_result"
    }
   ],
   "source": [
    "squares = pd.DataFrame({'Count': count, 'Means': means, 'Variance': variances})\n",
    "squares"
   ]
  },
  {
   "cell_type": "code",
   "execution_count": 86,
   "id": "ad055e37-d2f3-4672-b9cc-a23b6b3e9da6",
   "metadata": {
    "tags": []
   },
   "outputs": [
    {
     "data": {
      "text/plain": [
       "1.794606629613488"
      ]
     },
     "execution_count": 86,
     "metadata": {},
     "output_type": "execute_result"
    }
   ],
   "source": [
    "#the variation in levels within 1000x1000meter squares\n",
    "squares['Variance'].mean()"
   ]
  },
  {
   "cell_type": "code",
   "execution_count": 87,
   "id": "42364552-1e8d-47da-a364-eb1b28391498",
   "metadata": {
    "tags": []
   },
   "outputs": [
    {
     "data": {
      "text/plain": [
       "7.693876137508835"
      ]
     },
     "execution_count": 87,
     "metadata": {},
     "output_type": "execute_result"
    }
   ],
   "source": [
    "#the variation in levels in the entire Stockholm region \n",
    "all['building:levels'].astype('float').var()"
   ]
  },
  {
   "cell_type": "code",
   "execution_count": 93,
   "id": "9e47fd97-6202-4a51-9297-4e96ea9e6c6f",
   "metadata": {
    "tags": []
   },
   "outputs": [
    {
     "data": {
      "image/png": "[encoded data removed]",
      "text/plain": [
       "<Figure size 640x480 with 1 Axes>"
      ]
     },
     "metadata": {},
     "output_type": "display_data"
    }
   ],
   "source": [
    "#histogram of different variances within 1000x1000m squares\n",
    "plt.hist(squares['Variance'], bins=20)\n",
    "plt.ylabel('Amount')\n",
    "plt.xlabel('Variance within 1000x1000m area')\n",
    "plt.show()"
   ]
  },
  {
   "cell_type": "code",
   "execution_count": 96,
   "id": "c6f1e7ad-b6e3-4084-a26e-65753d92c2e6",
   "metadata": {
    "tags": []
   },
   "outputs": [
    {
     "data": {
      "image/png": "[encoded data removed]",
      "text/plain": [
       "<Figure size 640x480 with 1 Axes>"
      ]
     },
     "metadata": {},
     "output_type": "display_data"
    }
   ],
   "source": [
    "plt.hist(squares['Means'], bins=20)\n",
    "plt.ylabel('Amount')\n",
    "plt.xlabel('Level average in 1000x1000m areas')\n",
    "plt.show()"
   ]
  },
  {
   "cell_type": "code",
   "execution_count": 90,
   "id": "d79d0127-f82c-4d10-b4ac-f74ac6c24180",
   "metadata": {
    "tags": []
   },
   "outputs": [],
   "source": [
    "#looping through 500x500 squares of the data and collecting variances and means of level-data\n",
    "x = 650000\n",
    "size = 500\n",
    "\n",
    "count2 = []\n",
    "means2 = []\n",
    "variances2 = []\n",
    "\n",
    "while x < 681000-size:\n",
    "    y = 6566000\n",
    "    while y < 6598000-size:\n",
    "        temp = all.cx[x:x+size, y:y+size]\n",
    "        if temp.shape[0] > 1:\n",
    "            means2.append(temp['building:levels'].astype(float).mean())\n",
    "            variances2.append(temp['building:levels'].astype(float).var())\n",
    "            count2.append(temp.shape[0])\n",
    "        y += size\n",
    "        #print(x,y)\n",
    "    x += size"
   ]
  },
  {
   "cell_type": "code",
   "execution_count": 91,
   "id": "7bf99091-4cfb-40ec-8b1a-035bbfd1a019",
   "metadata": {
    "tags": []
   },
   "outputs": [
    {
     "data": {
      "text/plain": [
       "1.584496486106649"
      ]
     },
     "execution_count": 91,
     "metadata": {},
     "output_type": "execute_result"
    }
   ],
   "source": [
    "squares2 = pd.DataFrame({'Count': count2, 'Means': means2, 'Variance': variances2})\n",
    "\n",
    "#the variation in levels within 500x500meter squares\n",
    "squares2['Variance'].mean()"
   ]
  },
  {
   "cell_type": "code",
   "execution_count": 94,
   "id": "73e49572-4b82-43ef-80ea-fefe7d29bf3c",
   "metadata": {
    "tags": []
   },
   "outputs": [
    {
     "data": {
      "image/png": "[encoded data removed]",
      "text/plain": [
       "<Figure size 640x480 with 1 Axes>"
      ]
     },
     "metadata": {},
     "output_type": "display_data"
    }
   ],
   "source": [
    "#histogram of different variances within 500x500m squares\n",
    "plt.hist(squares2['Variance'], bins=20)\n",
    "plt.ylabel('Amount')\n",
    "plt.xlabel('Variance within 500x500m area')\n",
    "plt.show()"
   ]
  },
  {
   "cell_type": "code",
   "execution_count": null,
   "id": "e0bdf572-24b2-48de-b9c3-10c380e9b63a",
   "metadata": {},
   "outputs": [],
   "source": []
  }
 ],
 "metadata": {
  "kernelspec": {
   "display_name": "Python 3 (ipykernel)",
   "language": "python",
   "name": "python3"
  },
  "language_info": {
   "codemirror_mode": {
    "name": "ipython",
    "version": 3
   },
   "file_extension": ".py",
   "mimetype": "text/x-python",
   "name": "python",
   "nbconvert_exporter": "python",
   "pygments_lexer": "ipython3",
   "version": "3.10.6"
  }
 },
 "nbformat": 4,
 "nbformat_minor": 5
}
