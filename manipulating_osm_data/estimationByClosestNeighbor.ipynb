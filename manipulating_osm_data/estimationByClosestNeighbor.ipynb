{
 "cells": [
  {
   "cell_type": "code",
   "execution_count": 1,
   "id": "05b9518f-0ddb-436c-83ac-a5ea86b6e163",
   "metadata": {},
   "outputs": [],
   "source": [
    "import osmium\n",
    "import shapely.wkb as wkblib\n",
    "#import osmnx as ox\n",
    "import geopandas\n",
    "import pandas as pd\n",
    "import numpy as np\n",
    "from scipy.spatial.distance import cdist\n",
    "import matplotlib.pyplot as plt\n",
    "import random"
   ]
  },
  {
   "cell_type": "code",
   "execution_count": 2,
   "id": "6f6e880f-955c-47e6-8a77-0f58bbaa0d7b",
   "metadata": {},
   "outputs": [
    {
     "name": "stdout",
     "output_type": "stream",
     "text": [
      "--2023-04-15 20:23:32--  https://download.geofabrik.de/europe/austria-latest.osm.pbf\n",
      "Resolving download.geofabrik.de (download.geofabrik.de)... 65.109.50.43, 65.109.48.72\n",
      "Connecting to download.geofabrik.de (download.geofabrik.de)|65.109.50.43|:443... connected.\n",
      "HTTP request sent, awaiting response... 200 OK\n",
      "Length: 714846436 (682M) [application/octet-stream]\n",
      "Saving to: ‘./austria-latest.osm.pbf.1’\n",
      "\n",
      "austria-latest.osm. 100%[===================>] 681.73M  36.6MB/s    in 19s     \n",
      "\n",
      "2023-04-15 20:23:50 (36.8 MB/s) - ‘./austria-latest.osm.pbf.1’ saved [714846436/714846436]\n",
      "\n"
     ]
    }
   ],
   "source": [
    "#load any country you need -- exchange \"Sweden\" for some other country at your own risk!\n",
    "!wget https://download.geofabrik.de/europe/austria-latest.osm.pbf -P ./"
   ]
  },
  {
   "cell_type": "code",
   "execution_count": 3,
   "id": "7c2200cf-2e14-4b8e-9eab-69c1f0f8e1b9",
   "metadata": {},
   "outputs": [],
   "source": [
    "#you will need docker for this cell, but you can also skip this, it makes loading the osm-file faster\n",
    "#!docker run -d -w /wkd -v $(pwd):/wkd stefda/osmium-tool osmium tags-filter -o sweden-filtered.osm.pbf sweden-latest.osm.pbf building"
   ]
  },
  {
   "cell_type": "code",
   "execution_count": 4,
   "id": "dd5926e8-4d6a-4613-bb96-8b45939c38be",
   "metadata": {},
   "outputs": [],
   "source": [
    "class BuildingHandler(osmium.SimpleHandler):\n",
    "    def __init__(self):\n",
    "        osmium.SimpleHandler.__init__(self)\n",
    "        self.nodes_count = 0\n",
    "        self.nodes = []\n",
    "        self.building_count = 0\n",
    "        self.buildings = []\n",
    "        # A global factory that creates WKB from a osmium geometry\n",
    "        self.wkbfab = osmium.geom.WKBFactory()\n",
    "\n",
    "    def node(self, n):\n",
    "        if n.tags.get(\"building\") == 'yes':\n",
    "            try:\n",
    "                wkb = self.wkbfab.create_point(n)\n",
    "                geo = wkblib.loads(wkb, hex=True)\n",
    "            except Exception as e:\n",
    "                print(e)\n",
    "                return\n",
    "            row = { \"w_id\": n.id, \"geometry\": geo }\n",
    "            \n",
    "            for key, value in n.tags:\n",
    "                row[key] = value\n",
    "                \n",
    "            self.nodes.append(row)\n",
    "            self.nodes_count += 1\n",
    "        \n",
    "    def area(self, w):\n",
    "        if w.tags.get(\"building\") == 'yes':\n",
    "            try:\n",
    "                wkb = self.wkbfab.create_multipolygon(w)\n",
    "                geo = wkblib.loads(wkb, hex=True)\n",
    "            except Exception as e:\n",
    "                print(e)\n",
    "                return\n",
    "            row = { \"w_id\": w.id, \"geometry\": geo }\n",
    "\n",
    "            for key, value in w.tags:\n",
    "                row[key] = value\n",
    "\n",
    "            self.buildings.append(row)\n",
    "            self.building_count += 1"
   ]
  },
  {
   "cell_type": "markdown",
   "id": "6a07d93f",
   "metadata": {},
   "source": [
    "## finding closest building with levels info for every building without levels info"
   ]
  },
  {
   "cell_type": "code",
   "execution_count": 5,
   "id": "9a605db5",
   "metadata": {},
   "outputs": [],
   "source": [
    "file = \"/wrk/eurastof/EnergyMap/manipulating_osm_data/austria-latest.osm.pbf\""
   ]
  },
  {
   "cell_type": "code",
   "execution_count": 6,
   "id": "6929b5d5-9eb8-4f95-b458-417ae994b563",
   "metadata": {},
   "outputs": [],
   "source": [
    "def build_geodf(file):\n",
    "    \n",
    "    buildinghandler = BuildingHandler()\n",
    "    buildinghandler.apply_file(file, locations=True)\n",
    "    \n",
    "    i = 200000\n",
    "    while i-200000 < len(buildinghandler.buildings):\n",
    "        dfx = pd.DataFrame(buildinghandler.buildings[(i-200000):min([i, len(buildinghandler.buildings)-1])])\n",
    "        gdfx = geopandas.GeoDataFrame(dfx, geometry='geometry')\n",
    "        gdfx = gdfx.set_crs(\"EPSG:4326\")\n",
    "        #gdfx = ox.project_gdf(gdfx)\n",
    "        #gdfx = gdfx.dropna(subset=['building:levels'])\n",
    "        gdfx = gdfx[['w_id', 'geometry', 'building:levels']]\n",
    "        if i < 200001:\n",
    "            meta = gdfx\n",
    "        else:\n",
    "            meta = pd.concat([meta, gdfx])\n",
    "        print(meta.shape)\n",
    "        i += 200000\n",
    "    \n",
    "    return meta"
   ]
  },
  {
   "cell_type": "code",
   "execution_count": 7,
   "id": "8ab5779b",
   "metadata": {},
   "outputs": [
    {
     "name": "stdout",
     "output_type": "stream",
     "text": [
      "(200000, 3)\n",
      "(400000, 3)\n",
      "(600000, 3)\n",
      "(800000, 3)\n",
      "(1000000, 3)\n",
      "(1200000, 3)\n",
      "(1400000, 3)\n",
      "(1600000, 3)\n",
      "(1800000, 3)\n",
      "(2000000, 3)\n",
      "(2200000, 3)\n",
      "(2400000, 3)\n",
      "(2600000, 3)\n",
      "(2800000, 3)\n",
      "(3000000, 3)\n",
      "(3200000, 3)\n",
      "(3247276, 3)\n"
     ]
    }
   ],
   "source": [
    "df = build_geodf(file)"
   ]
  },
  {
   "cell_type": "code",
   "execution_count": 8,
   "id": "ca04d4a7",
   "metadata": {},
   "outputs": [],
   "source": [
    "geodf = df.copy()"
   ]
  },
  {
   "cell_type": "code",
   "execution_count": 9,
   "id": "37d539c0",
   "metadata": {},
   "outputs": [],
   "source": [
    "def predict_levels(with_levels_info, without_levels_info, k_neighbours):\n",
    "     # scaling to zero mean and unit variance, seems to lower accuracy.\n",
    "    \"\"\"for i in [0,1,2]:\n",
    "        with_levels_info[:,i] = (with_levels_info[:,0] - np.mean(with_levels_info[:,0])) / np.std(with_levels_info[:,0])\n",
    "        without_levels_info[:,i] = (without_levels_info[:,0] - np.mean(without_levels_info[:,0])) / np.std(without_levels_info[:,0])\"\"\"\n",
    "    \n",
    "    distances = cdist(without_levels_info[:,[0,1,2]], with_levels_info[:,[0,1,2]])\n",
    "    idx = np.argpartition(distances, k_neighbours, axis=1)\n",
    "    closest_k = idx[:,:k_neighbours]\n",
    "    means = []\n",
    "    for c in range(closest_k.shape[0]):\n",
    "        means.append(int(np.mean(with_levels_info[closest_k[c,:], 3])))\n",
    "    return means"
   ]
  },
  {
   "cell_type": "markdown",
   "id": "0e78ca94",
   "metadata": {},
   "source": [
    "## Making DataFrame of buildings along with predicted number of levels"
   ]
  },
  {
   "cell_type": "code",
   "execution_count": 10,
   "id": "e4c9e1c6",
   "metadata": {},
   "outputs": [],
   "source": [
    "k_neighbours = 3"
   ]
  },
  {
   "cell_type": "code",
   "execution_count": 11,
   "id": "e9f4216b",
   "metadata": {},
   "outputs": [],
   "source": [
    "def build_data_with_predictions(geodf, k_neighbours):\n",
    "    \n",
    "    geodf[\"geometry\"] = geodf[\"geometry\"].to_crs(\"EPSG:3857\") # to meters instead of lat, lon degees\n",
    "    geodf.loc[geodf['building:levels'].str.contains('[A-Za-z]', na=False)] = None\n",
    "    geodf.loc[geodf['building:levels'].str.contains('[;,.-]', na=False)] = None\n",
    "    geodf.loc[geodf['building:levels'] == \"0\"] = None\n",
    "    geodf[\"building:levels\"] = geodf[\"building:levels\"].astype(\"float\")\n",
    "    \n",
    "    areas = geodf[\"geometry\"].area\n",
    "    locations = geodf[\"geometry\"].centroid\n",
    "    levels = geodf[\"building:levels\"]\n",
    "    data = np.array([areas, locations.x, locations.y, levels]).T\n",
    "    predicted = np.isnan(data[:,3]).reshape(-1,1)\n",
    "    data = np.concatenate([data, predicted], axis=1)\n",
    "    \n",
    "    with_levels_info = data[np.where(~np.isnan(data[:,3]))]\n",
    "    \n",
    "    step = 10000\n",
    "    L = []\n",
    "\n",
    "    for i in range(0, data.shape[0], step):\n",
    "        current = data[i:i+step,:]\n",
    "        current_without_levels_info = np.where(np.isnan(current[:,3]))[0]\n",
    "        means = predict_levels(with_levels_info, current[current_without_levels_info,:], k_neighbours)\n",
    "        current[current_without_levels_info, 3] = means\n",
    "        L.append(current)\n",
    "        \n",
    "    data = np.concatenate(L)\n",
    "    \n",
    "    df = pd.DataFrame({\"base_area\": data[:,0], \"x\": data[:,1], \"y\": data[:,2],\n",
    "                       \"levels\": data[:,3], \"predicted\": data[:,4]})\n",
    "    return df\n",
    "\n",
    "D = build_data_with_predictions(geodf, k_neighbours)"
   ]
  },
  {
   "cell_type": "markdown",
   "id": "c88cf1f7",
   "metadata": {},
   "source": [
    "## Testing k-nearest accuracy against dummy model"
   ]
  },
  {
   "cell_type": "code",
   "execution_count": 13,
   "id": "61a65bea",
   "metadata": {},
   "outputs": [
    {
     "name": "stdout",
     "output_type": "stream",
     "text": [
      "Mean Absolute Error using k-nearest: 0.6325642141924249\n",
      "Mean Absolute Error using dummy model: 1.0203369445792005\n"
     ]
    }
   ],
   "source": [
    "\n",
    "def accuracy_test(dataframe, leave_out_fraction, k_neighbours):\n",
    "    \n",
    "    known = dataframe.loc[dataframe[\"predicted\"] == 0]\n",
    "    known_index = list(known.index)\n",
    "    \n",
    "    mean_errors = []\n",
    "    mean_dummy_errors = []\n",
    "     \n",
    "    for i in range(10):\n",
    "        \n",
    "        random.shuffle(known_index)\n",
    "        to_predict = known_index[:int(leave_out_fraction*len(known_index))]\n",
    "        to_use = known_index[int(leave_out_fraction*len(known_index)):]\n",
    "        true_levels = dataframe.iloc[to_predict][\"levels\"]\n",
    "        predicted_levels = predict_levels(np.array(dataframe.iloc[to_use]), np.array(dataframe.iloc[to_predict]), k_neighbours)\n",
    "        \n",
    "        mean_abs_error = np.mean(np.abs(true_levels - predicted_levels))\n",
    "        mean_errors.append(mean_abs_error)\n",
    "        \n",
    "        mean_dummy_error = np.mean(np.abs(true_levels - np.mean(np.array(dataframe.iloc[to_use])[:,3]))) # error in assigning unknown values as mean of known ones\n",
    "        mean_dummy_errors.append(mean_dummy_error)\n",
    "\n",
    "    print(f\"Mean Absolute Error using k-nearest: {np.mean(mean_errors)}\")\n",
    "    print(f\"Mean Absolute Error using dummy model: {np.mean(mean_dummy_errors)}\")\n",
    "    \n",
    "    \n",
    "\n",
    "    \n",
    "accuracy_test(D, 0.1, k_neighbours)"
   ]
  },
  {
   "cell_type": "code",
   "execution_count": null,
   "id": "244154e0",
   "metadata": {},
   "outputs": [],
   "source": []
  }
 ],
 "metadata": {
  "kernelspec": {
   "display_name": "Python 3.10.6 64-bit",
   "language": "python",
   "name": "python3"
  },
  "language_info": {
   "codemirror_mode": {
    "name": "ipython",
    "version": 3
   },
   "file_extension": ".py",
   "mimetype": "text/x-python",
   "name": "python",
   "nbconvert_exporter": "python",
   "pygments_lexer": "ipython3",
   "version": "3.10.6"
  },
  "vscode": {
   "interpreter": {
    "hash": "31f2aee4e71d21fbe5cf8b01ff0e069b9275f58929596ceb00d14d90e3e16cd6"
   }
  }
 },
 "nbformat": 4,
 "nbformat_minor": 5
}
