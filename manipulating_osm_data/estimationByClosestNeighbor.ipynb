{
 "cells": [
  {
   "cell_type": "code",
   "execution_count": 165,
   "id": "05b9518f-0ddb-436c-83ac-a5ea86b6e163",
   "metadata": {},
   "outputs": [],
   "source": [
    "import osmium\n",
    "import shapely.wkb as wkblib\n",
    "#import osmnx as ox\n",
    "import geopandas\n",
    "import pandas as pd\n",
    "import numpy as np\n",
    "from scipy.spatial.distance import cdist\n",
    "import matplotlib.pyplot as plt"
   ]
  },
  {
   "cell_type": "code",
   "execution_count": 3,
   "id": "6f6e880f-955c-47e6-8a77-0f58bbaa0d7b",
   "metadata": {},
   "outputs": [],
   "source": [
    "#load any country you need -- exchange \"Sweden\" for some other country at your own risk!\n",
    "!wget https://download.geofabrik.de/europe/estonia-latest.osm.pbf -P ./"
   ]
  },
  {
   "cell_type": "code",
   "execution_count": 4,
   "id": "7c2200cf-2e14-4b8e-9eab-69c1f0f8e1b9",
   "metadata": {},
   "outputs": [],
   "source": [
    "#you will need docker for this cell, but you can also skip this, it makes loading the osm-file faster\n",
    "!docker run -d -w /wkd -v $(pwd):/wkd stefda/osmium-tool osmium tags-filter -o sweden-filtered.osm.pbf sweden-latest.osm.pbf building"
   ]
  },
  {
   "cell_type": "code",
   "execution_count": 2,
   "id": "dd5926e8-4d6a-4613-bb96-8b45939c38be",
   "metadata": {},
   "outputs": [],
   "source": [
    "class BuildingHandler(osmium.SimpleHandler):\n",
    "    def __init__(self):\n",
    "        osmium.SimpleHandler.__init__(self)\n",
    "        self.nodes_count = 0\n",
    "        self.nodes = []\n",
    "        self.building_count = 0\n",
    "        self.buildings = []\n",
    "        # A global factory that creates WKB from a osmium geometry\n",
    "        self.wkbfab = osmium.geom.WKBFactory()\n",
    "\n",
    "    def node(self, n):\n",
    "        if n.tags.get(\"building\") == 'yes':\n",
    "            try:\n",
    "                wkb = self.wkbfab.create_point(n)\n",
    "                geo = wkblib.loads(wkb, hex=True)\n",
    "            except Exception as e:\n",
    "                print(e)\n",
    "                return\n",
    "            row = { \"w_id\": n.id, \"geometry\": geo }\n",
    "            \n",
    "            for key, value in n.tags:\n",
    "                row[key] = value\n",
    "                \n",
    "            self.nodes.append(row)\n",
    "            self.nodes_count += 1\n",
    "        \n",
    "    def area(self, w):\n",
    "        if w.tags.get(\"building\") == 'yes':\n",
    "            try:\n",
    "                wkb = self.wkbfab.create_multipolygon(w)\n",
    "                geo = wkblib.loads(wkb, hex=True)\n",
    "            except Exception as e:\n",
    "                print(e)\n",
    "                return\n",
    "            row = { \"w_id\": w.id, \"geometry\": geo }\n",
    "\n",
    "            for key, value in w.tags:\n",
    "                row[key] = value\n",
    "\n",
    "            self.buildings.append(row)\n",
    "            self.building_count += 1"
   ]
  },
  {
   "cell_type": "markdown",
   "id": "6a07d93f",
   "metadata": {},
   "source": [
    "## finding closest building with levels info for every building without levels info"
   ]
  },
  {
   "cell_type": "code",
   "execution_count": 150,
   "id": "9a605db5",
   "metadata": {},
   "outputs": [],
   "source": [
    "file = \"/wrk/eurastof/EnergyMap/manipulating_osm_data/estonia-latest.osm.pbf\""
   ]
  },
  {
   "cell_type": "code",
   "execution_count": 151,
   "id": "ba61b9b3-238a-47cc-8807-adcc92126143",
   "metadata": {},
   "outputs": [],
   "source": [
    "#loading the file into\n",
    "buildinghandler = BuildingHandler()\n",
    "buildinghandler.apply_file(file, locations=True)"
   ]
  },
  {
   "cell_type": "code",
   "execution_count": 152,
   "id": "6929b5d5-9eb8-4f95-b458-417ae994b563",
   "metadata": {},
   "outputs": [
    {
     "name": "stdout",
     "output_type": "stream",
     "text": [
      "(200000, 3)\n",
      "(400000, 3)\n",
      "(600000, 3)\n",
      "(800000, 3)\n",
      "(808304, 3)\n"
     ]
    }
   ],
   "source": [
    "i = 200000\n",
    "while i-200000 < len(buildinghandler.buildings):\n",
    "    dfx = pd.DataFrame(buildinghandler.buildings[(i-200000):min([i, len(buildinghandler.buildings)-1])])\n",
    "    gdfx = geopandas.GeoDataFrame(dfx, geometry='geometry')\n",
    "    gdfx = gdfx.set_crs(\"EPSG:4326\")\n",
    "    #gdfx = ox.project_gdf(gdfx)\n",
    "    #gdfx = gdfx.dropna(subset=['building:levels'])\n",
    "    gdfx = gdfx[['w_id', 'geometry', 'building:levels']]\n",
    "    if i < 200001:\n",
    "        meta = gdfx\n",
    "    else:\n",
    "        meta = pd.concat([meta, gdfx])\n",
    "    print(meta.shape)\n",
    "    i += 200000"
   ]
  },
  {
   "cell_type": "code",
   "execution_count": 153,
   "id": "eb68fe57",
   "metadata": {},
   "outputs": [],
   "source": [
    "meta[\"geometry\"] = meta[\"geometry\"].to_crs(\"EPSG:3857\") # to meters instead of lat, lon degees"
   ]
  },
  {
   "cell_type": "code",
   "execution_count": 154,
   "id": "837b966c",
   "metadata": {},
   "outputs": [
    {
     "name": "stderr",
     "output_type": "stream",
     "text": [
      "/home/eurastof/.local/lib/python3.10/site-packages/geopandas/geodataframe.py:1443: SettingWithCopyWarning: \n",
      "A value is trying to be set on a copy of a slice from a DataFrame.\n",
      "Try using .loc[row_indexer,col_indexer] = value instead\n",
      "\n",
      "See the caveats in the documentation: https://pandas.pydata.org/pandas-docs/stable/user_guide/indexing.html#returning-a-view-versus-a-copy\n",
      "  super().__setitem__(key, value)\n"
     ]
    }
   ],
   "source": [
    "meta[(meta['building:levels'].str.contains('[A-Za-z]')) | (meta['building:levels'].str.contains('[;-]'))][\"building:levels\"] = None\n",
    "meta[meta['building:levels'] == \"0\"] = None\n",
    "meta[\"building:levels\"] = meta[\"building:levels\"].str.replace(\",\", \".\")\n",
    "meta[\"building:levels\"] = meta[\"building:levels\"].astype(\"float\")"
   ]
  },
  {
   "cell_type": "code",
   "execution_count": 155,
   "id": "030066d7",
   "metadata": {},
   "outputs": [],
   "source": [
    "areas = meta[\"geometry\"].area\n",
    "locations = meta[\"geometry\"].centroid\n",
    "levels = meta[\"building:levels\"]\n",
    "data = np.array([areas, locations.x, locations.y, levels]).T"
   ]
  },
  {
   "cell_type": "code",
   "execution_count": 156,
   "id": "e9f4216b",
   "metadata": {},
   "outputs": [],
   "source": [
    "with_levels_info = data[np.where(~np.isnan(data[:,3]))]"
   ]
  },
  {
   "cell_type": "code",
   "execution_count": 157,
   "id": "67749a0c",
   "metadata": {},
   "outputs": [],
   "source": [
    "# Predicting level number using base area and building location\n",
    "\n",
    "step = 1000\n",
    "L = []\n",
    "for i in range(0, data.shape[0], step):\n",
    "    current = data[i:i+step,:]\n",
    "    current_without_levels_info = np.where(np.isnan(current[:,3]))[0]\n",
    "    distances = cdist(current[current_without_levels_info,:-1], with_levels_info[:,:-1])\n",
    "    closest_with_info = np.argmin(distances, axis=1)\n",
    "    current[current_without_levels_info,3] = with_levels_info[closest_with_info, 3]\n",
    "    L.append(current)\n",
    "    \n",
    "data = np.concatenate(L)\n"
   ]
  },
  {
   "cell_type": "code",
   "execution_count": 190,
   "id": "98617ac7",
   "metadata": {},
   "outputs": [
    {
     "name": "stdout",
     "output_type": "stream",
     "text": [
      "Mean Absolute Error: 0.785, variance in error 3.7654749999999995\n",
      "Mean Absolute Error: 0.575, variance in error 2.0718750000000004\n",
      "Mean Absolute Error: 0.85, variance in error 3.0650999999999997\n",
      "Mean Absolute Error: 0.782, variance in error 2.538536\n",
      "Mean Absolute Error: 1.225, variance in error 8.983274999999999\n"
     ]
    }
   ],
   "source": [
    "# Calculating prediction accuracy\n",
    "\n",
    "import random\n",
    "\n",
    "known_levels_index = list(levels.dropna().index)\n",
    "\n",
    "for _ in range(5):\n",
    "    \n",
    "    random.shuffle(known_levels_index)\n",
    "    left_out = known_levels_index[:100]\n",
    "    left_out_data = data[left_out,:]\n",
    "    included = known_levels_index[100:]\n",
    "    included_data = data[included,:]\n",
    "    \n",
    "    distances = cdist(left_out_data[:,:-1], included_data[:,:-1])\n",
    "    closest = np.argmin(distances, axis=1)\n",
    "    predicted_levels = included_data[closest,3]\n",
    "    true_levels = left_out_data[:,3]\n",
    "    \n",
    "    mean_abs_error = np.mean(np.abs(true_levels - predicted_levels))\n",
    "    var = np.var(true_levels - predicted_levels)\n",
    "    \n",
    "    print(f\"Mean Absolute Error: {mean_abs_error}, variance in error {var}\")\n",
    "\n",
    "\n",
    "\n",
    "\n",
    "\n",
    "\n",
    "\n"
   ]
  }
 ],
 "metadata": {
  "kernelspec": {
   "display_name": "Python 3.10.6 64-bit",
   "language": "python",
   "name": "python3"
  },
  "language_info": {
   "codemirror_mode": {
    "name": "ipython",
    "version": 3
   },
   "file_extension": ".py",
   "mimetype": "text/x-python",
   "name": "python",
   "nbconvert_exporter": "python",
   "pygments_lexer": "ipython3",
   "version": "3.10.6"
  },
  "vscode": {
   "interpreter": {
    "hash": "31f2aee4e71d21fbe5cf8b01ff0e069b9275f58929596ceb00d14d90e3e16cd6"
   }
  }
 },
 "nbformat": 4,
 "nbformat_minor": 5
}
