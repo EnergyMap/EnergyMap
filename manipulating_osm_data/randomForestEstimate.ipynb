{
 "cells": [
  {
   "cell_type": "code",
   "execution_count": 1,
   "id": "05b9518f-0ddb-436c-83ac-a5ea86b6e163",
   "metadata": {
    "tags": []
   },
   "outputs": [],
   "source": [
    "import osmium\n",
    "import shapely.wkb as wkblib\n",
    "#import osmnx as ox\n",
    "import geopandas\n",
    "import pandas as pd\n",
    "import numpy as np\n",
    "from scipy.spatial.distance import cdist\n",
    "import matplotlib.pyplot as plt\n",
    "import random"
   ]
  },
  {
   "cell_type": "code",
   "execution_count": 52,
   "id": "6f6e880f-955c-47e6-8a77-0f58bbaa0d7b",
   "metadata": {},
   "outputs": [
    {
     "name": "stdout",
     "output_type": "stream",
     "text": [
      "--2023-04-17 21:04:13--  https://download.geofabrik.de/europe/austria-latest.osm.pbf\n",
      "Resolving download.geofabrik.de (download.geofabrik.de)... 65.109.48.72, 65.109.50.43\n",
      "Connecting to download.geofabrik.de (download.geofabrik.de)|65.109.48.72|:443... connected.\n",
      "HTTP request sent, awaiting response... 200 OK\n",
      "Length: 715106890 (682M) [application/octet-stream]\n",
      "Saving to: ‘austria-latest.osm.pbf’\n",
      "\n",
      "austria-latest.osm. 100%[===================>] 681.98M  61.7MB/s    in 15s     \n",
      "\n",
      "2023-04-17 21:04:28 (44.8 MB/s) - ‘austria-latest.osm.pbf’ saved [715106890/715106890]\n",
      "\n"
     ]
    }
   ],
   "source": [
    "#load any country you need -- exchange \"Sweden\" for some other country at your own risk!\n",
    "!wget https://download.geofabrik.de/europe/austria-latest.osm.pbf "
   ]
  },
  {
   "cell_type": "code",
   "execution_count": 53,
   "id": "7c2200cf-2e14-4b8e-9eab-69c1f0f8e1b9",
   "metadata": {},
   "outputs": [
    {
     "name": "stdout",
     "output_type": "stream",
     "text": [
      "c2708f48418fa75ea1dae9256db34ad605980d5c07c894a2cbc41dca25d44ffa\n"
     ]
    }
   ],
   "source": [
    "#you will need docker for this cell, but you can also skip this, it makes loading the osm-file faster\n",
    "!docker run -d -w /wkd -v $(pwd):/wkd stefda/osmium-tool osmium tags-filter -o austria-filtered.osm.pbf austria-latest.osm.pbf building"
   ]
  },
  {
   "cell_type": "code",
   "execution_count": 2,
   "id": "dd5926e8-4d6a-4613-bb96-8b45939c38be",
   "metadata": {
    "tags": []
   },
   "outputs": [],
   "source": [
    "class BuildingHandler(osmium.SimpleHandler):\n",
    "    def __init__(self):\n",
    "        osmium.SimpleHandler.__init__(self)\n",
    "        self.nodes_count = 0\n",
    "        self.nodes = []\n",
    "        self.building_count = 0\n",
    "        self.buildings = []\n",
    "        # A global factory that creates WKB from a osmium geometry\n",
    "        self.wkbfab = osmium.geom.WKBFactory()\n",
    "\n",
    "    def node(self, n):\n",
    "        if n.tags.get(\"building\") == 'yes':\n",
    "            try:\n",
    "                wkb = self.wkbfab.create_point(n)\n",
    "                geo = wkblib.loads(wkb, hex=True)\n",
    "            except Exception as e:\n",
    "                print(e)\n",
    "                return\n",
    "            row = { \"w_id\": n.id, \"geometry\": geo }\n",
    "            \n",
    "            for key, value in n.tags:\n",
    "                row[key] = value\n",
    "                \n",
    "            self.nodes.append(row)\n",
    "            self.nodes_count += 1\n",
    "        \n",
    "    def area(self, w):\n",
    "        if w.tags.get(\"building\") == 'yes':\n",
    "            try:\n",
    "                wkb = self.wkbfab.create_multipolygon(w)\n",
    "                geo = wkblib.loads(wkb, hex=True)\n",
    "            except Exception as e:\n",
    "                print(e)\n",
    "                return\n",
    "            row = { \"w_id\": w.id, \"geometry\": geo }\n",
    "\n",
    "            for key, value in w.tags:\n",
    "                row[key] = value\n",
    "\n",
    "            self.buildings.append(row)\n",
    "            self.building_count += 1"
   ]
  },
  {
   "cell_type": "code",
   "execution_count": 3,
   "id": "9a605db5",
   "metadata": {
    "tags": []
   },
   "outputs": [],
   "source": [
    "file = \"sweden-filtered.osm.pbf\""
   ]
  },
  {
   "cell_type": "code",
   "execution_count": 3,
   "id": "a0e2a933-2f6f-4985-925d-aa50f98a6f9a",
   "metadata": {
    "tags": []
   },
   "outputs": [],
   "source": [
    "file2 = \"austria-filtered.osm.pbf\""
   ]
  },
  {
   "cell_type": "code",
   "execution_count": 4,
   "id": "6929b5d5-9eb8-4f95-b458-417ae994b563",
   "metadata": {
    "tags": []
   },
   "outputs": [],
   "source": [
    "def build_geodf(file):\n",
    "    \n",
    "    buildinghandler = BuildingHandler()\n",
    "    buildinghandler.apply_file(file, locations=True)\n",
    "    \n",
    "    i = 200000\n",
    "    while i-200000 < len(buildinghandler.buildings):\n",
    "        dfx = pd.DataFrame(buildinghandler.buildings[(i-200000):min([i, len(buildinghandler.buildings)-1])])\n",
    "        gdfx = geopandas.GeoDataFrame(dfx, geometry='geometry')\n",
    "        gdfx = gdfx.set_crs(\"EPSG:4326\")\n",
    "        #gdfx = ox.project_gdf(gdfx)\n",
    "        #gdfx = gdfx.dropna(subset=['building:levels'])\n",
    "        gdfx = gdfx[['w_id', 'geometry', 'building:levels']]\n",
    "        if i < 200001:\n",
    "            meta = gdfx\n",
    "        else:\n",
    "            meta = pd.concat([meta, gdfx])\n",
    "        print(meta.shape)\n",
    "        i += 200000\n",
    "    \n",
    "    return meta"
   ]
  },
  {
   "cell_type": "code",
   "execution_count": 5,
   "id": "8ab5779b",
   "metadata": {
    "tags": []
   },
   "outputs": [
    {
     "name": "stdout",
     "output_type": "stream",
     "text": [
      "invalid area (area_id=2323208800)\n",
      "invalid area (area_id=2324227006)\n",
      "(200000, 3)\n",
      "(400000, 3)\n",
      "(600000, 3)\n",
      "(800000, 3)\n",
      "(1000000, 3)\n",
      "(1200000, 3)\n",
      "(1400000, 3)\n",
      "(1600000, 3)\n",
      "(1800000, 3)\n",
      "(2000000, 3)\n",
      "(2103704, 3)\n"
     ]
    }
   ],
   "source": [
    "df = build_geodf(file)"
   ]
  },
  {
   "cell_type": "code",
   "execution_count": null,
   "id": "aecb1f38-2c69-4847-87a5-d484a0b70714",
   "metadata": {
    "tags": []
   },
   "outputs": [
    {
     "name": "stdout",
     "output_type": "stream",
     "text": [
      "(200000, 3)\n"
     ]
    }
   ],
   "source": [
    "df2 = build_geodf(file2)"
   ]
  },
  {
   "cell_type": "code",
   "execution_count": 7,
   "id": "ca04d4a7",
   "metadata": {
    "tags": []
   },
   "outputs": [],
   "source": [
    "geodf = df.copy()"
   ]
  },
  {
   "cell_type": "code",
   "execution_count": 8,
   "id": "c782a8f2-33c5-4c09-9ec7-c6b853fb72a0",
   "metadata": {
    "tags": []
   },
   "outputs": [],
   "source": [
    "geodf[\"geometry\"] = geodf[\"geometry\"].to_crs(\"EPSG:3857\") # to meters instead of lat, lon degees\n",
    "geodf.loc[geodf['building:levels'].str.contains('[A-Za-z]', na=False)] = None\n",
    "geodf.loc[geodf['building:levels'].str.contains('[;,.-]', na=False)] = None\n",
    "geodf.loc[geodf['building:levels'] == \"0\"] = None\n",
    "geodf[\"building:levels\"] = geodf[\"building:levels\"].astype(\"float\")"
   ]
  },
  {
   "cell_type": "code",
   "execution_count": 9,
   "id": "e58456cc-afe8-4e56-ad65-3dacaea8e19c",
   "metadata": {
    "tags": []
   },
   "outputs": [
    {
     "data": {
      "text/plain": [
       "array([[1.38563299e+05, 1.36866770e+06, 7.89792886e+06,            nan],\n",
       "       [6.52691768e+03, 1.37483306e+06, 8.03408778e+06,            nan],\n",
       "       [4.80110734e+04, 1.99577001e+06, 8.32098602e+06, 4.00000000e+00],\n",
       "       ...,\n",
       "       [3.47616274e+02, 1.45504725e+06, 7.66865030e+06,            nan],\n",
       "       [5.20651090e+02, 1.45507190e+06, 7.66869958e+06,            nan],\n",
       "       [2.24230732e+02, 1.45505722e+06, 7.66871870e+06,            nan]])"
      ]
     },
     "execution_count": 9,
     "metadata": {},
     "output_type": "execute_result"
    }
   ],
   "source": [
    "areas = geodf[\"geometry\"].area\n",
    "locations = geodf[\"geometry\"].centroid\n",
    "levels = geodf[\"building:levels\"]\n",
    "data = np.array([areas, locations.x, locations.y, levels]).T\n",
    "data"
   ]
  },
  {
   "cell_type": "code",
   "execution_count": 10,
   "id": "2bc5f5a2-c23d-44d9-89cf-610dbbb9b4c0",
   "metadata": {
    "tags": []
   },
   "outputs": [],
   "source": [
    "data = data[np.where(~np.isnan(data[:,3]))]"
   ]
  },
  {
   "cell_type": "code",
   "execution_count": 11,
   "id": "18eb3bd4-6afe-44e9-9d9f-b20f94c22db9",
   "metadata": {
    "tags": []
   },
   "outputs": [],
   "source": [
    "x = data[:, :3]\n",
    "y = data[:, 3]"
   ]
  },
  {
   "cell_type": "code",
   "execution_count": 12,
   "id": "41952839-d222-401f-8189-589e6b7ca909",
   "metadata": {
    "tags": []
   },
   "outputs": [],
   "source": [
    "from sklearn.model_selection import train_test_split, cross_val_score"
   ]
  },
  {
   "cell_type": "code",
   "execution_count": 13,
   "id": "7f69eed6-42fa-423a-9649-da8aeeb5e3e3",
   "metadata": {
    "tags": []
   },
   "outputs": [],
   "source": [
    "X_train, X_test, y_train, y_test = train_test_split(\n",
    "    x, y, train_size=10000, random_state=42, shuffle=True\n",
    ")"
   ]
  },
  {
   "cell_type": "code",
   "execution_count": 14,
   "id": "626b7440-5586-4a77-ad47-8cd460fc0859",
   "metadata": {
    "tags": []
   },
   "outputs": [
    {
     "data": {
      "text/plain": [
       "array([1.08, 1.85, 1.99, ..., 3.21, 1.76, 4.54])"
      ]
     },
     "execution_count": 14,
     "metadata": {},
     "output_type": "execute_result"
    }
   ],
   "source": [
    "from sklearn.ensemble import RandomForestRegressor\n",
    "rfr = RandomForestRegressor(criterion='absolute_error')\n",
    "pred = rfr.fit(X_train, y_train).predict(X_test)\n",
    "pred"
   ]
  },
  {
   "cell_type": "code",
   "execution_count": 19,
   "id": "d30b363a-8669-4ca2-bbad-67c22a33008c",
   "metadata": {
    "tags": []
   },
   "outputs": [
    {
     "data": {
      "text/plain": [
       "0.5665789473684211"
      ]
     },
     "execution_count": 19,
     "metadata": {},
     "output_type": "execute_result"
    }
   ],
   "source": [
    "np.abs((np.rint(pred)- y_test)).mean()"
   ]
  },
  {
   "cell_type": "code",
   "execution_count": null,
   "id": "13a71af4-3fa2-418d-a04e-2f66945873c6",
   "metadata": {},
   "outputs": [],
   "source": []
  }
 ],
 "metadata": {
  "kernelspec": {
   "display_name": "Python 3 (ipykernel)",
   "language": "python",
   "name": "python3"
  },
  "language_info": {
   "codemirror_mode": {
    "name": "ipython",
    "version": 3
   },
   "file_extension": ".py",
   "mimetype": "text/x-python",
   "name": "python",
   "nbconvert_exporter": "python",
   "pygments_lexer": "ipython3",
   "version": "3.10.6"
  },
  "vscode": {
   "interpreter": {
    "hash": "31f2aee4e71d21fbe5cf8b01ff0e069b9275f58929596ceb00d14d90e3e16cd6"
   }
  }
 },
 "nbformat": 4,
 "nbformat_minor": 5
}
