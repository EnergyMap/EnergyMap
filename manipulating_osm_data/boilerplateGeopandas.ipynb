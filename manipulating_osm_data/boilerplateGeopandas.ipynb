{
 "cells": [
  {
   "cell_type": "code",
   "execution_count": null,
   "id": "05b9518f-0ddb-436c-83ac-a5ea86b6e163",
   "metadata": {},
   "outputs": [],
   "source": [
    "import osmium\n",
    "import shapely.wkb as wkblib\n",
    "import osmnx as ox\n",
    "import geopandas"
   ]
  },
  {
   "cell_type": "code",
   "execution_count": null,
   "id": "6f6e880f-955c-47e6-8a77-0f58bbaa0d7b",
   "metadata": {},
   "outputs": [],
   "source": [
    "#load any country you need -- exchange \"Sweden\" for some other country at your own risk!\n",
    "!wget https://download.geofabrik.de/europe/sweden-latest.osm.pbf"
   ]
  },
  {
   "cell_type": "code",
   "execution_count": null,
   "id": "7c2200cf-2e14-4b8e-9eab-69c1f0f8e1b9",
   "metadata": {},
   "outputs": [],
   "source": [
    "#you will need docker for this cell, but you can also skip this, it makes loading the osm-file faster\n",
    "!docker run -d -w /wkd -v $(pwd):/wkd stefda/osmium-tool osmium tags-filter -o sweden-filtered.osm.pbf sweden-latest.osm.pbf building"
   ]
  },
  {
   "cell_type": "code",
   "execution_count": null,
   "id": "dd5926e8-4d6a-4613-bb96-8b45939c38be",
   "metadata": {},
   "outputs": [],
   "source": [
    "class BuildingHandler(osmium.SimpleHandler):\n",
    "    def __init__(self):\n",
    "        osmium.SimpleHandler.__init__(self)\n",
    "        self.nodes_count = 0\n",
    "        self.nodes = []\n",
    "        self.building_count = 0\n",
    "        self.buildings = []\n",
    "        # A global factory that creates WKB from a osmium geometry\n",
    "        self.wkbfab = osmium.geom.WKBFactory()\n",
    "\n",
    "    def node(self, n):\n",
    "        if n.tags.get(\"building\") == 'yes':\n",
    "            try:\n",
    "                wkb = self.wkbfab.create_point(n)\n",
    "                geo = wkblib.loads(wkb, hex=True)\n",
    "            except Exception as e:\n",
    "                print(e)\n",
    "                return\n",
    "            row = { \"w_id\": n.id, \"geometry\": geo }\n",
    "            \n",
    "            for key, value in n.tags:\n",
    "                row[key] = value\n",
    "                \n",
    "            self.nodes.append(row)\n",
    "            self.nodes_count += 1\n",
    "        \n",
    "    def area(self, w):\n",
    "        if w.tags.get(\"building\") == 'yes':\n",
    "            try:\n",
    "                wkb = self.wkbfab.create_multipolygon(w)\n",
    "                geo = wkblib.loads(wkb, hex=True)\n",
    "            except Exception as e:\n",
    "                print(e)\n",
    "                return\n",
    "            row = { \"w_id\": w.id, \"geometry\": geo }\n",
    "\n",
    "            for key, value in w.tags:\n",
    "                row[key] = value\n",
    "\n",
    "            self.buildings.append(row)\n",
    "            self.building_count += 1"
   ]
  },
  {
   "cell_type": "code",
   "execution_count": null,
   "id": "ba61b9b3-238a-47cc-8807-adcc92126143",
   "metadata": {},
   "outputs": [],
   "source": [
    "#loading the file into\n",
    "buildinghandler = BuildingHandler()\n",
    "buildinghandler.apply_file(\"sweden-filtered.osm.pbf\", locations=True)"
   ]
  },
  {
   "cell_type": "code",
   "execution_count": null,
   "id": "6929b5d5-9eb8-4f95-b458-417ae994b563",
   "metadata": {},
   "outputs": [],
   "source": [
    "i = 200000\n",
    "while i-200000 < len(buildinghandler.buildings):\n",
    "    dfx = pd.DataFrame(buildinghandler.buildings[(i-200000):min([i, len(buildinghandler.buildings)-1])])\n",
    "    gdfx = geopandas.GeoDataFrame(dfx, geometry='geometry')\n",
    "    gdfx = gdfx.set_crs(\"EPSG:4326\")\n",
    "    gdfx = ox.project_gdf(gdfx)\n",
    "    #gdfx = gdfx.dropna(subset=['building:levels'])\n",
    "    gdfx = gdfx[['w_id', 'geometry', 'building:levels']]\n",
    "    if i < 200001:\n",
    "        meta = gdfx\n",
    "    else:\n",
    "        meta = pd.concat([meta, gdfx])\n",
    "    print(meta.shape)\n",
    "    i += 200000"
   ]
  },
  {
   "cell_type": "code",
   "execution_count": null,
   "id": "46852b28-61c9-4c9f-8593-7bc6a73ed736",
   "metadata": {},
   "outputs": [],
   "source": [
    "reg = meta[meta['building:levels'].str.contains('[A-Za-z]') == False]\n",
    "reg = reg[reg['building:levels'].str.contains('[;-]') == False]"
   ]
  },
  {
   "cell_type": "code",
   "execution_count": null,
   "id": "d053f0c9-7705-43fa-99ce-ec667634951f",
   "metadata": {},
   "outputs": [],
   "source": [
    "#use method .area to get area of buildings, e.g., reg.area"
   ]
  }
 ],
 "metadata": {
  "kernelspec": {
   "display_name": "Python 3 (ipykernel)",
   "language": "python",
   "name": "python3"
  },
  "language_info": {
   "codemirror_mode": {
    "name": "ipython",
    "version": 3
   },
   "file_extension": ".py",
   "mimetype": "text/x-python",
   "name": "python",
   "nbconvert_exporter": "python",
   "pygments_lexer": "ipython3",
   "version": "3.10.6"
  }
 },
 "nbformat": 4,
 "nbformat_minor": 5
}
