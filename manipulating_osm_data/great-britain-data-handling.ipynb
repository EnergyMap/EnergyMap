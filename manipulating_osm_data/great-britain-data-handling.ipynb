{
 "cells": [
  {
   "cell_type": "code",
   "execution_count": 2,
   "id": "70f3c77a-ece0-46e6-bb09-c0aa4fb431c7",
   "metadata": {
    "tags": []
   },
   "outputs": [],
   "source": [
    "import osmium\n",
    "import shapely.wkb as wkblib\n",
    "import pandas as pd\n",
    "import geopandas\n",
    "import osmnx as ox\n",
    "import matplotlib.pyplot as plt\n",
    "import psutil"
   ]
  },
  {
   "cell_type": "code",
   "execution_count": 18,
   "id": "e8175f4b-8881-405d-90c2-2e1d9575c3ed",
   "metadata": {
    "tags": []
   },
   "outputs": [
    {
     "name": "stdout",
     "output_type": "stream",
     "text": [
      "--2023-03-22 07:45:53--  http://download.geofabrik.de/europe/great-britain-latest.osm.pbf\n",
      "Resolving download.geofabrik.de (download.geofabrik.de)... 65.109.50.43, 65.109.48.72\n",
      "Connecting to download.geofabrik.de (download.geofabrik.de)|65.109.50.43|:80... connected.\n",
      "HTTP request sent, awaiting response... 200 OK\n",
      "Length: 1597102569 (1.5G) [application/octet-stream]\n",
      "Saving to: ‘great-britain-latest.osm.pbf’\n",
      "\n",
      "great-britain-lates 100%[===================>]   1.49G  24.8MB/s    in 53s     \n",
      "\n",
      "2023-03-22 07:46:47 (28.7 MB/s) - ‘great-britain-latest.osm.pbf’ saved [1597102569/1597102569]\n",
      "\n"
     ]
    }
   ],
   "source": [
    "#uncomment and download data if you need it\n",
    "!wget http://download.geofabrik.de/europe/great-britain-latest.osm.pbf"
   ]
  },
  {
   "cell_type": "code",
   "execution_count": 4,
   "id": "e2c3fd9f-63bd-46f9-b387-a9a00c648067",
   "metadata": {
    "tags": []
   },
   "outputs": [],
   "source": [
    "#https://max-coding.medium.com/extracting-open-street-map-osm-street-data-from-data-files-using-pyosmium-afca6eaa5d00"
   ]
  },
  {
   "cell_type": "code",
   "execution_count": 5,
   "id": "83ea2840-e650-4d6c-aaca-2ae84eb4e100",
   "metadata": {
    "tags": []
   },
   "outputs": [],
   "source": [
    "#this class creates\n",
    "#multipolygons for all buildings. Uses \"area\", and I don't know\n",
    "#if e.g. \"way\" or \"relation\" also could/should be used.\n",
    "#Inspiration from here https://max-coding.medium.com/extracting-open-street-map-osm-street-data-from-data-files-using-pyosmium-afca6eaa5d00\n",
    "class BuildingHandler(osmium.SimpleHandler):\n",
    "    def __init__(self):\n",
    "        osmium.SimpleHandler.__init__(self)\n",
    "        self.building_count = 0\n",
    "        self.buildings = []\n",
    "        # A global factory that creates WKB from a osmium geometry\n",
    "        self.wkbfab = osmium.geom.WKBFactory()\n",
    "\n",
    "    def area(self, w):\n",
    "        if w.tags.get(\"building\") == 'yes':\n",
    "            try:\n",
    "                wkb = self.wkbfab.create_multipolygon(w)\n",
    "                geo = wkblib.loads(wkb, hex=True)\n",
    "            except Exception as e:\n",
    "                print(e)\n",
    "                return\n",
    "            row = { \"w_id\": w.id, \"geometry\": geo }\n",
    "\n",
    "            for key, value in w.tags:\n",
    "                row[key] = value\n",
    "\n",
    "            self.buildings.append(row)\n",
    "            self.building_count += 1"
   ]
  },
  {
   "cell_type": "code",
   "execution_count": 19,
   "id": "6a983db8-d234-49a7-9a04-fe543c01e9ee",
   "metadata": {
    "tags": []
   },
   "outputs": [
    {
     "name": "stdout",
     "output_type": "stream",
     "text": [
      "invalid area (area_id=807768990)\n"
     ]
    }
   ],
   "source": [
    "#this runs the actual loading from the file, might take a while\n",
    "buildinghandler = BuildingHandler()\n",
    "buildinghandler.apply_file(\"great-britain-latest.osm.pbf\", locations=True)"
   ]
  },
  {
   "cell_type": "code",
   "execution_count": 20,
   "id": "97e7c1f0-6c13-4d26-b7b3-46fca933ea9b",
   "metadata": {
    "tags": []
   },
   "outputs": [
    {
     "data": {
      "text/plain": [
       "4642128"
      ]
     },
     "execution_count": 20,
     "metadata": {},
     "output_type": "execute_result"
    }
   ],
   "source": [
    "len(buildinghandler.buildings)"
   ]
  },
  {
   "cell_type": "code",
   "execution_count": 21,
   "id": "23268e37-0f93-4902-97ae-26e02c60a718",
   "metadata": {
    "tags": []
   },
   "outputs": [
    {
     "data": {
      "text/plain": [
       "21.1"
      ]
     },
     "execution_count": 21,
     "metadata": {},
     "output_type": "execute_result"
    }
   ],
   "source": [
    "psutil.virtual_memory().percent"
   ]
  },
  {
   "cell_type": "code",
   "execution_count": 78,
   "id": "e04cd693-d0d8-4275-8408-248abd9bd599",
   "metadata": {
    "tags": []
   },
   "outputs": [
    {
     "name": "stderr",
     "output_type": "stream",
     "text": [
      "/tmp/ipykernel_2616/2662106380.py:1: UserWarning: Column names longer than 10 characters will be truncated when saved to ESRI Shapefile.\n",
      "  gdf.to_file('datafram.shp')\n"
     ]
    }
   ],
   "source": [
    "#if one wants to store a gdf, this is how you do it\n",
    "#gdf.to_file('datafram.shp')"
   ]
  },
  {
   "cell_type": "code",
   "execution_count": null,
   "id": "2f4d0da0-5026-42da-9ff6-6d11344a61c5",
   "metadata": {
    "tags": []
   },
   "outputs": [],
   "source": [
    "#in this loop buildings with and without level-data are separated into two different dataframes\n",
    "#this loop is needed, because trying to create a geopandas dataframe from the whole array of\n",
    "#buildings at once requires more memory than 32GB. By looping through them, this is fixed.\n",
    "i = 200000\n",
    "while i < len(buildinghandler.buildings):\n",
    "    dfx = pd.DataFrame(buildinghandler.buildings[(i-200000):min([i, len(buildinghandler.buildings)-1])])\n",
    "    gdfx = geopandas.GeoDataFrame(dfx, geometry='geometry')\n",
    "    gdfx = gdfx.set_crs(\"EPSG:4326\")\n",
    "    gdfx = ox.project_gdf(gdfx)\n",
    "    gdfx = gdfx[['w_id', 'geometry', 'building:levels']]\n",
    "    gdfx = gdfx.rename(columns={'building:levels':'levels'})\n",
    "    levels = gdfx.dropna(subset=['levels'])\n",
    "    nolevel = gdfx.loc[gdfx.index.difference(gdfx.dropna(subset=['levels']).index)]\n",
    "    if i < 200001:\n",
    "        levelsall = levels\n",
    "        nolevelall = nolevel\n",
    "    else:\n",
    "        levelsall = pd.concat([levelsall, levels])\n",
    "        nolevelall = pd.concat([nolevelall, nolevel])\n",
    "    print(levelsall.shape)\n",
    "    print(nolevelall.shape)\n",
    "    i += 200000"
   ]
  },
  {
   "cell_type": "code",
   "execution_count": 69,
   "id": "19d13863-6bc4-498a-979b-be9cee517852",
   "metadata": {
    "tags": []
   },
   "outputs": [
    {
     "data": {
      "text/plain": [
       "(106443, 3)"
      ]
     },
     "execution_count": 69,
     "metadata": {},
     "output_type": "execute_result"
    }
   ],
   "source": [
    "levelsall = levelsall[levelsall['levels'].str.contains('[^0-9]') == False]\n",
    "levelsall.shape"
   ]
  },
  {
   "cell_type": "code",
   "execution_count": 70,
   "id": "e6f2237d-e2df-4b76-aad2-d05975acbdf6",
   "metadata": {
    "tags": []
   },
   "outputs": [
    {
     "data": {
      "text/plain": [
       "2.1611190966056952"
      ]
     },
     "execution_count": 70,
     "metadata": {},
     "output_type": "execute_result"
    }
   ],
   "source": [
    "levelsall['levels'].astype('float').mean()"
   ]
  },
  {
   "cell_type": "code",
   "execution_count": 71,
   "id": "e5eb9ef7-12fd-48c3-95c5-5522ea8c9eca",
   "metadata": {
    "tags": []
   },
   "outputs": [
    {
     "data": {
      "text/html": [
       "<div>\n",
       "<style scoped>\n",
       "    .dataframe tbody tr th:only-of-type {\n",
       "        vertical-align: middle;\n",
       "    }\n",
       "\n",
       "    .dataframe tbody tr th {\n",
       "        vertical-align: top;\n",
       "    }\n",
       "\n",
       "    .dataframe thead th {\n",
       "        text-align: right;\n",
       "    }\n",
       "</style>\n",
       "<table border=\"1\" class=\"dataframe\">\n",
       "  <thead>\n",
       "    <tr style=\"text-align: right;\">\n",
       "      <th></th>\n",
       "      <th>w_id</th>\n",
       "      <th>geometry</th>\n",
       "      <th>levels</th>\n",
       "    </tr>\n",
       "  </thead>\n",
       "  <tbody>\n",
       "    <tr>\n",
       "      <th>0</th>\n",
       "      <td>5912374</td>\n",
       "      <td>MULTIPOLYGON (((706952.165 5703517.791, 706955...</td>\n",
       "      <td>2.161119</td>\n",
       "    </tr>\n",
       "    <tr>\n",
       "      <th>1</th>\n",
       "      <td>5912376</td>\n",
       "      <td>MULTIPOLYGON (((707029.568 5703570.508, 707043...</td>\n",
       "      <td>2.161119</td>\n",
       "    </tr>\n",
       "    <tr>\n",
       "      <th>2</th>\n",
       "      <td>7160774</td>\n",
       "      <td>MULTIPOLYGON (((634025.739 5626025.557, 634028...</td>\n",
       "      <td>2.161119</td>\n",
       "    </tr>\n",
       "    <tr>\n",
       "      <th>3</th>\n",
       "      <td>7160776</td>\n",
       "      <td>MULTIPOLYGON (((635952.709 5623808.527, 635957...</td>\n",
       "      <td>2.161119</td>\n",
       "    </tr>\n",
       "    <tr>\n",
       "      <th>4</th>\n",
       "      <td>7160778</td>\n",
       "      <td>MULTIPOLYGON (((634386.662 5622649.720, 634388...</td>\n",
       "      <td>2.161119</td>\n",
       "    </tr>\n",
       "    <tr>\n",
       "      <th>...</th>\n",
       "      <td>...</td>\n",
       "      <td>...</td>\n",
       "      <td>...</td>\n",
       "    </tr>\n",
       "    <tr>\n",
       "      <th>199995</th>\n",
       "      <td>2294078994</td>\n",
       "      <td>MULTIPOLYGON (((425135.293 6190748.603, 425144...</td>\n",
       "      <td>2.161119</td>\n",
       "    </tr>\n",
       "    <tr>\n",
       "      <th>199996</th>\n",
       "      <td>2294078996</td>\n",
       "      <td>MULTIPOLYGON (((425136.804 6190759.598, 425147...</td>\n",
       "      <td>2.161119</td>\n",
       "    </tr>\n",
       "    <tr>\n",
       "      <th>199997</th>\n",
       "      <td>2294078998</td>\n",
       "      <td>MULTIPOLYGON (((425131.250 6190738.888, 425140...</td>\n",
       "      <td>2.161119</td>\n",
       "    </tr>\n",
       "    <tr>\n",
       "      <th>199998</th>\n",
       "      <td>2294079000</td>\n",
       "      <td>MULTIPOLYGON (((425126.395 6190733.339, 425128...</td>\n",
       "      <td>2.161119</td>\n",
       "    </tr>\n",
       "    <tr>\n",
       "      <th>199999</th>\n",
       "      <td>2294079002</td>\n",
       "      <td>MULTIPOLYGON (((425176.169 6190705.930, 425178...</td>\n",
       "      <td>2.161119</td>\n",
       "    </tr>\n",
       "  </tbody>\n",
       "</table>\n",
       "<p>4486267 rows × 3 columns</p>\n",
       "</div>"
      ],
      "text/plain": [
       "              w_id                                           geometry  \\\n",
       "0          5912374  MULTIPOLYGON (((706952.165 5703517.791, 706955...   \n",
       "1          5912376  MULTIPOLYGON (((707029.568 5703570.508, 707043...   \n",
       "2          7160774  MULTIPOLYGON (((634025.739 5626025.557, 634028...   \n",
       "3          7160776  MULTIPOLYGON (((635952.709 5623808.527, 635957...   \n",
       "4          7160778  MULTIPOLYGON (((634386.662 5622649.720, 634388...   \n",
       "...            ...                                                ...   \n",
       "199995  2294078994  MULTIPOLYGON (((425135.293 6190748.603, 425144...   \n",
       "199996  2294078996  MULTIPOLYGON (((425136.804 6190759.598, 425147...   \n",
       "199997  2294078998  MULTIPOLYGON (((425131.250 6190738.888, 425140...   \n",
       "199998  2294079000  MULTIPOLYGON (((425126.395 6190733.339, 425128...   \n",
       "199999  2294079002  MULTIPOLYGON (((425176.169 6190705.930, 425178...   \n",
       "\n",
       "          levels  \n",
       "0       2.161119  \n",
       "1       2.161119  \n",
       "2       2.161119  \n",
       "3       2.161119  \n",
       "4       2.161119  \n",
       "...          ...  \n",
       "199995  2.161119  \n",
       "199996  2.161119  \n",
       "199997  2.161119  \n",
       "199998  2.161119  \n",
       "199999  2.161119  \n",
       "\n",
       "[4486267 rows x 3 columns]"
      ]
     },
     "execution_count": 71,
     "metadata": {},
     "output_type": "execute_result"
    }
   ],
   "source": [
    "nolevelall['levels'] = levelsall['levels'].astype('float').mean()\n",
    "nolevelall"
   ]
  },
  {
   "cell_type": "code",
   "execution_count": 72,
   "id": "e7f03d87-604c-4166-b8d3-aeda0ae1eb1f",
   "metadata": {
    "tags": []
   },
   "outputs": [
    {
     "data": {
      "text/plain": [
       "(4592710, 3)"
      ]
     },
     "execution_count": 72,
     "metadata": {},
     "output_type": "execute_result"
    }
   ],
   "source": [
    "all = pd.concat([levelsall, nolevelall])\n",
    "all.shape"
   ]
  },
  {
   "cell_type": "code",
   "execution_count": 73,
   "id": "6e6ed794-a0d3-4d08-8b40-62a167b9c16a",
   "metadata": {
    "tags": []
   },
   "outputs": [],
   "source": [
    "all['floorarea'] = all.area * all['levels'].astype(float)"
   ]
  },
  {
   "cell_type": "code",
   "execution_count": 74,
   "id": "ec295682-a31b-4b7c-9706-1f7137fc54e4",
   "metadata": {
    "tags": []
   },
   "outputs": [],
   "source": [
    "#calculating kwh/a using climate zone 4\n",
    "all['kWh/a'] = all['floorarea'] * 133.280"
   ]
  },
  {
   "cell_type": "code",
   "execution_count": 75,
   "id": "e90ad5a9-404e-4f0c-9cad-20b9432d9d17",
   "metadata": {
    "tags": []
   },
   "outputs": [],
   "source": [
    "#calculating co2-emissions using this statistic:\n",
    "#https://www.statista.com/statistics/426988/united-kingdom-uk-heating-methods/#:~:text=During%20the%20winter%20months%2C%20most,used%20this%20method%20of%20heating.\n",
    "#using an average of the different heating form emissions for the category \"other\"\n",
    "co2 = 0.199*0.79 + 0.104 * 0.11 + 0.255 * 0.05 + 0.23 * 0.05"
   ]
  },
  {
   "cell_type": "code",
   "execution_count": 76,
   "id": "a9d9f130-efc5-44fb-80f3-53cdd34cd10d",
   "metadata": {
    "tags": []
   },
   "outputs": [],
   "source": [
    "all['co2/a'] = all['kWh/a'] * co2"
   ]
  },
  {
   "cell_type": "code",
   "execution_count": 78,
   "id": "6ca825b5-4a72-465c-9aa0-c01c2d56c4b2",
   "metadata": {
    "tags": []
   },
   "outputs": [],
   "source": [
    "all.to_file('britain_buildings.shp')"
   ]
  }
 ],
 "metadata": {
  "kernelspec": {
   "display_name": "Python 3 (ipykernel)",
   "language": "python",
   "name": "python3"
  },
  "language_info": {
   "codemirror_mode": {
    "name": "ipython",
    "version": 3
   },
   "file_extension": ".py",
   "mimetype": "text/x-python",
   "name": "python",
   "nbconvert_exporter": "python",
   "pygments_lexer": "ipython3",
   "version": "3.10.6"
  }
 },
 "nbformat": 4,
 "nbformat_minor": 5
}
