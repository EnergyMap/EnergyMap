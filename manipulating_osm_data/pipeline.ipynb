{
 "cells": [
  {
   "cell_type": "code",
   "execution_count": 13,
   "id": "05b9518f-0ddb-436c-83ac-a5ea86b6e163",
   "metadata": {
    "tags": []
   },
   "outputs": [],
   "source": [
    "import osmium\n",
    "import shapely.wkb as wkblib\n",
    "#import osmnx as ox\n",
    "import geopandas\n",
    "import pandas as pd\n",
    "import numpy as np\n",
    "from scipy.spatial.distance import cdist\n",
    "import matplotlib.pyplot as plt\n",
    "import random"
   ]
  },
  {
   "cell_type": "code",
   "execution_count": 2,
   "id": "6f6e880f-955c-47e6-8a77-0f58bbaa0d7b",
   "metadata": {},
   "outputs": [
    {
     "name": "stdout",
     "output_type": "stream",
     "text": [
      "--2023-04-15 20:23:32--  https://download.geofabrik.de/europe/austria-latest.osm.pbf\n",
      "Resolving download.geofabrik.de (download.geofabrik.de)... 65.109.50.43, 65.109.48.72\n",
      "Connecting to download.geofabrik.de (download.geofabrik.de)|65.109.50.43|:443... connected.\n",
      "HTTP request sent, awaiting response... 200 OK\n",
      "Length: 714846436 (682M) [application/octet-stream]\n",
      "Saving to: ‘./austria-latest.osm.pbf.1’\n",
      "\n",
      "austria-latest.osm. 100%[===================>] 681.73M  36.6MB/s    in 19s     \n",
      "\n",
      "2023-04-15 20:23:50 (36.8 MB/s) - ‘./austria-latest.osm.pbf.1’ saved [714846436/714846436]\n",
      "\n"
     ]
    }
   ],
   "source": [
    "#load any country you need -- exchange \"Sweden\" for some other country at your own risk!\n",
    "!wget https://download.geofabrik.de/europe/austria-latest.osm.pbf -P ./"
   ]
  },
  {
   "cell_type": "code",
   "execution_count": 3,
   "id": "7c2200cf-2e14-4b8e-9eab-69c1f0f8e1b9",
   "metadata": {},
   "outputs": [],
   "source": [
    "#you will need docker for this cell, but you can also skip this, it makes loading the osm-file faster\n",
    "#!docker run -d -w /wkd -v $(pwd):/wkd stefda/osmium-tool osmium tags-filter -o sweden-filtered.osm.pbf sweden-latest.osm.pbf building"
   ]
  },
  {
   "cell_type": "code",
   "execution_count": 4,
   "id": "dd5926e8-4d6a-4613-bb96-8b45939c38be",
   "metadata": {},
   "outputs": [],
   "source": [
    "class BuildingHandler(osmium.SimpleHandler):\n",
    "    def __init__(self):\n",
    "        osmium.SimpleHandler.__init__(self)\n",
    "        self.nodes_count = 0\n",
    "        self.nodes = []\n",
    "        self.building_count = 0\n",
    "        self.buildings = []\n",
    "        # A global factory that creates WKB from a osmium geometry\n",
    "        self.wkbfab = osmium.geom.WKBFactory()\n",
    "\n",
    "    def node(self, n):\n",
    "        if n.tags.get(\"building\") == 'yes':\n",
    "            try:\n",
    "                wkb = self.wkbfab.create_point(n)\n",
    "                geo = wkblib.loads(wkb, hex=True)\n",
    "            except Exception as e:\n",
    "                print(e)\n",
    "                return\n",
    "            row = { \"w_id\": n.id, \"geometry\": geo }\n",
    "            \n",
    "            for key, value in n.tags:\n",
    "                row[key] = value\n",
    "                \n",
    "            self.nodes.append(row)\n",
    "            self.nodes_count += 1\n",
    "        \n",
    "    def area(self, w):\n",
    "        if w.tags.get(\"building\") == 'yes':\n",
    "            try:\n",
    "                wkb = self.wkbfab.create_multipolygon(w)\n",
    "                geo = wkblib.loads(wkb, hex=True)\n",
    "            except Exception as e:\n",
    "                print(e)\n",
    "                return\n",
    "            row = { \"w_id\": w.id, \"geometry\": geo }\n",
    "\n",
    "            for key, value in w.tags:\n",
    "                row[key] = value\n",
    "\n",
    "            self.buildings.append(row)\n",
    "            self.building_count += 1"
   ]
  },
  {
   "cell_type": "markdown",
   "id": "6a07d93f",
   "metadata": {},
   "source": [
    "## finding closest building with levels info for every building without levels info"
   ]
  },
  {
   "cell_type": "code",
   "execution_count": 14,
   "id": "9a605db5",
   "metadata": {
    "tags": []
   },
   "outputs": [],
   "source": [
    "file = \"sweden-filtered.osm.pbf\""
   ]
  },
  {
   "cell_type": "code",
   "execution_count": 15,
   "id": "6929b5d5-9eb8-4f95-b458-417ae994b563",
   "metadata": {
    "tags": []
   },
   "outputs": [],
   "source": [
    "def build_geodf(file):\n",
    "    \n",
    "    buildinghandler = BuildingHandler()\n",
    "    buildinghandler.apply_file(file, locations=True)\n",
    "    \n",
    "    i = 200000\n",
    "    while i-200000 < len(buildinghandler.buildings):\n",
    "        dfx = pd.DataFrame(buildinghandler.buildings[(i-200000):min([i, len(buildinghandler.buildings)-1])])\n",
    "        gdfx = geopandas.GeoDataFrame(dfx, geometry='geometry')\n",
    "        gdfx = gdfx.set_crs(\"EPSG:4326\")\n",
    "        #gdfx = ox.project_gdf(gdfx)\n",
    "        #gdfx = gdfx.dropna(subset=['building:levels'])\n",
    "        gdfx = gdfx[['w_id', 'geometry', 'building:levels']]\n",
    "        if i < 200001:\n",
    "            meta = gdfx\n",
    "        else:\n",
    "            meta = pd.concat([meta, gdfx])\n",
    "        print(meta.shape)\n",
    "        i += 200000\n",
    "    \n",
    "    return meta"
   ]
  },
  {
   "cell_type": "code",
   "execution_count": 16,
   "id": "8ab5779b",
   "metadata": {
    "tags": []
   },
   "outputs": [
    {
     "name": "stdout",
     "output_type": "stream",
     "text": [
      "invalid area (area_id=2323208800)\n",
      "invalid area (area_id=2324227006)\n",
      "(200000, 3)\n",
      "(400000, 3)\n",
      "(600000, 3)\n",
      "(800000, 3)\n",
      "(1000000, 3)\n",
      "(1200000, 3)\n",
      "(1400000, 3)\n",
      "(1600000, 3)\n",
      "(1800000, 3)\n",
      "(2000000, 3)\n",
      "(2103704, 3)\n"
     ]
    }
   ],
   "source": [
    "df = build_geodf(file)"
   ]
  },
  {
   "cell_type": "code",
   "execution_count": 17,
   "id": "ca04d4a7",
   "metadata": {
    "tags": []
   },
   "outputs": [],
   "source": [
    "geodf = df.copy()"
   ]
  },
  {
   "cell_type": "code",
   "execution_count": 18,
   "id": "37d539c0",
   "metadata": {
    "tags": []
   },
   "outputs": [],
   "source": [
    "def predict_levels(with_levels_info, without_levels_info, k_neighbours):\n",
    "     # scaling to zero mean and unit variance, seems to lower accuracy.\n",
    "    \"\"\"for i in [0,1,2]:\n",
    "        with_levels_info[:,i] = (with_levels_info[:,0] - np.mean(with_levels_info[:,0])) / np.std(with_levels_info[:,0])\n",
    "        without_levels_info[:,i] = (without_levels_info[:,0] - np.mean(without_levels_info[:,0])) / np.std(without_levels_info[:,0])\"\"\"\n",
    "    \n",
    "    distances = cdist(without_levels_info[:,[0,1,2]], with_levels_info[:,[0,1,2]])\n",
    "    idx = np.argpartition(distances, k_neighbours, axis=1)\n",
    "    closest_k = idx[:,:k_neighbours]\n",
    "    means = []\n",
    "    for c in range(closest_k.shape[0]):\n",
    "        means.append(int(np.mean(with_levels_info[closest_k[c,:], 3])))\n",
    "    return means"
   ]
  },
  {
   "cell_type": "markdown",
   "id": "0e78ca94",
   "metadata": {},
   "source": [
    "## Making DataFrame of buildings along with predicted number of levels"
   ]
  },
  {
   "cell_type": "code",
   "execution_count": 19,
   "id": "e4c9e1c6",
   "metadata": {
    "tags": []
   },
   "outputs": [],
   "source": [
    "k_neighbours = 3"
   ]
  },
  {
   "cell_type": "code",
   "execution_count": 20,
   "id": "e9f4216b",
   "metadata": {
    "tags": []
   },
   "outputs": [],
   "source": [
    "def build_data_with_predictions(geodf, k_neighbours):\n",
    "    \n",
    "    geodf[\"geometry\"] = geodf[\"geometry\"].to_crs(\"EPSG:3857\") # to meters instead of lat, lon degees\n",
    "    geodf.loc[geodf['building:levels'].str.contains('[A-Za-z]', na=False)] = None\n",
    "    geodf.loc[geodf['building:levels'].str.contains('[;,.-]', na=False)] = None\n",
    "    geodf.loc[geodf['building:levels'] == \"0\"] = None\n",
    "    geodf[\"building:levels\"] = geodf[\"building:levels\"].astype(\"float\")\n",
    "    \n",
    "    areas = geodf[\"geometry\"].area\n",
    "    locations = geodf[\"geometry\"].centroid\n",
    "    levels = geodf[\"building:levels\"]\n",
    "    data = np.array([areas, locations.x, locations.y, levels]).T\n",
    "    predicted = np.isnan(data[:,3]).reshape(-1,1)\n",
    "    data = np.concatenate([data, predicted], axis=1)\n",
    "    \n",
    "    with_levels_info = data[np.where(~np.isnan(data[:,3]))]\n",
    "    \n",
    "    step = 10000\n",
    "    L = []\n",
    "\n",
    "    for i in range(0, data.shape[0], step):\n",
    "        current = data[i:i+step,:]\n",
    "        current_without_levels_info = np.where(np.isnan(current[:,3]))[0]\n",
    "        means = predict_levels(with_levels_info, current[current_without_levels_info,:], k_neighbours)\n",
    "        current[current_without_levels_info, 3] = means\n",
    "        L.append(current)\n",
    "        \n",
    "    data = np.concatenate(L)\n",
    "    \n",
    "    df = pd.DataFrame({\"base_area\": data[:,0], \"x\": data[:,1], \"y\": data[:,2],\n",
    "                       \"levels\": data[:,3], \"predicted\": data[:,4]})\n",
    "    return df\n",
    "\n",
    "D = build_data_with_predictions(geodf, k_neighbours)"
   ]
  },
  {
   "cell_type": "code",
   "execution_count": 21,
   "id": "0d85f5de-dd43-49d1-96ad-005274d0b558",
   "metadata": {
    "tags": []
   },
   "outputs": [
    {
     "data": {
      "text/html": [
       "<div>\n",
       "<style scoped>\n",
       "    .dataframe tbody tr th:only-of-type {\n",
       "        vertical-align: middle;\n",
       "    }\n",
       "\n",
       "    .dataframe tbody tr th {\n",
       "        vertical-align: top;\n",
       "    }\n",
       "\n",
       "    .dataframe thead th {\n",
       "        text-align: right;\n",
       "    }\n",
       "</style>\n",
       "<table border=\"1\" class=\"dataframe\">\n",
       "  <thead>\n",
       "    <tr style=\"text-align: right;\">\n",
       "      <th></th>\n",
       "      <th>base_area</th>\n",
       "      <th>x</th>\n",
       "      <th>y</th>\n",
       "      <th>levels</th>\n",
       "      <th>predicted</th>\n",
       "    </tr>\n",
       "  </thead>\n",
       "  <tbody>\n",
       "    <tr>\n",
       "      <th>0</th>\n",
       "      <td>138563.298940</td>\n",
       "      <td>1.368668e+06</td>\n",
       "      <td>7.897929e+06</td>\n",
       "      <td>2.0</td>\n",
       "      <td>1.0</td>\n",
       "    </tr>\n",
       "    <tr>\n",
       "      <th>1</th>\n",
       "      <td>6526.917677</td>\n",
       "      <td>1.374833e+06</td>\n",
       "      <td>8.034088e+06</td>\n",
       "      <td>1.0</td>\n",
       "      <td>1.0</td>\n",
       "    </tr>\n",
       "    <tr>\n",
       "      <th>2</th>\n",
       "      <td>48011.073424</td>\n",
       "      <td>1.995770e+06</td>\n",
       "      <td>8.320986e+06</td>\n",
       "      <td>4.0</td>\n",
       "      <td>0.0</td>\n",
       "    </tr>\n",
       "    <tr>\n",
       "      <th>3</th>\n",
       "      <td>12812.965688</td>\n",
       "      <td>2.014934e+06</td>\n",
       "      <td>8.252783e+06</td>\n",
       "      <td>3.0</td>\n",
       "      <td>0.0</td>\n",
       "    </tr>\n",
       "    <tr>\n",
       "      <th>4</th>\n",
       "      <td>1994.636688</td>\n",
       "      <td>2.014541e+06</td>\n",
       "      <td>8.252463e+06</td>\n",
       "      <td>2.0</td>\n",
       "      <td>0.0</td>\n",
       "    </tr>\n",
       "    <tr>\n",
       "      <th>...</th>\n",
       "      <td>...</td>\n",
       "      <td>...</td>\n",
       "      <td>...</td>\n",
       "      <td>...</td>\n",
       "      <td>...</td>\n",
       "    </tr>\n",
       "    <tr>\n",
       "      <th>2103699</th>\n",
       "      <td>294.822273</td>\n",
       "      <td>1.455117e+06</td>\n",
       "      <td>7.668642e+06</td>\n",
       "      <td>2.0</td>\n",
       "      <td>1.0</td>\n",
       "    </tr>\n",
       "    <tr>\n",
       "      <th>2103700</th>\n",
       "      <td>606.718745</td>\n",
       "      <td>1.455118e+06</td>\n",
       "      <td>7.668663e+06</td>\n",
       "      <td>2.0</td>\n",
       "      <td>1.0</td>\n",
       "    </tr>\n",
       "    <tr>\n",
       "      <th>2103701</th>\n",
       "      <td>347.616274</td>\n",
       "      <td>1.455047e+06</td>\n",
       "      <td>7.668650e+06</td>\n",
       "      <td>2.0</td>\n",
       "      <td>1.0</td>\n",
       "    </tr>\n",
       "    <tr>\n",
       "      <th>2103702</th>\n",
       "      <td>520.651090</td>\n",
       "      <td>1.455072e+06</td>\n",
       "      <td>7.668700e+06</td>\n",
       "      <td>2.0</td>\n",
       "      <td>1.0</td>\n",
       "    </tr>\n",
       "    <tr>\n",
       "      <th>2103703</th>\n",
       "      <td>224.230732</td>\n",
       "      <td>1.455057e+06</td>\n",
       "      <td>7.668719e+06</td>\n",
       "      <td>2.0</td>\n",
       "      <td>1.0</td>\n",
       "    </tr>\n",
       "  </tbody>\n",
       "</table>\n",
       "<p>2103704 rows × 5 columns</p>\n",
       "</div>"
      ],
      "text/plain": [
       "             base_area             x             y  levels  predicted\n",
       "0        138563.298940  1.368668e+06  7.897929e+06     2.0        1.0\n",
       "1          6526.917677  1.374833e+06  8.034088e+06     1.0        1.0\n",
       "2         48011.073424  1.995770e+06  8.320986e+06     4.0        0.0\n",
       "3         12812.965688  2.014934e+06  8.252783e+06     3.0        0.0\n",
       "4          1994.636688  2.014541e+06  8.252463e+06     2.0        0.0\n",
       "...                ...           ...           ...     ...        ...\n",
       "2103699     294.822273  1.455117e+06  7.668642e+06     2.0        1.0\n",
       "2103700     606.718745  1.455118e+06  7.668663e+06     2.0        1.0\n",
       "2103701     347.616274  1.455047e+06  7.668650e+06     2.0        1.0\n",
       "2103702     520.651090  1.455072e+06  7.668700e+06     2.0        1.0\n",
       "2103703     224.230732  1.455057e+06  7.668719e+06     2.0        1.0\n",
       "\n",
       "[2103704 rows x 5 columns]"
      ]
     },
     "execution_count": 21,
     "metadata": {},
     "output_type": "execute_result"
    }
   ],
   "source": [
    "D"
   ]
  },
  {
   "cell_type": "code",
   "execution_count": 29,
   "id": "021d56ee-9671-4f19-a392-df79ffddf42d",
   "metadata": {
    "tags": []
   },
   "outputs": [],
   "source": [
    "geodf['new_level'] = D['levels']"
   ]
  },
  {
   "cell_type": "code",
   "execution_count": 31,
   "id": "e1de24f3-92ff-45fb-85dd-dd266439e69d",
   "metadata": {
    "tags": []
   },
   "outputs": [],
   "source": [
    "geodf['area'] = geodf.area"
   ]
  },
  {
   "cell_type": "code",
   "execution_count": 41,
   "id": "4a403490-4c9c-41bc-b9cd-09063ad13697",
   "metadata": {
    "tags": []
   },
   "outputs": [],
   "source": [
    "geodf['floorarea'] = geodf.area * geodf['new_level']"
   ]
  },
  {
   "cell_type": "code",
   "execution_count": 33,
   "id": "8469b3b6-6382-47c5-9d14-3260364cfc8f",
   "metadata": {
    "tags": []
   },
   "outputs": [
    {
     "data": {
      "text/html": [
       "<div>\n",
       "<style scoped>\n",
       "    .dataframe tbody tr th:only-of-type {\n",
       "        vertical-align: middle;\n",
       "    }\n",
       "\n",
       "    .dataframe tbody tr th {\n",
       "        vertical-align: top;\n",
       "    }\n",
       "\n",
       "    .dataframe thead th {\n",
       "        text-align: right;\n",
       "    }\n",
       "</style>\n",
       "<table border=\"1\" class=\"dataframe\">\n",
       "  <thead>\n",
       "    <tr style=\"text-align: right;\">\n",
       "      <th></th>\n",
       "      <th>w_id</th>\n",
       "      <th>geometry</th>\n",
       "      <th>building:levels</th>\n",
       "      <th>new_level</th>\n",
       "      <th>area</th>\n",
       "    </tr>\n",
       "  </thead>\n",
       "  <tbody>\n",
       "    <tr>\n",
       "      <th>0</th>\n",
       "      <td>7.375636e+06</td>\n",
       "      <td>MULTIPOLYGON (((1368268.549 7897390.408, 13682...</td>\n",
       "      <td>NaN</td>\n",
       "      <td>2.0</td>\n",
       "      <td>138563.298940</td>\n",
       "    </tr>\n",
       "    <tr>\n",
       "      <th>1</th>\n",
       "      <td>9.702388e+06</td>\n",
       "      <td>MULTIPOLYGON (((1374772.913 8034151.557, 13747...</td>\n",
       "      <td>NaN</td>\n",
       "      <td>1.0</td>\n",
       "      <td>6526.917677</td>\n",
       "    </tr>\n",
       "    <tr>\n",
       "      <th>2</th>\n",
       "      <td>9.934046e+06</td>\n",
       "      <td>MULTIPOLYGON (((1995571.501 8321153.404, 19955...</td>\n",
       "      <td>4.0</td>\n",
       "      <td>4.0</td>\n",
       "      <td>48011.073424</td>\n",
       "    </tr>\n",
       "    <tr>\n",
       "      <th>3</th>\n",
       "      <td>1.034977e+07</td>\n",
       "      <td>MULTIPOLYGON (((2014862.134 8252746.538, 20149...</td>\n",
       "      <td>3.0</td>\n",
       "      <td>3.0</td>\n",
       "      <td>12812.965688</td>\n",
       "    </tr>\n",
       "    <tr>\n",
       "      <th>4</th>\n",
       "      <td>1.038407e+07</td>\n",
       "      <td>MULTIPOLYGON (((2014504.008 8252479.749, 20145...</td>\n",
       "      <td>2.0</td>\n",
       "      <td>2.0</td>\n",
       "      <td>1994.636688</td>\n",
       "    </tr>\n",
       "    <tr>\n",
       "      <th>...</th>\n",
       "      <td>...</td>\n",
       "      <td>...</td>\n",
       "      <td>...</td>\n",
       "      <td>...</td>\n",
       "      <td>...</td>\n",
       "    </tr>\n",
       "    <tr>\n",
       "      <th>103699</th>\n",
       "      <td>2.325151e+09</td>\n",
       "      <td>MULTIPOLYGON (((1455104.854 7668636.758, 14551...</td>\n",
       "      <td>NaN</td>\n",
       "      <td>4.0</td>\n",
       "      <td>294.822273</td>\n",
       "    </tr>\n",
       "    <tr>\n",
       "      <th>103700</th>\n",
       "      <td>2.325151e+09</td>\n",
       "      <td>MULTIPOLYGON (((1455102.483 7668651.743, 14551...</td>\n",
       "      <td>NaN</td>\n",
       "      <td>2.0</td>\n",
       "      <td>606.718745</td>\n",
       "    </tr>\n",
       "    <tr>\n",
       "      <th>103701</th>\n",
       "      <td>2.325151e+09</td>\n",
       "      <td>MULTIPOLYGON (((1455037.071 7668640.899, 14550...</td>\n",
       "      <td>NaN</td>\n",
       "      <td>2.0</td>\n",
       "      <td>347.616274</td>\n",
       "    </tr>\n",
       "    <tr>\n",
       "      <th>103702</th>\n",
       "      <td>2.325151e+09</td>\n",
       "      <td>MULTIPOLYGON (((1455060.593 7668686.197, 14550...</td>\n",
       "      <td>NaN</td>\n",
       "      <td>2.0</td>\n",
       "      <td>520.651090</td>\n",
       "    </tr>\n",
       "    <tr>\n",
       "      <th>103703</th>\n",
       "      <td>2.325151e+09</td>\n",
       "      <td>MULTIPOLYGON (((1455048.760 7668710.856, 14550...</td>\n",
       "      <td>NaN</td>\n",
       "      <td>2.0</td>\n",
       "      <td>224.230732</td>\n",
       "    </tr>\n",
       "  </tbody>\n",
       "</table>\n",
       "<p>2103704 rows × 5 columns</p>\n",
       "</div>"
      ],
      "text/plain": [
       "                w_id                                           geometry   \n",
       "0       7.375636e+06  MULTIPOLYGON (((1368268.549 7897390.408, 13682...  \\\n",
       "1       9.702388e+06  MULTIPOLYGON (((1374772.913 8034151.557, 13747...   \n",
       "2       9.934046e+06  MULTIPOLYGON (((1995571.501 8321153.404, 19955...   \n",
       "3       1.034977e+07  MULTIPOLYGON (((2014862.134 8252746.538, 20149...   \n",
       "4       1.038407e+07  MULTIPOLYGON (((2014504.008 8252479.749, 20145...   \n",
       "...              ...                                                ...   \n",
       "103699  2.325151e+09  MULTIPOLYGON (((1455104.854 7668636.758, 14551...   \n",
       "103700  2.325151e+09  MULTIPOLYGON (((1455102.483 7668651.743, 14551...   \n",
       "103701  2.325151e+09  MULTIPOLYGON (((1455037.071 7668640.899, 14550...   \n",
       "103702  2.325151e+09  MULTIPOLYGON (((1455060.593 7668686.197, 14550...   \n",
       "103703  2.325151e+09  MULTIPOLYGON (((1455048.760 7668710.856, 14550...   \n",
       "\n",
       "        building:levels  new_level           area  \n",
       "0                   NaN        2.0  138563.298940  \n",
       "1                   NaN        1.0    6526.917677  \n",
       "2                   4.0        4.0   48011.073424  \n",
       "3                   3.0        3.0   12812.965688  \n",
       "4                   2.0        2.0    1994.636688  \n",
       "...                 ...        ...            ...  \n",
       "103699              NaN        4.0     294.822273  \n",
       "103700              NaN        2.0     606.718745  \n",
       "103701              NaN        2.0     347.616274  \n",
       "103702              NaN        2.0     520.651090  \n",
       "103703              NaN        2.0     224.230732  \n",
       "\n",
       "[2103704 rows x 5 columns]"
      ]
     },
     "execution_count": 33,
     "metadata": {},
     "output_type": "execute_result"
    }
   ],
   "source": [
    "geodf"
   ]
  },
  {
   "cell_type": "markdown",
   "id": "c88cf1f7",
   "metadata": {},
   "source": [
    "## Testing k-nearest accuracy against dummy model"
   ]
  },
  {
   "cell_type": "code",
   "execution_count": 13,
   "id": "61a65bea",
   "metadata": {},
   "outputs": [
    {
     "name": "stdout",
     "output_type": "stream",
     "text": [
      "Mean Absolute Error using k-nearest: 0.6325642141924249\n",
      "Mean Absolute Error using dummy model: 1.0203369445792005\n"
     ]
    }
   ],
   "source": [
    "\n",
    "def accuracy_test(dataframe, leave_out_fraction, k_neighbours):\n",
    "    \n",
    "    known = dataframe.loc[dataframe[\"predicted\"] == 0]\n",
    "    known_index = list(known.index)\n",
    "    \n",
    "    mean_errors = []\n",
    "    mean_dummy_errors = []\n",
    "     \n",
    "    for i in range(10):\n",
    "        \n",
    "        random.shuffle(known_index)\n",
    "        to_predict = known_index[:int(leave_out_fraction*len(known_index))]\n",
    "        to_use = known_index[int(leave_out_fraction*len(known_index)):]\n",
    "        true_levels = dataframe.iloc[to_predict][\"levels\"]\n",
    "        predicted_levels = predict_levels(np.array(dataframe.iloc[to_use]), np.array(dataframe.iloc[to_predict]), k_neighbours)\n",
    "        \n",
    "        mean_abs_error = np.mean(np.abs(true_levels - predicted_levels))\n",
    "        mean_errors.append(mean_abs_error)\n",
    "        \n",
    "        mean_dummy_error = np.mean(np.abs(true_levels - np.mean(np.array(dataframe.iloc[to_use])[:,3]))) # error in assigning unknown values as mean of known ones\n",
    "        mean_dummy_errors.append(mean_dummy_error)\n",
    "\n",
    "    print(f\"Mean Absolute Error using k-nearest: {np.mean(mean_errors)}\")\n",
    "    print(f\"Mean Absolute Error using dummy model: {np.mean(mean_dummy_errors)}\")\n",
    "    \n",
    "    \n",
    "\n",
    "    \n",
    "accuracy_test(D, 0.1, k_neighbours)"
   ]
  },
  {
   "cell_type": "code",
   "execution_count": 34,
   "id": "244154e0",
   "metadata": {
    "tags": []
   },
   "outputs": [
    {
     "data": {
      "text/html": [
       "<div>\n",
       "<style scoped>\n",
       "    .dataframe tbody tr th:only-of-type {\n",
       "        vertical-align: middle;\n",
       "    }\n",
       "\n",
       "    .dataframe tbody tr th {\n",
       "        vertical-align: top;\n",
       "    }\n",
       "\n",
       "    .dataframe thead th {\n",
       "        text-align: right;\n",
       "    }\n",
       "</style>\n",
       "<table border=\"1\" class=\"dataframe\">\n",
       "  <thead>\n",
       "    <tr style=\"text-align: right;\">\n",
       "      <th></th>\n",
       "      <th>geometry</th>\n",
       "    </tr>\n",
       "  </thead>\n",
       "  <tbody>\n",
       "    <tr>\n",
       "      <th>zone3</th>\n",
       "      <td>POLYGON ((-9.40000 54.29000, -9.11000 53.26000...</td>\n",
       "    </tr>\n",
       "    <tr>\n",
       "      <th>zone4</th>\n",
       "      <td>POLYGON ((21.88000 40.38000, 15.56000 45.52000...</td>\n",
       "    </tr>\n",
       "    <tr>\n",
       "      <th>zone5</th>\n",
       "      <td>POLYGON ((8.29000 61.36000, 16.46000 60.32000,...</td>\n",
       "    </tr>\n",
       "    <tr>\n",
       "      <th>zone5b</th>\n",
       "      <td>POLYGON ((12.35000 45.51000, 8.72000 45.57000,...</td>\n",
       "    </tr>\n",
       "    <tr>\n",
       "      <th>zone7</th>\n",
       "      <td>POLYGON ((19.39000 70.24000, 13.43000 66.12000...</td>\n",
       "    </tr>\n",
       "    <tr>\n",
       "      <th>zone8</th>\n",
       "      <td>POLYGON ((60.18000 73.50000, 51.70000 74.20000...</td>\n",
       "    </tr>\n",
       "  </tbody>\n",
       "</table>\n",
       "</div>"
      ],
      "text/plain": [
       "                                                 geometry\n",
       "zone3   POLYGON ((-9.40000 54.29000, -9.11000 53.26000...\n",
       "zone4   POLYGON ((21.88000 40.38000, 15.56000 45.52000...\n",
       "zone5   POLYGON ((8.29000 61.36000, 16.46000 60.32000,...\n",
       "zone5b  POLYGON ((12.35000 45.51000, 8.72000 45.57000,...\n",
       "zone7   POLYGON ((19.39000 70.24000, 13.43000 66.12000...\n",
       "zone8   POLYGON ((60.18000 73.50000, 51.70000 74.20000..."
      ]
     },
     "execution_count": 34,
     "metadata": {},
     "output_type": "execute_result"
    }
   ],
   "source": [
    "#loading european climate zones:\n",
    "from shapely.geometry import Polygon\n",
    "\n",
    "def make_polygon(list1, list2):\n",
    "    return Polygon(zip(list1, list2))\n",
    "\n",
    "lat_point_list4 = [40.38, 45.52, 49.09, 55.03, 58.68, 58.74, 60.58, 60.52, 59.47, 59.15, 59.84, \n",
    "                   60.26, 59.04, 59.02, 59.60, 59.35, 61.36, 62.06, 63.41, 62.17, 62.90, 54.29, \n",
    "                   53.26, 52.69, 53.88, 53.67, 52.03, 51.31, 49.83, 48.08, 45.42, 44.89, 45.38, \n",
    "                   44.52, 44.39, 43.77, 44.04, 45.35, 43.84, 43.39, 40.38]\n",
    "lon_point_list4 = [21.88, 15.56, 15.38, 20.04, 23.56, 21.26, 21.14, 18.46, 18.36, 17.71, 16.83, \n",
    "                   16.88, 15.16, 12.52, 10.50, 8.57, 8.29, 6.57, 7.18, -22.63, -23.21, -9.40, \n",
    "                   -9.11, -7.14, -6.10, -4.01, -4.82, -4.65, -0.01, -1.23, 0.92, 5.50, 7.18, 7.70, \n",
    "                   10.31, 11.70, 13.30, 13.50, 15.55, 17.61, 21.88]\n",
    "\n",
    "polygon_geom4 = make_polygon(lon_point_list4, lat_point_list4)\n",
    "\n",
    "lat_point_list5 = [61.36, 60.32, 62.17, 61.83, 60.72, 61.74, 60.33, 60.53, 59.05, 59.55, 49.84, 45.27, \n",
    "                   37.51, 37.71, 35.10, 38.69, 37.65, 39.02, 37.71, 39.77, 41.44, 40.45, 41.57, 42.23, \n",
    "                   44.40, 41.97, 40.58, 40.38, 45.52, 49.09, 55.03, 58.68, 58.74, 60.58, 60.52, 59.47, \n",
    "                   59.15, 59.84, 60.26, 59.04, 59.02, 59.60, 59.35, 61.36]\n",
    "lon_point_list5 = [8.29, 16.46, 17.58, 21.41, 23.74, 31.01, 34.94, 50.59, 59.9, 62.14, 49.92, 58.18, \n",
    "                   58.18, 49.31, 48.78, 39.02, 36.74, 34.28, 33.05, 30.06, 33.84, 37.00, 41.75, 42.54, \n",
    "                   33.75, 27.69, 26.72, 21.88, 15.56, 15.38, 20.04, 23.56, 21.26, 21.14, 18.46, 18.36, \n",
    "                   17.71, 16.83, 16.88, 15.16, 12.52, 10.50, 8.57, 8.29]\n",
    "\n",
    "polygon_geom5 = make_polygon(lon_point_list5, lat_point_list5)\n",
    "\n",
    "lat_point_list5b = [45.51, 45.57, 45.22, 45.00, 45.19, 44.62, 44.43, 44.94, 45.51]\n",
    "lon_point_list5b = [12.35, 8.72, 7.61, 8.26, 8.95, 10.29, 12.35, 12.66, 12.35]\n",
    "\n",
    "polygon_geom5b = make_polygon(lon_point_list5b, lat_point_list5b)\n",
    "\n",
    "lat_point_list7 = [70.24, 66.12, 63.00, 62.27, 61.36, 62.06, 63.41, 62.17, 62.90, 65.43, 65.28, 66.61, 64.61, 70.67, 70.24]\n",
    "lon_point_list7 = [19.39, 13.43, 12.22, 8.89, 8.29, 6.57, 7.18, -22.63, -23.21, -23.50, -21.58, -17.29, -15.54, 17.85, 19.39]\n",
    "\n",
    "polygon_geom7 = make_polygon(lon_point_list7, lat_point_list7)\n",
    "\n",
    "lat_point_list8 = [73.50, 74.20, 71.43, 70.24, 66.12, 63.00, 62.27, 61.36, 60.32, 62.17, 61.83, 60.72, 61.74, \n",
    "                   60.33, 60.53, 59.05, 64.31, 67.17, 67.13, 73.50]\n",
    "lon_point_list8 = [60.18, 51.70, 19.49, 19.39, 13.43, 12.22, 8.89, 8.29, 16.46, 17.58, 21.41, 23.74, 31.01, \n",
    "                   34.94, 50.59, 59.9, 54.73, 57.15, 59.27, 60.18]\n",
    "\n",
    "polygon_geom8 = make_polygon(lon_point_list8, lat_point_list8)\n",
    "\n",
    "lat_point_list3 = [54.29, 53.26, 52.69, 53.88, 53.67, 52.03, 51.31, 49.83, 48.08, 45.42, 44.89, 45.38, 44.52, 44.39, 43.77, 44.04, 45.35, 43.84, 43.39, 40.38, 40.58, 41.97, 44.40, 42.23, 41.57, 40.45, 41.44, 39.77, 37.71, 39.02, 37.65, 38.69, 35.10, 37.71, 37.51, 32.16, 32.16, 26.17, 26.17, 40.28, 55.65, 54.29]\n",
    "lon_point_list3 = [-9.40, -9.11, -7.14, -6.10, -4.01, -4.82, -4.65, -0.01, -1.23, 0.92, 5.50, 7.18, 7.70, 10.31, 11.70, 13.30, 13.50, 15.55, 17.61, 21.88, 26.72, 27.69, 33.75, 42.54, 41.75, 37.00, 33.84, 30.06, 33.05, 34.28, 36.74, 39.02, 48.78, 49.31, 58.18, 58.18, -9.87, -15.44, -33.64, -33.64, -15.44, -9.40]\n",
    "\n",
    "polygon_geom3 = make_polygon(lon_point_list3, lat_point_list3)\n",
    "\n",
    "zones = geopandas.GeoDataFrame(index=['zone3','zone4', 'zone5', 'zone5b', 'zone7', 'zone8'], crs='epsg:4326', \n",
    "                                 geometry=[polygon_geom3, polygon_geom4, polygon_geom5, polygon_geom5b, polygon_geom7, polygon_geom8])       \n",
    "\n",
    "zones"
   ]
  },
  {
   "cell_type": "code",
   "execution_count": 35,
   "id": "091827e1-70f4-49d9-933b-01a00b004f66",
   "metadata": {
    "tags": []
   },
   "outputs": [
    {
     "data": {
      "text/plain": [
       "<Axes: >"
      ]
     },
     "execution_count": 35,
     "metadata": {},
     "output_type": "execute_result"
    },
    {
     "data": {
      "image/png": "[encoded data removed]",
      "text/plain": [
       "<Figure size 640x480 with 1 Axes>"
      ]
     },
     "metadata": {},
     "output_type": "display_data"
    }
   ],
   "source": [
    "zones.plot()"
   ]
  },
  {
   "cell_type": "code",
   "execution_count": 54,
   "id": "f146c9aa-67ca-4178-96b9-7c19795112ae",
   "metadata": {
    "tags": []
   },
   "outputs": [],
   "source": [
    "kwhs = {4: 133.280, 5: 159.993, 6: 240.838, 7: 158.663, 8: 230.084}\n",
    "for i in [4,5,8]:\n",
    "    part = geodf.geometry.centroid.to_crs(zones.crs).within(zones.loc['zone'+str(i),'geometry'])\n",
    "    geodf.loc[part,'kwh'] = geodf.loc[part]['floorarea'] * kwhs[i]"
   ]
  },
  {
   "cell_type": "code",
   "execution_count": 57,
   "id": "66d6b6de-6dab-4b26-9005-eb2e78f95a49",
   "metadata": {
    "tags": []
   },
   "outputs": [],
   "source": [
    "geodf['co2'] = 0"
   ]
  },
  {
   "cell_type": "code",
   "execution_count": 58,
   "id": "95b6e020-d7fa-4e88-810d-920cbec0cf2d",
   "metadata": {
    "tags": []
   },
   "outputs": [
    {
     "data": {
      "text/plain": [
       "0.20848999999999998"
      ]
     },
     "execution_count": 58,
     "metadata": {},
     "output_type": "execute_result"
    }
   ],
   "source": [
    "#using this article https://www.sei.org/publications/swedish-heat-energy-system-new-tensions-and-lock-ins-after-a-successful-transition/#:~:text=Fossil%20fuel%20energy%20has%20been,demand%20for%20heating%20in%20buildings.\n",
    "#to calculate an estimate of the energy mix and it's co2-emissions using Antti's model\n",
    "co2 = 0.5*0.195 + 0.25*0.104 + 0.08*0.255 + 0.08*0.354 + 0.09*0.403\n",
    "co2"
   ]
  },
  {
   "cell_type": "code",
   "execution_count": 59,
   "id": "d3f668be-ab92-4565-a988-9576fe027be9",
   "metadata": {
    "tags": []
   },
   "outputs": [],
   "source": [
    "geodf['co2'] = geodf['kwh'] * co2"
   ]
  },
  {
   "cell_type": "code",
   "execution_count": 61,
   "id": "260bdcde-ae7a-4a11-931c-2e0b360f2c18",
   "metadata": {
    "tags": []
   },
   "outputs": [
    {
     "name": "stdout",
     "output_type": "stream",
     "text": [
      "1223428.0095514595 7427637.039070617 2692199.74629556 10769596.830740549\n"
     ]
    }
   ],
   "source": [
    "minx, miny, maxx, maxy = geodf.total_bounds\n",
    "print(minx, miny, maxx, maxy)"
   ]
  },
  {
   "cell_type": "code",
   "execution_count": null,
   "id": "91d04f1a-fedb-4a65-b0e3-db61964c343f",
   "metadata": {
    "tags": []
   },
   "outputs": [],
   "source": [
    "#UNDOABLE! TAKES FOREVER.\n",
    "squares = []\n",
    "sums = []\n",
    "\n",
    "x = minx\n",
    "y = miny\n",
    "while x < maxx:\n",
    "    y = miny\n",
    "    while y < maxy:\n",
    "        co2sum = geodf.cx[x:x+1000,y:y+1000].co2.sum()\n",
    "        if co2sum > 0:\n",
    "            lon_point_list = [x, x+1000, x+1000, x, x]\n",
    "            lat_point_list = [y, y, y+1000, y+1000, y]\n",
    "            squares.append(Polygon(zip(lon_point_list, lat_point_list)))\n",
    "            sums.append(co2sum)\n",
    "        y += 1000\n",
    "    x += 1000"
   ]
  },
  {
   "cell_type": "code",
   "execution_count": 102,
   "id": "704005e1-c1e9-4cfc-a92d-c94731cece84",
   "metadata": {
    "tags": []
   },
   "outputs": [],
   "source": [
    "#creating a 2d array for all square tiles to cover the whole country (adding one for surity)\n",
    "rows = int(np.floor((maxy - miny) / 1000))\n",
    "cols = int(np.floor((maxx - minx) / 1000))\n",
    "co2sums = np.zeros((rows+1,cols+1))"
   ]
  },
  {
   "cell_type": "code",
   "execution_count": 79,
   "id": "9511a4bc-5136-4f36-b82a-3ce612935f9c",
   "metadata": {
    "tags": []
   },
   "outputs": [],
   "source": [
    "geodf['centroid'] = geodf.geometry.centroid"
   ]
  },
  {
   "cell_type": "code",
   "execution_count": 100,
   "id": "cf9e880b-4b42-43d3-bc59-e8c5c18659fa",
   "metadata": {
    "tags": []
   },
   "outputs": [],
   "source": [
    "#for some reason some centroids are none\n",
    "geodf = geodf.dropna(subset=['centroid'])"
   ]
  },
  {
   "cell_type": "code",
   "execution_count": 103,
   "id": "16d0d631-6eee-432f-9e70-3a78e8e0664c",
   "metadata": {
    "tags": []
   },
   "outputs": [],
   "source": [
    "#summing up co2 for every row in the dataframe to the correct square tile in the grid\n",
    "for index, row in geodf.iterrows():\n",
    "    co2sums[int(np.floor((row.centroid.y-miny)/1000))][int(np.floor((row.centroid.x-minx)/1000))] += row.co2\n",
    "    "
   ]
  },
  {
   "cell_type": "code",
   "execution_count": 111,
   "id": "ce219846-99b0-44ca-8306-00eb9d011cde",
   "metadata": {
    "tags": []
   },
   "outputs": [],
   "source": [
    "squares = []\n",
    "sums = []\n",
    "for y in range(0, co2sums.shape[0]):\n",
    "    for x in range(0, co2sums.shape[1]):\n",
    "        co2 = co2sums[y,x]\n",
    "        if co2 > 0:\n",
    "            thisx = minx + x*1000\n",
    "            thisy = miny + y*1000\n",
    "            lon_point_list = [thisx, thisx+1000, thisx+1000, thisx, thisx]\n",
    "            lat_point_list = [thisy, thisy, thisy+1000, thisy+1000, thisy]\n",
    "            squares.append(Polygon(zip(lon_point_list, lat_point_list)))\n",
    "            sums.append(co2)"
   ]
  },
  {
   "cell_type": "code",
   "execution_count": 115,
   "id": "066b29ed-32ca-45ee-8250-f95852516712",
   "metadata": {
    "tags": []
   },
   "outputs": [],
   "source": [
    "sqdf = geopandas.GeoDataFrame(crs=geodf.crs, geometry=squares)\n",
    "sqdf['co2'] = sums"
   ]
  },
  {
   "cell_type": "code",
   "execution_count": 124,
   "id": "4d818458-021d-41bf-9861-1d4367a90e5f",
   "metadata": {
    "tags": []
   },
   "outputs": [],
   "source": [
    "sqdf['co2n'] = (sqdf.co2 - sqdf.co2.mean()) / sqdf.co2.std()"
   ]
  },
  {
   "cell_type": "code",
   "execution_count": 125,
   "id": "50d05d57-9b89-4f0e-8cd5-8f630a06f166",
   "metadata": {
    "tags": []
   },
   "outputs": [
    {
     "data": {
      "text/plain": [
       "<Axes: >"
      ]
     },
     "execution_count": 125,
     "metadata": {},
     "output_type": "execute_result"
    },
    {
     "data": {
      "image/png": "[encoded data removed]",
      "text/plain": [
       "<Figure size 640x480 with 1 Axes>"
      ]
     },
     "metadata": {},
     "output_type": "display_data"
    }
   ],
   "source": [
    "sqdf.plot(column=sqdf.co2n)"
   ]
  },
  {
   "cell_type": "code",
   "execution_count": 126,
   "id": "44cff3cb-9fff-4b4d-985b-9b7057598237",
   "metadata": {
    "tags": []
   },
   "outputs": [
    {
     "data": {
      "text/html": [
       "<div>\n",
       "<style scoped>\n",
       "    .dataframe tbody tr th:only-of-type {\n",
       "        vertical-align: middle;\n",
       "    }\n",
       "\n",
       "    .dataframe tbody tr th {\n",
       "        vertical-align: top;\n",
       "    }\n",
       "\n",
       "    .dataframe thead th {\n",
       "        text-align: right;\n",
       "    }\n",
       "</style>\n",
       "<table border=\"1\" class=\"dataframe\">\n",
       "  <thead>\n",
       "    <tr style=\"text-align: right;\">\n",
       "      <th></th>\n",
       "      <th>geometry</th>\n",
       "      <th>co2</th>\n",
       "      <th>co2n</th>\n",
       "    </tr>\n",
       "  </thead>\n",
       "  <tbody>\n",
       "    <tr>\n",
       "      <th>0</th>\n",
       "      <td>POLYGON ((1479428.010 7427637.039, 1480428.010...</td>\n",
       "      <td>1.483692e+05</td>\n",
       "      <td>-0.165978</td>\n",
       "    </tr>\n",
       "    <tr>\n",
       "      <th>1</th>\n",
       "      <td>POLYGON ((1480428.010 7427637.039, 1481428.010...</td>\n",
       "      <td>1.873130e+05</td>\n",
       "      <td>-0.165861</td>\n",
       "    </tr>\n",
       "    <tr>\n",
       "      <th>2</th>\n",
       "      <td>POLYGON ((1484428.010 7427637.039, 1485428.010...</td>\n",
       "      <td>2.914001e+05</td>\n",
       "      <td>-0.165546</td>\n",
       "    </tr>\n",
       "    <tr>\n",
       "      <th>3</th>\n",
       "      <td>POLYGON ((1485428.010 7427637.039, 1486428.010...</td>\n",
       "      <td>2.963913e+05</td>\n",
       "      <td>-0.165531</td>\n",
       "    </tr>\n",
       "    <tr>\n",
       "      <th>4</th>\n",
       "      <td>POLYGON ((1486428.010 7427637.039, 1487428.010...</td>\n",
       "      <td>8.190139e+05</td>\n",
       "      <td>-0.163952</td>\n",
       "    </tr>\n",
       "    <tr>\n",
       "      <th>...</th>\n",
       "      <td>...</td>\n",
       "      <td>...</td>\n",
       "      <td>...</td>\n",
       "    </tr>\n",
       "    <tr>\n",
       "      <th>149621</th>\n",
       "      <td>POLYGON ((2322428.010 10720637.039, 2323428.01...</td>\n",
       "      <td>1.429486e+07</td>\n",
       "      <td>-0.123244</td>\n",
       "    </tr>\n",
       "    <tr>\n",
       "      <th>149622</th>\n",
       "      <td>POLYGON ((2322428.010 10721637.039, 2323428.01...</td>\n",
       "      <td>4.215055e+07</td>\n",
       "      <td>-0.039095</td>\n",
       "    </tr>\n",
       "    <tr>\n",
       "      <th>149623</th>\n",
       "      <td>POLYGON ((2266428.010 10741637.039, 2267428.01...</td>\n",
       "      <td>2.295764e+06</td>\n",
       "      <td>-0.159491</td>\n",
       "    </tr>\n",
       "    <tr>\n",
       "      <th>149624</th>\n",
       "      <td>POLYGON ((2266428.010 10742637.039, 2267428.01...</td>\n",
       "      <td>1.668013e+07</td>\n",
       "      <td>-0.116038</td>\n",
       "    </tr>\n",
       "    <tr>\n",
       "      <th>149625</th>\n",
       "      <td>POLYGON ((2287428.010 10768637.039, 2288428.01...</td>\n",
       "      <td>3.671635e+06</td>\n",
       "      <td>-0.155335</td>\n",
       "    </tr>\n",
       "  </tbody>\n",
       "</table>\n",
       "<p>149626 rows × 3 columns</p>\n",
       "</div>"
      ],
      "text/plain": [
       "                                                 geometry           co2   \n",
       "0       POLYGON ((1479428.010 7427637.039, 1480428.010...  1.483692e+05  \\\n",
       "1       POLYGON ((1480428.010 7427637.039, 1481428.010...  1.873130e+05   \n",
       "2       POLYGON ((1484428.010 7427637.039, 1485428.010...  2.914001e+05   \n",
       "3       POLYGON ((1485428.010 7427637.039, 1486428.010...  2.963913e+05   \n",
       "4       POLYGON ((1486428.010 7427637.039, 1487428.010...  8.190139e+05   \n",
       "...                                                   ...           ...   \n",
       "149621  POLYGON ((2322428.010 10720637.039, 2323428.01...  1.429486e+07   \n",
       "149622  POLYGON ((2322428.010 10721637.039, 2323428.01...  4.215055e+07   \n",
       "149623  POLYGON ((2266428.010 10741637.039, 2267428.01...  2.295764e+06   \n",
       "149624  POLYGON ((2266428.010 10742637.039, 2267428.01...  1.668013e+07   \n",
       "149625  POLYGON ((2287428.010 10768637.039, 2288428.01...  3.671635e+06   \n",
       "\n",
       "            co2n  \n",
       "0      -0.165978  \n",
       "1      -0.165861  \n",
       "2      -0.165546  \n",
       "3      -0.165531  \n",
       "4      -0.163952  \n",
       "...          ...  \n",
       "149621 -0.123244  \n",
       "149622 -0.039095  \n",
       "149623 -0.159491  \n",
       "149624 -0.116038  \n",
       "149625 -0.155335  \n",
       "\n",
       "[149626 rows x 3 columns]"
      ]
     },
     "execution_count": 126,
     "metadata": {},
     "output_type": "execute_result"
    }
   ],
   "source": [
    "sqdf"
   ]
  },
  {
   "cell_type": "code",
   "execution_count": null,
   "id": "6301e024-e647-41ed-942e-31e84ad018a2",
   "metadata": {},
   "outputs": [],
   "source": []
  }
 ],
 "metadata": {
  "kernelspec": {
   "display_name": "Python 3 (ipykernel)",
   "language": "python",
   "name": "python3"
  },
  "language_info": {
   "codemirror_mode": {
    "name": "ipython",
    "version": 3
   },
   "file_extension": ".py",
   "mimetype": "text/x-python",
   "name": "python",
   "nbconvert_exporter": "python",
   "pygments_lexer": "ipython3",
   "version": "3.10.6"
  },
  "vscode": {
   "interpreter": {
    "hash": "31f2aee4e71d21fbe5cf8b01ff0e069b9275f58929596ceb00d14d90e3e16cd6"
   }
  }
 },
 "nbformat": 4,
 "nbformat_minor": 5
}
