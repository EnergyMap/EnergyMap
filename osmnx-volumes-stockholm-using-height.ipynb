{
 "cells": [
  {
   "cell_type": "code",
   "execution_count": 1,
   "id": "8e3b4917-4f4d-4d8d-a080-48f689d4893c",
   "metadata": {
    "tags": []
   },
   "outputs": [],
   "source": [
    "import osmnx as ox"
   ]
  },
  {
   "cell_type": "code",
   "execution_count": null,
   "id": "a1ee0d77-c042-4424-9960-8dad975af3cb",
   "metadata": {
    "tags": []
   },
   "outputs": [],
   "source": [
    "#loading buildings from Södermalm in Stockholm\n",
    "tags = {\"building\": True}\n",
    "gdf = ox.geometries_from_place(\"Södermalm, Stockholm\", tags)"
   ]
  },
  {
   "cell_type": "code",
   "execution_count": 7,
   "id": "108cae6e-4753-4d04-90a4-f5c535a6a739",
   "metadata": {
    "tags": []
   },
   "outputs": [],
   "source": [
    "#choosing only the element_type \"way\", which perhaps(!) is the correct element_type\n",
    "gdf = gdf.loc[(gdf.index.get_level_values('element_type') == 'way')]"
   ]
  },
  {
   "cell_type": "code",
   "execution_count": 8,
   "id": "a3727f9f-9502-4517-825d-cb94f8743472",
   "metadata": {
    "tags": []
   },
   "outputs": [],
   "source": [
    "#according to instructions from osm nx-docs, making correct projection\n",
    "gdf_proj = ox.project_gdf(gdf)"
   ]
  },
  {
   "cell_type": "code",
   "execution_count": 10,
   "id": "0dc855ac-a2dd-431e-824e-777b7f3439a8",
   "metadata": {
    "tags": []
   },
   "outputs": [],
   "source": [
    "#using geopandas to calculate areas from the geometric polygons\n",
    "gdf_proj['area'] = gdf_proj.area"
   ]
  },
  {
   "cell_type": "code",
   "execution_count": 12,
   "id": "45536b23-1422-47ba-9903-650990180630",
   "metadata": {
    "tags": []
   },
   "outputs": [],
   "source": [
    "#dropping all buildings without height data, leaving only 12(!) in Södermalm\n",
    "gdf_h = gdf_proj.dropna(subset=['height'])"
   ]
  },
  {
   "cell_type": "code",
   "execution_count": 20,
   "id": "3720e3bf-32e3-4d5e-857c-3c01955915ac",
   "metadata": {
    "tags": []
   },
   "outputs": [],
   "source": [
    "#converting height to floats\n",
    "gdf_h['height'] = gdf_h['height'].astype('float')"
   ]
  },
  {
   "cell_type": "code",
   "execution_count": 21,
   "id": "1d90639b-58de-47cb-b2e9-b348fbe7a00e",
   "metadata": {
    "tags": []
   },
   "outputs": [],
   "source": [
    "#calculating volume of the buildings\n",
    "gdf_h['vol'] = gdf_h['area'] * gdf_h['height']"
   ]
  },
  {
   "cell_type": "code",
   "execution_count": 22,
   "id": "46673916-de1c-4c15-92e1-036b75ac28c2",
   "metadata": {
    "tags": []
   },
   "outputs": [
    {
     "data": {
      "text/plain": [
       "element_type  osmid    \n",
       "way           7266905       29493.398945\n",
       "              27738238     102596.095460\n",
       "              37046494     117033.354986\n",
       "              37079169     139696.631530\n",
       "              37299689      40786.542608\n",
       "              42672700      74156.171756\n",
       "              48603743       1514.351514\n",
       "              149948736     67201.020613\n",
       "              321393288      7807.919588\n",
       "              321393289      7904.836813\n",
       "              846741207     28464.040605\n",
       "              846742152     13780.313237\n",
       "Name: vol, dtype: float64"
      ]
     },
     "execution_count": 22,
     "metadata": {},
     "output_type": "execute_result"
    }
   ],
   "source": [
    "#volume in m^3\n",
    "gdf_h['vol']"
   ]
  },
  {
   "cell_type": "code",
   "execution_count": null,
   "id": "8fdf2a50-9ca0-4193-a235-9de5098e2ea0",
   "metadata": {},
   "outputs": [],
   "source": []
  }
 ],
 "metadata": {
  "kernelspec": {
   "display_name": "Python 3 (ipykernel)",
   "language": "python",
   "name": "python3"
  },
  "language_info": {
   "codemirror_mode": {
    "name": "ipython",
    "version": 3
   },
   "file_extension": ".py",
   "mimetype": "text/x-python",
   "name": "python",
   "nbconvert_exporter": "python",
   "pygments_lexer": "ipython3",
   "version": "3.10.9"
  }
 },
 "nbformat": 4,
 "nbformat_minor": 5
}
