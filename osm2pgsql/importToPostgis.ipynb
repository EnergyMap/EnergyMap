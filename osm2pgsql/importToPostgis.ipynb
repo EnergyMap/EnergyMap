{
 "cells": [
  {
   "cell_type": "code",
   "execution_count": 4,
   "id": "8618ef3c-3692-496a-aed7-4f625ceef629",
   "metadata": {
    "tags": []
   },
   "outputs": [
    {
     "name": "stdout",
     "output_type": "stream",
     "text": [
      "--2023-04-05 14:02:30--  http://download.geofabrik.de/north-america-latest.osm.pbf\n",
      "Resolving download.geofabrik.de (download.geofabrik.de)... 65.109.50.43, 65.109.48.72\n",
      "Connecting to download.geofabrik.de (download.geofabrik.de)|65.109.50.43|:80... connected.\n",
      "HTTP request sent, awaiting response... 200 OK\n",
      "Length: 13165925783 (12G) [application/octet-stream]\n",
      "Saving to: ‘north-america-latest.osm.pbf’\n",
      "\n",
      "north-america-lates 100%[===================>]  12.26G  79.6MB/s    in 3m 2s   \n",
      "\n",
      "2023-04-05 14:05:31 (69.1 MB/s) - ‘north-america-latest.osm.pbf’ saved [13165925783/13165925783]\n",
      "\n"
     ]
    }
   ],
   "source": [
    "#load some data\n",
    "!wget http://download.geofabrik.de/north-america-latest.osm.pbf"
   ]
  },
  {
   "cell_type": "code",
   "execution_count": 6,
   "id": "452fdb75-cf46-4b96-89b4-37c292cdca53",
   "metadata": {
    "tags": []
   },
   "outputs": [
    {
     "name": "stdout",
     "output_type": "stream",
     "text": [
      "cb94fecd2b625abfd695a7ddbf379a3bb7f303c9686994d2792925bb5ccb5cb6\n"
     ]
    }
   ],
   "source": [
    "#filter out only the buildings, runs in detached mode so it will continue working long after the notebook cell execution is finished\n",
    "#you can see the docker container working with e.g. docker stats in bash\n",
    "!docker run -d -w /wkd -v $(pwd):/wkd stefda/osmium-tool osmium tags-filter -o north-america-filtered.osm.pbf north-america-latest.osm.pbf building"
   ]
  },
  {
   "cell_type": "code",
   "execution_count": null,
   "id": "e9acb4c9-4a46-4933-805f-8c6dee19cb59",
   "metadata": {},
   "outputs": [],
   "source": [
    "#loading the filtered osm into postgis -- use for example bash for this\n",
    "osm2pgsql -c -d [NAMEOFDATABASE] -U [NAMEOFUSER] -W -H [DATABASEURL] -P [PORT] -S energy.style europe-filtered.osm.pbf"
   ]
  }
 ],
 "metadata": {
  "kernelspec": {
   "display_name": "Python 3 (ipykernel)",
   "language": "python",
   "name": "python3"
  },
  "language_info": {
   "codemirror_mode": {
    "name": "ipython",
    "version": 3
   },
   "file_extension": ".py",
   "mimetype": "text/x-python",
   "name": "python",
   "nbconvert_exporter": "python",
   "pygments_lexer": "ipython3",
   "version": "3.10.6"
  }
 },
 "nbformat": 4,
 "nbformat_minor": 5
}
