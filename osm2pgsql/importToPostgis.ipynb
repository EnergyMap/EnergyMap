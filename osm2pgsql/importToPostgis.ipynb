{
 "cells": [
  {
   "cell_type": "code",
   "execution_count": 8,
   "id": "8618ef3c-3692-496a-aed7-4f625ceef629",
   "metadata": {
    "tags": []
   },
   "outputs": [
    {
     "name": "stdout",
     "output_type": "stream",
     "text": [
      "--2023-04-06 15:26:41--  http://download.geofabrik.de/south-america-latest.osm.pbf\n",
      "Resolving download.geofabrik.de (download.geofabrik.de)... 65.109.48.72, 65.109.50.43\n",
      "Connecting to download.geofabrik.de (download.geofabrik.de)|65.109.48.72|:80... connected.\n",
      "HTTP request sent, awaiting response... 200 OK\n",
      "Length: 3207312852 (3.0G) [application/octet-stream]\n",
      "Saving to: ‘south-america-latest.osm.pbf’\n",
      "\n",
      "south-america-lates 100%[===================>]   2.99G  48.6MB/s    in 66s     \n",
      "\n",
      "2023-04-06 15:27:47 (46.5 MB/s) - ‘south-america-latest.osm.pbf’ saved [3207312852/3207312852]\n",
      "\n"
     ]
    }
   ],
   "source": [
    "#load some data\n",
    "!wget http://download.geofabrik.de/south-america-latest.osm.pbf"
   ]
  },
  {
   "cell_type": "code",
   "execution_count": 10,
   "id": "828c2bf2-9e2d-489d-bbf5-d6aec68faa45",
   "metadata": {
    "tags": []
   },
   "outputs": [
    {
     "name": "stdout",
     "output_type": "stream",
     "text": [
      "--2023-04-06 15:30:53--  http://download.geofabrik.de/central-america-latest.osm.pbf\n",
      "Resolving download.geofabrik.de (download.geofabrik.de)... 65.109.48.72, 65.109.50.43\n",
      "Connecting to download.geofabrik.de (download.geofabrik.de)|65.109.48.72|:80... connected.\n",
      "HTTP request sent, awaiting response... 200 OK\n",
      "Length: 627784068 (599M) [application/octet-stream]\n",
      "Saving to: ‘central-america-latest.osm.pbf’\n",
      "\n",
      "central-america-lat 100%[===================>] 598.70M  56.5MB/s    in 9.9s    \n",
      "\n",
      "2023-04-06 15:31:03 (60.4 MB/s) - ‘central-america-latest.osm.pbf’ saved [627784068/627784068]\n",
      "\n"
     ]
    }
   ],
   "source": [
    "!wget http://download.geofabrik.de/central-america-latest.osm.pbf"
   ]
  },
  {
   "cell_type": "code",
   "execution_count": 9,
   "id": "b2bc6bb6-4924-413a-82d5-93fe6687f9e9",
   "metadata": {
    "tags": []
   },
   "outputs": [
    {
     "name": "stdout",
     "output_type": "stream",
     "text": [
      "--2023-04-06 15:27:47--  http://download.geofabrik.de/north-america-latest.osm.pbf\n",
      "Resolving download.geofabrik.de (download.geofabrik.de)... 65.109.48.72, 65.109.50.43\n",
      "Connecting to download.geofabrik.de (download.geofabrik.de)|65.109.48.72|:80... connected.\n",
      "HTTP request sent, awaiting response... 200 OK\n",
      "Length: 13175919955 (12G) [application/octet-stream]\n",
      "Saving to: ‘north-america-latest.osm.pbf’\n",
      "\n",
      "north-america-lates 100%[===================>]  12.27G  63.3MB/s    in 3m 6s   \n",
      "\n",
      "2023-04-06 15:30:53 (67.6 MB/s) - ‘north-america-latest.osm.pbf’ saved [13175919955/13175919955]\n",
      "\n"
     ]
    }
   ],
   "source": [
    "!wget http://download.geofabrik.de/north-america-latest.osm.pbf"
   ]
  },
  {
   "cell_type": "code",
   "execution_count": 11,
   "id": "429d6b81-3a5b-41f8-a3fb-dc5ffd726cef",
   "metadata": {
    "tags": []
   },
   "outputs": [
    {
     "name": "stdout",
     "output_type": "stream",
     "text": [
      "--2023-04-06 15:31:03--  http://download.geofabrik.de/europe-latest.osm.pbf\n",
      "Resolving download.geofabrik.de (download.geofabrik.de)... 65.109.50.43, 65.109.48.72\n",
      "Connecting to download.geofabrik.de (download.geofabrik.de)|65.109.50.43|:80... connected.\n",
      "HTTP request sent, awaiting response... 302 Found\n",
      "Location: http://ftp5.gwdg.de/pub/misc/openstreetmap/download.geofabrik.de/europe-latest.osm.pbf [following]\n",
      "--2023-04-06 15:31:03--  http://ftp5.gwdg.de/pub/misc/openstreetmap/download.geofabrik.de/europe-latest.osm.pbf\n",
      "Resolving ftp5.gwdg.de (ftp5.gwdg.de)... 2001:638:60f:110::1:2, 134.76.12.6\n",
      "Connecting to ftp5.gwdg.de (ftp5.gwdg.de)|2001:638:60f:110::1:2|:80... connected.\n",
      "HTTP request sent, awaiting response... 200 OK\n",
      "Length: 28631558146 (27G) [application/octet-stream]\n",
      "Saving to: ‘europe-latest.osm.pbf’\n",
      "\n",
      "europe-latest.osm.p 100%[===================>]  26.67G  56.6MB/s    in 5m 48s  \n",
      "\n",
      "2023-04-06 15:36:51 (78.5 MB/s) - ‘europe-latest.osm.pbf’ saved [28631558146/28631558146]\n",
      "\n"
     ]
    }
   ],
   "source": [
    "!wget http://download.geofabrik.de/europe-latest.osm.pbf"
   ]
  },
  {
   "cell_type": "code",
   "execution_count": 12,
   "id": "f8bf37e0-e263-4e5b-9a0c-29bbbcf99f62",
   "metadata": {
    "tags": []
   },
   "outputs": [
    {
     "name": "stdout",
     "output_type": "stream",
     "text": [
      "--2023-04-06 15:36:52--  http://download.geofabrik.de/asia-latest.osm.pbf\n",
      "Resolving download.geofabrik.de (download.geofabrik.de)... 65.109.50.43, 65.109.48.72\n",
      "Connecting to download.geofabrik.de (download.geofabrik.de)|65.109.50.43|:80... connected.\n",
      "HTTP request sent, awaiting response... 200 OK\n",
      "Length: 12561474562 (12G) [application/octet-stream]\n",
      "Saving to: ‘asia-latest.osm.pbf’\n",
      "\n",
      "asia-latest.osm.pbf 100%[===================>]  11.70G  81.9MB/s    in 2m 27s  \n",
      "\n",
      "2023-04-06 15:39:18 (81.7 MB/s) - ‘asia-latest.osm.pbf’ saved [12561474562/12561474562]\n",
      "\n"
     ]
    }
   ],
   "source": [
    "!wget http://download.geofabrik.de/asia-latest.osm.pbf"
   ]
  },
  {
   "cell_type": "code",
   "execution_count": 13,
   "id": "707e1ebc-bff1-438e-bf7d-f5f20833bfba",
   "metadata": {
    "tags": []
   },
   "outputs": [
    {
     "name": "stdout",
     "output_type": "stream",
     "text": [
      "--2023-04-06 15:39:18--  http://download.geofabrik.de/africa-latest.osm.pbf\n",
      "Resolving download.geofabrik.de (download.geofabrik.de)... 65.109.50.43, 65.109.48.72\n",
      "Connecting to download.geofabrik.de (download.geofabrik.de)|65.109.50.43|:80... connected.\n",
      "HTTP request sent, awaiting response... 200 OK\n",
      "Length: 6115497694 (5.7G) [application/octet-stream]\n",
      "Saving to: ‘africa-latest.osm.pbf’\n",
      "\n",
      "africa-latest.osm.p 100%[===================>]   5.70G  53.1MB/s    in 99s     \n",
      "\n",
      "2023-04-06 15:40:58 (58.7 MB/s) - ‘africa-latest.osm.pbf’ saved [6115497694/6115497694]\n",
      "\n"
     ]
    }
   ],
   "source": [
    "!wget http://download.geofabrik.de/africa-latest.osm.pbf"
   ]
  },
  {
   "cell_type": "code",
   "execution_count": 14,
   "id": "aa0f57bb-1c21-4ea1-af1c-b8fc96466818",
   "metadata": {
    "tags": []
   },
   "outputs": [
    {
     "name": "stdout",
     "output_type": "stream",
     "text": [
      "--2023-04-06 15:40:58--  http://download.geofabrik.de/australia-oceania-latest.osm.pbf\n",
      "Resolving download.geofabrik.de (download.geofabrik.de)... 65.109.50.43, 65.109.48.72\n",
      "Connecting to download.geofabrik.de (download.geofabrik.de)|65.109.50.43|:80... connected.\n",
      "HTTP request sent, awaiting response... 200 OK\n",
      "Length: 1108668874 (1.0G) [application/octet-stream]\n",
      "Saving to: ‘australia-oceania-latest.osm.pbf’\n",
      "\n",
      "australia-oceania-l 100%[===================>]   1.03G  40.4MB/s    in 23s     \n",
      "\n",
      "2023-04-06 15:41:21 (45.5 MB/s) - ‘australia-oceania-latest.osm.pbf’ saved [1108668874/1108668874]\n",
      "\n"
     ]
    }
   ],
   "source": [
    "!wget http://download.geofabrik.de/australia-oceania-latest.osm.pbf"
   ]
  },
  {
   "cell_type": "code",
   "execution_count": 15,
   "id": "452fdb75-cf46-4b96-89b4-37c292cdca53",
   "metadata": {
    "tags": []
   },
   "outputs": [
    {
     "name": "stdout",
     "output_type": "stream",
     "text": [
      "b67463c03e7b545bcf9c3d9b9b2534c2c420ed15b6b306a9d802726cbe1c797d\n"
     ]
    }
   ],
   "source": [
    "#filter out only the buildings, runs in detached mode so it will continue working long after the notebook cell execution is finished\n",
    "#you can see the docker container working with e.g. docker stats in bash\n",
    "!docker run -d -w /wkd -v $(pwd):/wkd stefda/osmium-tool osmium tags-filter -o centralamerica-filtered.osm.pbf central-america-latest.osm.pbf building"
   ]
  },
  {
   "cell_type": "code",
   "execution_count": 16,
   "id": "4ab4ad90-176a-4a47-b6c4-ea45327e83d2",
   "metadata": {
    "tags": []
   },
   "outputs": [
    {
     "name": "stdout",
     "output_type": "stream",
     "text": [
      "e5860c91c3934f8727e67abe3c18cfd92b23ded9db14ff25eb9222dfa3bee940\n"
     ]
    }
   ],
   "source": [
    "!docker run -d -w /wkd -v $(pwd):/wkd stefda/osmium-tool osmium tags-filter -o southamerica-filtered.osm.pbf south-america-latest.osm.pbf building"
   ]
  },
  {
   "cell_type": "code",
   "execution_count": 17,
   "id": "6cdbbc5c-d1fb-41c0-93ec-b9c561cea77d",
   "metadata": {
    "tags": []
   },
   "outputs": [
    {
     "name": "stdout",
     "output_type": "stream",
     "text": [
      "52883bfd9b65bb8dfd7202450a9826c4474ade04dc7a3c81151ef996a0a40130\n"
     ]
    }
   ],
   "source": [
    "!docker run -d -w /wkd -v $(pwd):/wkd stefda/osmium-tool osmium tags-filter -o northamerica-filtered.osm.pbf north-america-latest.osm.pbf building"
   ]
  },
  {
   "cell_type": "code",
   "execution_count": 18,
   "id": "ddb50484-dece-4f04-899e-14bc74cf845c",
   "metadata": {
    "tags": []
   },
   "outputs": [
    {
     "name": "stdout",
     "output_type": "stream",
     "text": [
      "35dc68136e6775b11d584b0c133bd2b782a402b016c68603be33021ecc78bc39\n"
     ]
    }
   ],
   "source": [
    "!docker run -d -w /wkd -v $(pwd):/wkd stefda/osmium-tool osmium tags-filter -o europe-filtered.osm.pbf europe-latest.osm.pbf building"
   ]
  },
  {
   "cell_type": "code",
   "execution_count": 19,
   "id": "f1762a95-05ab-4326-865e-86eeb8766094",
   "metadata": {
    "tags": []
   },
   "outputs": [
    {
     "name": "stdout",
     "output_type": "stream",
     "text": [
      "39b9d71cc0787839a0925bbf2b189c485dcebe9eaccb3ada135e476b93856ea3\n"
     ]
    }
   ],
   "source": [
    "!docker run -d -w /wkd -v $(pwd):/wkd stefda/osmium-tool osmium tags-filter -o asia-filtered.osm.pbf asia-latest.osm.pbf building"
   ]
  },
  {
   "cell_type": "code",
   "execution_count": 20,
   "id": "658d86e0-c638-426a-a072-f142da827cb7",
   "metadata": {
    "tags": []
   },
   "outputs": [
    {
     "name": "stdout",
     "output_type": "stream",
     "text": [
      "442fef11c1a7487afc188d5cb21473ebf28e07cabfc9bef9c6c5957053cf213d\n"
     ]
    }
   ],
   "source": [
    "!docker run -d -w /wkd -v $(pwd):/wkd stefda/osmium-tool osmium tags-filter -o africa-filtered.osm.pbf africa-latest.osm.pbf building"
   ]
  },
  {
   "cell_type": "code",
   "execution_count": 21,
   "id": "7a92b89e-a594-463e-ad4d-d581890466a6",
   "metadata": {
    "tags": []
   },
   "outputs": [
    {
     "name": "stdout",
     "output_type": "stream",
     "text": [
      "c9eb104a0650d7e7b34969b0acb999af12fbb9898a53fea1b44142ec2cc22302\n"
     ]
    }
   ],
   "source": [
    "!docker run -d -w /wkd -v $(pwd):/wkd stefda/osmium-tool osmium tags-filter -o australia-filtered.osm.pbf australia-oceania-latest.osm.pbf building"
   ]
  },
  {
   "cell_type": "code",
   "execution_count": 22,
   "id": "57805cd9-daef-487a-adc1-38145a662023",
   "metadata": {
    "tags": []
   },
   "outputs": [
    {
     "name": "stdout",
     "output_type": "stream",
     "text": [
      "ea4c58b99cc0acdad81446342689711e9784f851b4937ee372e6e89df206acdc\n"
     ]
    }
   ],
   "source": [
    "#merge different osm.pbf-files into one (please note, download them on the same day)\n",
    "!docker run -d -w /wkd -v $(pwd):/wkd stefda/osmium-tool osmium merge europe-filtered.osm.pbf africa-filtered.osm.pbf asia-filtered.osm.pbf australia-filtered.osm.pbf northamerica-filtered.osm.pbf southamerica-filtered.osm.pbf centralamerica-filtered.osm.pbf -o world.osm.pbf"
   ]
  },
  {
   "cell_type": "code",
   "execution_count": null,
   "id": "648e35d7-d0f9-4cfe-b172-6f98f6a5199d",
   "metadata": {},
   "outputs": [],
   "source": []
  },
  {
   "cell_type": "code",
   "execution_count": null,
   "id": "e9acb4c9-4a46-4933-805f-8c6dee19cb59",
   "metadata": {},
   "outputs": [],
   "source": [
    "#loading the filtered osm into postgis -- use bash for this, the jupyter kernel might crash\n",
    "!osm2pgsql -c -d [NAMEOFDATABASE] -U [NAMEOFUSER] -W -H [DATABASEURL] -P [PORT] -S energy.style europe-filtered.osm.pbf"
   ]
  }
 ],
 "metadata": {
  "kernelspec": {
   "display_name": "Python 3 (ipykernel)",
   "language": "python",
   "name": "python3"
  },
  "language_info": {
   "codemirror_mode": {
    "name": "ipython",
    "version": 3
   },
   "file_extension": ".py",
   "mimetype": "text/x-python",
   "name": "python",
   "nbconvert_exporter": "python",
   "pygments_lexer": "ipython3",
   "version": "3.10.6"
  }
 },
 "nbformat": 4,
 "nbformat_minor": 5
}
