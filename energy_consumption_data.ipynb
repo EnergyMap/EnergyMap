{
 "cells": [
  {
   "cell_type": "code",
   "execution_count": 19,
   "metadata": {
    "collapsed": true,
    "pycharm": {
     "name": "#%%\n"
    }
   },
   "outputs": [],
   "source": [
    "import pandas as pd\n"
   ]
  },
  {
   "cell_type": "markdown",
   "source": [
    "## Energy Consumption for heating in EU"
   ],
   "metadata": {
    "collapsed": false,
    "pycharm": {
     "name": "#%% md\n"
    }
   }
  },
  {
   "cell_type": "markdown",
   "source": [
    "Data from:\n",
    "https://energy.ec.europa.eu/topics/energy-efficiency/energy-efficient-buildings/eu-building-stock-observatory_en\n",
    "\n",
    "Also has data on age of buildings, not easily used though\n"
   ],
   "metadata": {
    "collapsed": false,
    "pycharm": {
     "name": "#%% md\n"
    }
   }
  },
  {
   "cell_type": "code",
   "execution_count": 243,
   "outputs": [],
   "source": [
    "\n",
    "consumption = pd.DataFrame(pd.read_excel(\"./energy_consumption.xlsx\"))\n",
    "columns = consumption.iloc[3].dropna()[1:-2].tolist()\n",
    "consumption = consumption.iloc[4567:4771]\n",
    "columns = [\"Category\", \"Country\", \"Unit\"] + [str(i) for i in columns]\n",
    "columns = [i if \".\" not in i else str(int(float(i))) for i in columns]\n",
    "\n",
    "blocks = consumption.iloc[:,6]\n",
    "block_starts = blocks[blocks == \"EU\"].index.tolist()\n",
    "\n",
    "heating_consumption = []\n",
    "\n",
    "for i, start in enumerate(block_starts[:-1]):\n",
    "    block_data = consumption.loc[start:block_starts[i+1]]\n",
    "    category = block_data.iloc[:,4].dropna()\n",
    "    data = block_data.iloc[:,6:-2]\n",
    "    data.columns = columns[1:]\n",
    "    data[\"Category\"] = category.values[0]\n",
    "    data = data[columns]\n",
    "\n",
    "    heating_consumption.append(data)\n",
    "\n",
    "heating_consumption = pd.concat(heating_consumption)\n"
   ],
   "metadata": {
    "collapsed": false,
    "pycharm": {
     "name": "#%%\n"
    }
   }
  },
  {
   "cell_type": "code",
   "execution_count": 244,
   "outputs": [
    {
     "name": "stdout",
     "output_type": "stream",
     "text": [
      "2.8092 2.8092\n"
     ]
    }
   ],
   "source": [
    "# Checking that the data makes sense\n",
    "\n",
    "total = heating_consumption[heating_consumption[\"Category\"] == \"Residential-Space heating\"]\n",
    "f_total = total[total[\"Country\"] == \"Finland\"]\n",
    "other = heating_consumption[heating_consumption[\"Category\"] != \"Residential-Space heating\"]\n",
    "f_other = other[other[\"Country\"] == \"Finland\"]\n",
    "\n",
    "print(f_total[\"2000\"].values[0], f_other[\"2000\"].sum())\n"
   ],
   "metadata": {
    "collapsed": false,
    "pycharm": {
     "name": "#%%\n"
    }
   }
  },
  {
   "cell_type": "code",
   "execution_count": 247,
   "outputs": [
    {
     "name": "stdout",
     "output_type": "stream",
     "text": [
      "---------- Germany ----------\n",
      "Fraction produced by Natural gas: 0.5276653317458598\n",
      "Fraction produced by Petroleum products: 0.26989122199372223\n",
      "Fraction produced by Solid fuel: 0.01765613161597575\n",
      "Fraction produced by Electricity: 0.02525976837320056\n",
      "Fraction produced by Derivated heat: 0.09635241909297543\n",
      "Fraction produced by Renewables: 0.06317242125771187\n",
      "---------- Sweden ----------\n",
      "Fraction produced by Natural gas: 0.005943678849610544\n",
      "Fraction produced by Petroleum products: 0.011048532055122828\n",
      "Fraction produced by Solid fuel: nan\n",
      "Fraction produced by Electricity: 0.29526662672258835\n",
      "Fraction produced by Derivated heat: 0.47439185140802875\n",
      "Fraction produced by Renewables: 0.21332534451767524\n",
      "---------- Czech Republic ----------\n",
      "Fraction produced by Natural gas: 0.2702529618956132\n",
      "Fraction produced by Petroleum products: 0.004717685985697513\n",
      "Fraction produced by Solid fuel: 0.15544882057850357\n",
      "Fraction produced by Electricity: 0.06421176219447114\n",
      "Fraction produced by Derivated heat: 0.14012167787383925\n",
      "Fraction produced by Renewables: 0.36524709147187534\n",
      "---------- Estonia ----------\n",
      "Fraction produced by Natural gas: 0.06569965870307168\n",
      "Fraction produced by Petroleum products: 0.018430034129692834\n",
      "Fraction produced by Solid fuel: 0.0\n",
      "Fraction produced by Electricity: 0.03771331058020478\n",
      "Fraction produced by Derivated heat: 0.44709897610921506\n",
      "Fraction produced by Renewables: 0.4308873720136519\n",
      "---------- Romania ----------\n",
      "Fraction produced by Natural gas: 0.17285385699799666\n",
      "Fraction produced by Petroleum products: 0.0\n",
      "Fraction produced by Solid fuel: 0.001335542749734128\n",
      "Fraction produced by Electricity: 0.01211881384018005\n",
      "Fraction produced by Derivated heat: 0.21447827269804365\n",
      "Fraction produced by Renewables: 0.5992135137140454\n",
      "---------- Belgium ----------\n",
      "Fraction produced by Natural gas: 0.47638230778120827\n",
      "Fraction produced by Petroleum products: 0.3765787779226997\n",
      "Fraction produced by Solid fuel: 0.013851970479948489\n",
      "Fraction produced by Electricity: 0.03173240436526936\n",
      "Fraction produced by Derivated heat: 0.00014859086331291585\n",
      "Fraction produced by Renewables: 0.10128943849163764\n",
      "---------- Austria ----------\n",
      "Fraction produced by Natural gas: 0.2669747144140675\n",
      "Fraction produced by Petroleum products: 0.21798656569546057\n",
      "Fraction produced by Solid fuel: 0.0034655371582595304\n",
      "Fraction produced by Electricity: 0.059128053737218154\n",
      "Fraction produced by Derivated heat: 0.13571214649381766\n",
      "Fraction produced by Renewables: 0.31673298250117654\n",
      "---------- Poland ----------\n",
      "Fraction produced by Natural gas: 0.14295067988366603\n",
      "Fraction produced by Petroleum products: 0.006524751419913815\n",
      "Fraction produced by Solid fuel: 0.45122044066815886\n",
      "Fraction produced by Electricity: 0.008542323329222053\n",
      "Fraction produced by Derivated heat: 0.2077566123064273\n",
      "Fraction produced by Renewables: 0.18300519239261187\n",
      "---------- Italy ----------\n",
      "Fraction produced by Natural gas: 0.6066959057613263\n",
      "Fraction produced by Petroleum products: 0.08149440859721234\n",
      "Fraction produced by Solid fuel: 0.0\n",
      "Fraction produced by Electricity: 0.004445567062389492\n",
      "Fraction produced by Derivated heat: 0.03785161542170888\n",
      "Fraction produced by Renewables: 0.26951250315736297\n",
      "---------- Spain ----------\n",
      "Fraction produced by Natural gas: 0.24778501979999695\n",
      "Fraction produced by Petroleum products: 0.29720026502719615\n",
      "Fraction produced by Solid fuel: 0.009953928411839938\n",
      "Fraction produced by Electricity: 0.06798255751244241\n",
      "Fraction produced by Derivated heat: 0.0\n",
      "Fraction produced by Renewables: 0.3770936378064377\n",
      "---------- Croatia ----------\n",
      "Fraction produced by Natural gas: 0.20903348826123228\n",
      "Fraction produced by Petroleum products: 0.053211774520319395\n",
      "Fraction produced by Solid fuel: 0.0013109283756405673\n",
      "Fraction produced by Electricity: 0.016327017042068886\n",
      "Fraction produced by Derivated heat: 0.06626147062328686\n",
      "Fraction produced by Renewables: 0.653855321177452\n",
      "---------- Slovenia ----------\n",
      "Fraction produced by Natural gas: 0.11807423345884883\n",
      "Fraction produced by Petroleum products: 0.14967724583109196\n",
      "Fraction produced by Solid fuel: 0.00013448090371167293\n",
      "Fraction produced by Electricity: 0.03967186659494351\n",
      "Fraction produced by Derivated heat: 0.09238838084991931\n",
      "Fraction produced by Renewables: 0.6001882732651963\n",
      "---------- EU ----------\n",
      "Fraction produced by Natural gas: 0.4378827644176514\n",
      "Fraction produced by Natural gas: 0.4378827644176514\n",
      "Fraction produced by Petroleum products: 0.15533841854664943\n",
      "Fraction produced by Petroleum products: 0.15533841854664943\n",
      "Fraction produced by Solid fuel: 0.04938570962324209\n",
      "Fraction produced by Solid fuel: 0.04938570962324209\n",
      "Fraction produced by Electricity: 0.0655024764840908\n",
      "Fraction produced by Electricity: 0.0655024764840908\n",
      "Fraction produced by Derivated heat: 0.09644729670558067\n",
      "Fraction produced by Derivated heat: 0.09644729670558067\n",
      "Fraction produced by Renewables: 0.20767501687343273\n",
      "Fraction produced by Renewables: 0.20767501687343273\n",
      "---------- France ----------\n",
      "Fraction produced by Natural gas: 0.3681315514570801\n",
      "Fraction produced by Petroleum products: 0.15332300709628616\n",
      "Fraction produced by Solid fuel: 0.008266993263931415\n",
      "Fraction produced by Electricity: 0.11328482403371636\n",
      "Fraction produced by Derivated heat: 0.04376643492669573\n",
      "Fraction produced by Renewables: 0.3132379957494327\n",
      "---------- UK  ----------\n",
      "Fraction produced by Natural gas: 0.7413409890720504\n",
      "Fraction produced by Petroleum products: 0.08084830524171142\n",
      "Fraction produced by Solid fuel: 0.02153597467544495\n",
      "Fraction produced by Electricity: 0.07011399417400528\n",
      "Fraction produced by Derivated heat: 0.01096162589031639\n",
      "Fraction produced by Renewables: 0.07519911094647157\n",
      "---------- Netherlands ----------\n",
      "Fraction produced by Natural gas: 0.8567833173537871\n",
      "Fraction produced by Petroleum products: 0.00536313518696069\n",
      "Fraction produced by Solid fuel: 0.0\n",
      "Fraction produced by Electricity: 0.01781220038350911\n",
      "Fraction produced by Derivated heat: 0.04422339405560882\n",
      "Fraction produced by Renewables: 0.0758329338446788\n",
      "---------- Ireland ----------\n",
      "Fraction produced by Natural gas: 0.24268306571005582\n",
      "Fraction produced by Petroleum products: 0.48593554264890104\n",
      "Fraction produced by Solid fuel: 0.19929393007630108\n",
      "Fraction produced by Electricity: 0.05398018448923812\n",
      "Fraction produced by Derivated heat: 0.0\n",
      "Fraction produced by Renewables: 0.018164218198382872\n",
      "---------- Hungary ----------\n",
      "Fraction produced by Natural gas: 0.5101996003601151\n",
      "Fraction produced by Petroleum products: 0.0016688258931512265\n",
      "Fraction produced by Solid fuel: 0.02648163193605762\n",
      "Fraction produced by Electricity: 0.007839090050723524\n",
      "Fraction produced by Derivated heat: 0.08146505346830328\n",
      "Fraction produced by Renewables: 0.3723677565270855\n",
      "---------- Lithuania ----------\n",
      "Fraction produced by Natural gas: 0.09297500247011166\n",
      "Fraction produced by Petroleum products: 0.012251753779270822\n",
      "Fraction produced by Solid fuel: 0.044659618614761386\n",
      "Fraction produced by Electricity: 0.012054144847347101\n",
      "Fraction produced by Derivated heat: 0.39077166287916215\n",
      "Fraction produced by Renewables: 0.4472878174093469\n",
      "---------- Finland ----------\n",
      "Fraction produced by Natural gas: 0.006374477689328087\n",
      "Fraction produced by Petroleum products: 0.08134321529874645\n",
      "Fraction produced by Solid fuel: 0.0008234971177600879\n",
      "Fraction produced by Electricity: 0.21880623417818038\n",
      "Fraction produced by Derivated heat: 0.3552932564736023\n",
      "Fraction produced by Renewables: 0.33735931924238266\n",
      "---------- Malta ----------\n",
      "Fraction produced by Natural gas: 0.0\n",
      "Fraction produced by Petroleum products: 0.4953271028037384\n",
      "Fraction produced by Solid fuel: 0.0\n",
      "Fraction produced by Electricity: 0.4018691588785047\n",
      "Fraction produced by Derivated heat: 0.0\n",
      "Fraction produced by Renewables: 0.10280373831775702\n",
      "---------- Luxembourg ----------\n",
      "Fraction produced by Natural gas: 0.48470588235294115\n",
      "Fraction produced by Petroleum products: 0.38823529411764707\n",
      "Fraction produced by Solid fuel: nan\n",
      "Fraction produced by Electricity: 0.05411764705882353\n",
      "Fraction produced by Derivated heat: 0.01411764705882353\n",
      "Fraction produced by Renewables: 0.05882352941176471\n",
      "---------- Greece ----------\n",
      "Fraction produced by Natural gas: 0.11391897312474929\n",
      "Fraction produced by Petroleum products: 0.46594464500601684\n",
      "Fraction produced by Solid fuel: 0.0004011231448054553\n",
      "Fraction produced by Electricity: 0.10381066987565182\n",
      "Fraction produced by Derivated heat: 0.020417168070597676\n",
      "Fraction produced by Renewables: 0.29550742077817893\n",
      "---------- Denmark ----------\n",
      "Fraction produced by Natural gas: 0.16208590239314452\n",
      "Fraction produced by Petroleum products: 0.05786916083185286\n",
      "Fraction produced by Solid fuel: 0.0\n",
      "Fraction produced by Electricity: 0.0345908663392204\n",
      "Fraction produced by Derivated heat: 0.43442365973455954\n",
      "Fraction produced by Renewables: 0.31103041070122267\n",
      "---------- Latvia ----------\n",
      "Fraction produced by Natural gas: 0.08\n",
      "Fraction produced by Petroleum products: 0.01103896103896104\n",
      "Fraction produced by Solid fuel: 0.012987012987012986\n",
      "Fraction produced by Electricity: 0.02\n",
      "Fraction produced by Derivated heat: 0.36493506493506495\n",
      "Fraction produced by Renewables: 0.510909090909091\n",
      "---------- Portugal ----------\n",
      "Fraction produced by Natural gas: 0.0141882183908046\n",
      "Fraction produced by Petroleum products: 0.0738146551724138\n",
      "Fraction produced by Solid fuel: nan\n",
      "Fraction produced by Electricity: 0.18318965517241378\n",
      "Fraction produced by Derivated heat: 0.0\n",
      "Fraction produced by Renewables: 0.7288074712643678\n",
      "---------- Cyprus ----------\n",
      "Fraction produced by Natural gas: nan\n",
      "Fraction produced by Petroleum products: 0.9171396140749148\n",
      "Fraction produced by Solid fuel: nan\n",
      "Fraction produced by Electricity: 0.04653802497162316\n",
      "Fraction produced by Derivated heat: nan\n",
      "Fraction produced by Renewables: 0.03632236095346198\n",
      "---------- Slovakia ----------\n",
      "Fraction produced by Natural gas: 0.6945528455284552\n",
      "Fraction produced by Petroleum products: 0.005691056910569106\n",
      "Fraction produced by Solid fuel: 0.01934959349593496\n",
      "Fraction produced by Electricity: 0.031382113821138216\n",
      "Fraction produced by Derivated heat: 0.22471544715447153\n",
      "Fraction produced by Renewables: 0.024227642276422764\n",
      "---------- Bulgaria ----------\n",
      "Fraction produced by Natural gas: 0.029231815091774298\n",
      "Fraction produced by Petroleum products: 0.015635622025832765\n",
      "Fraction produced by Solid fuel: 0.1080897348742352\n",
      "Fraction produced by Electricity: 0.1434398368456832\n",
      "Fraction produced by Derivated heat: 0.18830727396329028\n",
      "Fraction produced by Renewables: 0.5152957171991842\n"
     ]
    }
   ],
   "source": [
    "year = \"2016\"\n",
    "\n",
    "for country in set(heating_consumption[\"Country\"]):\n",
    "    print(f\"---------- {country} ----------\")\n",
    "    country_data = heating_consumption[heating_consumption[\"Country\"] == country]\n",
    "    country_total = country_data[country_data[\"Category\"] == \"Residential-Space heating\"][year].values[0]\n",
    "    for source in country_data[\"Category\"]:\n",
    "        if source != \"Residential-Space heating\":\n",
    "            from_source = country_data[country_data[\"Category\"] == source][year].values[0]\n",
    "            print(f\"Fraction produced by {source}: {from_source / country_total}\")\n"
   ],
   "metadata": {
    "collapsed": false,
    "pycharm": {
     "name": "#%%\n"
    }
   }
  },
  {
   "cell_type": "code",
   "execution_count": null,
   "outputs": [],
   "source": [],
   "metadata": {
    "collapsed": false,
    "pycharm": {
     "name": "#%%\n"
    }
   }
  },
  {
   "cell_type": "code",
   "execution_count": null,
   "outputs": [],
   "source": [],
   "metadata": {
    "collapsed": false,
    "pycharm": {
     "name": "#%%\n"
    }
   }
  },
  {
   "cell_type": "code",
   "execution_count": null,
   "outputs": [],
   "source": [],
   "metadata": {
    "collapsed": false,
    "pycharm": {
     "name": "#%%\n"
    }
   }
  }
 ],
 "metadata": {
  "kernelspec": {
   "display_name": "Python 3",
   "language": "python",
   "name": "python3"
  },
  "language_info": {
   "codemirror_mode": {
    "name": "ipython",
    "version": 2
   },
   "file_extension": ".py",
   "mimetype": "text/x-python",
   "name": "python",
   "nbconvert_exporter": "python",
   "pygments_lexer": "ipython2",
   "version": "2.7.6"
  }
 },
 "nbformat": 4,
 "nbformat_minor": 0
}