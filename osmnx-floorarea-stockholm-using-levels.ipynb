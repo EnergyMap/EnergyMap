{
 "cells": [
  {
   "cell_type": "code",
   "execution_count": 1,
   "id": "8e3b4917-4f4d-4d8d-a080-48f689d4893c",
   "metadata": {
    "tags": []
   },
   "outputs": [],
   "source": [
    "import osmnx as ox"
   ]
  },
  {
   "cell_type": "code",
   "execution_count": 2,
   "id": "a1ee0d77-c042-4424-9960-8dad975af3cb",
   "metadata": {
    "tags": []
   },
   "outputs": [],
   "source": [
    "#loading buildings from Södermalm in Stockholm\n",
    "tags = {\"building\": True}\n",
    "gdf = ox.geometries_from_place(\"Stockholm\", tags)"
   ]
  },
  {
   "cell_type": "code",
   "execution_count": 3,
   "id": "108cae6e-4753-4d04-90a4-f5c535a6a739",
   "metadata": {
    "tags": []
   },
   "outputs": [],
   "source": [
    "#choosing only the element_type \"way\", which perhaps(!) is the correct element_type\n",
    "gdf = gdf.loc[(gdf.index.get_level_values('element_type') == 'way')]"
   ]
  },
  {
   "cell_type": "code",
   "execution_count": 4,
   "id": "a3727f9f-9502-4517-825d-cb94f8743472",
   "metadata": {
    "tags": []
   },
   "outputs": [],
   "source": [
    "#according to instructions from osm nx-docs, making correct projection\n",
    "gdf_proj = ox.project_gdf(gdf)"
   ]
  },
  {
   "cell_type": "code",
   "execution_count": 5,
   "id": "0dc855ac-a2dd-431e-824e-777b7f3439a8",
   "metadata": {
    "tags": []
   },
   "outputs": [],
   "source": [
    "#using geopandas to calculate areas from the geometric polygons\n",
    "gdf_proj['area'] = gdf_proj.area"
   ]
  },
  {
   "cell_type": "code",
   "execution_count": 6,
   "id": "f6bb8191-9249-4773-a1bd-4c417cf39709",
   "metadata": {
    "tags": []
   },
   "outputs": [],
   "source": [
    "#keeping only buildings with level information\n",
    "gdf_l = gdf_proj.dropna(subset=['building:levels'])"
   ]
  },
  {
   "cell_type": "code",
   "execution_count": 7,
   "id": "28a64f8e-1be8-4faf-9279-996bdcd73927",
   "metadata": {
    "tags": []
   },
   "outputs": [
    {
     "data": {
      "text/plain": [
       "(9226, 336)"
      ]
     },
     "execution_count": 7,
     "metadata": {},
     "output_type": "execute_result"
    }
   ],
   "source": [
    "gdf_l.shape"
   ]
  },
  {
   "cell_type": "code",
   "execution_count": null,
   "id": "16eac6be-6e6a-45a8-878f-1d1bcdc80354",
   "metadata": {
    "tags": []
   },
   "outputs": [],
   "source": [
    "#this is not an important cell, just testing something\n",
    "gdf_l['building:levels'].str.contains('[A-Za-z]')"
   ]
  },
  {
   "cell_type": "code",
   "execution_count": null,
   "id": "a90fdb2b-7cd1-487c-bd73-f8a7a70c8a6b",
   "metadata": {
    "tags": []
   },
   "outputs": [],
   "source": [
    "gdf_l['building:levels'] = gdf_l['building:levels'].astype('float')"
   ]
  },
  {
   "cell_type": "code",
   "execution_count": null,
   "id": "8fabf78b-dad0-43a8-9048-5f6767d2a950",
   "metadata": {
    "tags": []
   },
   "outputs": [],
   "source": [
    "#calculating floor area\n",
    "gdf_l['floor'] = gdf_l['building:levels'] * gdf_l['area']"
   ]
  },
  {
   "cell_type": "code",
   "execution_count": 13,
   "id": "ff3af615-da59-4cba-a320-3e7966ab51ca",
   "metadata": {
    "tags": []
   },
   "outputs": [
    {
     "data": {
      "text/plain": [
       "element_type  osmid     \n",
       "way           4693665       12907.400324\n",
       "              4880162        6853.864104\n",
       "              5174887       10031.442144\n",
       "              5192037        1041.171489\n",
       "              5192038        2748.634102\n",
       "                                ...     \n",
       "              1145158039       32.850202\n",
       "              1145158040       13.857310\n",
       "              1145158041       11.480690\n",
       "              1145158042       23.528134\n",
       "              1145158043        7.987229\n",
       "Name: floor, Length: 9226, dtype: float64"
      ]
     },
     "execution_count": 13,
     "metadata": {},
     "output_type": "execute_result"
    }
   ],
   "source": [
    "gdf_l['floor']"
   ]
  },
  {
   "cell_type": "code",
   "execution_count": null,
   "id": "ee33ec50-ba63-4c48-a2e2-a0b3b9745e09",
   "metadata": {
    "tags": []
   },
   "outputs": [],
   "source": [
    "#multiplying floor area with figure from Antti's model, using climate zone 5 for Stockholm\n",
    "gdf_l['kWh/a'] = gdf_l['floor'] * 159.993"
   ]
  },
  {
   "cell_type": "code",
   "execution_count": 15,
   "id": "ad727142-4bb2-49b7-b1a0-db329e719864",
   "metadata": {
    "tags": []
   },
   "outputs": [
    {
     "data": {
      "text/plain": [
       "0.20848999999999998"
      ]
     },
     "execution_count": 15,
     "metadata": {},
     "output_type": "execute_result"
    }
   ],
   "source": [
    "#using this article https://www.sei.org/publications/swedish-heat-energy-system-new-tensions-and-lock-ins-after-a-successful-transition/#:~:text=Fossil%20fuel%20energy%20has%20been,demand%20for%20heating%20in%20buildings.\n",
    "#to calculate an estimate of the energy mix and it's co2-emissions using Antti's model\n",
    "co2 = 0.5*0.195 + 0.25*0.104 + 0.08*0.255 + 0.08*0.354 + 0.09*0.403\n",
    "co2"
   ]
  },
  {
   "cell_type": "code",
   "execution_count": null,
   "id": "978bb5bc-654c-481b-85ee-572043bfe70a",
   "metadata": {
    "tags": []
   },
   "outputs": [],
   "source": [
    "#multiplying kWh with co2/kWh for estimate of co2-emissions\n",
    "gdf_l['co2/a'] = gdf_l['kWh/a'] * co2"
   ]
  },
  {
   "cell_type": "code",
   "execution_count": 17,
   "id": "e41f9efc-aa63-4a15-96e6-dffac0871212",
   "metadata": {
    "tags": []
   },
   "outputs": [],
   "source": [
    "import matplotlib.pyplot as plt"
   ]
  },
  {
   "cell_type": "code",
   "execution_count": 23,
   "id": "68fbe282-7084-4615-ae8d-6adb2d6c8b52",
   "metadata": {
    "tags": []
   },
   "outputs": [
    {
     "data": {
      "image/png": "[encoded data removed]",
      "text/plain": [
       "<Figure size 640x480 with 1 Axes>"
      ]
     },
     "metadata": {},
     "output_type": "display_data"
    }
   ],
   "source": [
    "plt.hist(gdf_l['co2/a'], bins=20)\n",
    "plt.show()"
   ]
  },
  {
   "cell_type": "code",
   "execution_count": null,
   "id": "c03d172b-0539-4f86-bb46-165a527741f6",
   "metadata": {},
   "outputs": [],
   "source": []
  }
 ],
 "metadata": {
  "kernelspec": {
   "display_name": "Python 3 (ipykernel)",
   "language": "python",
   "name": "python3"
  },
  "language_info": {
   "codemirror_mode": {
    "name": "ipython",
    "version": 3
   },
   "file_extension": ".py",
   "mimetype": "text/x-python",
   "name": "python",
   "nbconvert_exporter": "python",
   "pygments_lexer": "ipython3",
   "version": "3.10.6"
  }
 },
 "nbformat": 4,
 "nbformat_minor": 5
}
