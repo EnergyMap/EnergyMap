{
 "cells": [
  {
   "cell_type": "code",
   "execution_count": 2,
   "id": "8e3b4917-4f4d-4d8d-a080-48f689d4893c",
   "metadata": {
    "tags": []
   },
   "outputs": [],
   "source": [
    "import osmnx as ox"
   ]
  },
  {
   "cell_type": "code",
   "execution_count": 3,
   "id": "a1ee0d77-c042-4424-9960-8dad975af3cb",
   "metadata": {
    "tags": []
   },
   "outputs": [],
   "source": [
    "#loading buildings from Södermalm in Stockholm\n",
    "tags = {\"building\": True}\n",
    "gdf = ox.geometries_from_place(\"Södermalm, Stockholm\", tags)"
   ]
  },
  {
   "cell_type": "code",
   "execution_count": 4,
   "id": "108cae6e-4753-4d04-90a4-f5c535a6a739",
   "metadata": {
    "tags": []
   },
   "outputs": [],
   "source": [
    "#choosing only the element_type \"way\", which perhaps(!) is the correct element_type\n",
    "gdf = gdf.loc[(gdf.index.get_level_values('element_type') == 'way')]"
   ]
  },
  {
   "cell_type": "code",
   "execution_count": 5,
   "id": "a3727f9f-9502-4517-825d-cb94f8743472",
   "metadata": {
    "tags": []
   },
   "outputs": [],
   "source": [
    "#according to instructions from osm nx-docs, making correct projection\n",
    "gdf_proj = ox.project_gdf(gdf)"
   ]
  },
  {
   "cell_type": "code",
   "execution_count": 6,
   "id": "0dc855ac-a2dd-431e-824e-777b7f3439a8",
   "metadata": {
    "tags": []
   },
   "outputs": [],
   "source": [
    "#using geopandas to calculate areas from the geometric polygons\n",
    "gdf_proj['area'] = gdf_proj.area"
   ]
  },
  {
   "cell_type": "code",
   "execution_count": 7,
   "id": "f6bb8191-9249-4773-a1bd-4c417cf39709",
   "metadata": {
    "tags": []
   },
   "outputs": [],
   "source": [
    "#keeping only buildings with level information\n",
    "gdf_l = gdf_proj.dropna(subset=['building:levels'])"
   ]
  },
  {
   "cell_type": "code",
   "execution_count": 8,
   "id": "9524e118-625a-461f-8dc7-0a0f9640bfde",
   "metadata": {
    "tags": []
   },
   "outputs": [
    {
     "name": "stderr",
     "output_type": "stream",
     "text": [
      "/opt/conda/lib/python3.10/site-packages/geopandas/geodataframe.py:1443: SettingWithCopyWarning: \n",
      "A value is trying to be set on a copy of a slice from a DataFrame.\n",
      "Try using .loc[row_indexer,col_indexer] = value instead\n",
      "\n",
      "See the caveats in the documentation: https://pandas.pydata.org/pandas-docs/stable/user_guide/indexing.html#returning-a-view-versus-a-copy\n",
      "  super().__setitem__(key, value)\n"
     ]
    }
   ],
   "source": [
    "gdf_l['height'] = gdf_l['height'].astype('float')"
   ]
  },
  {
   "cell_type": "code",
   "execution_count": 9,
   "id": "a90fdb2b-7cd1-487c-bd73-f8a7a70c8a6b",
   "metadata": {
    "tags": []
   },
   "outputs": [],
   "source": [
    "gdf_l['building:levels'] = gdf_l['building:levels'].astype('float')"
   ]
  },
  {
   "cell_type": "code",
   "execution_count": 10,
   "id": "8fabf78b-dad0-43a8-9048-5f6767d2a950",
   "metadata": {
    "tags": []
   },
   "outputs": [
    {
     "name": "stderr",
     "output_type": "stream",
     "text": [
      "/opt/conda/lib/python3.10/site-packages/geopandas/geodataframe.py:1443: SettingWithCopyWarning: \n",
      "A value is trying to be set on a copy of a slice from a DataFrame.\n",
      "Try using .loc[row_indexer,col_indexer] = value instead\n",
      "\n",
      "See the caveats in the documentation: https://pandas.pydata.org/pandas-docs/stable/user_guide/indexing.html#returning-a-view-versus-a-copy\n",
      "  super().__setitem__(key, value)\n"
     ]
    }
   ],
   "source": [
    "#calculating floor area\n",
    "gdf_l['floor'] = gdf_l['building:levels'] * gdf_l['area']"
   ]
  },
  {
   "cell_type": "code",
   "execution_count": 11,
   "id": "ff3af615-da59-4cba-a320-3e7966ab51ca",
   "metadata": {
    "tags": []
   },
   "outputs": [
    {
     "data": {
      "text/plain": [
       "element_type  osmid     \n",
       "way           7266905        4718.943831\n",
       "              17024283      76126.727387\n",
       "              17024436       5316.839721\n",
       "              17024460        989.224281\n",
       "              17392811      55486.788250\n",
       "                                ...     \n",
       "              1030387591     5820.197621\n",
       "              1065362442       71.449469\n",
       "              1065843681       43.531342\n",
       "              1065843683      251.360474\n",
       "              1121465295       30.872853\n",
       "Name: floor, Length: 516, dtype: float64"
      ]
     },
     "execution_count": 11,
     "metadata": {},
     "output_type": "execute_result"
    }
   ],
   "source": [
    "gdf_l['floor']"
   ]
  },
  {
   "cell_type": "code",
   "execution_count": 12,
   "id": "da637067-0f4a-4a88-90f8-7faa9bb7b7a7",
   "metadata": {
    "tags": []
   },
   "outputs": [
    {
     "data": {
      "text/plain": [
       "element_type  osmid    \n",
       "way           7266905      6.250000\n",
       "              37046494     3.866667\n",
       "              37299689     3.583333\n",
       "              42672700     3.291667\n",
       "              149948736    3.571429\n",
       "              846741207    4.131579\n",
       "              846742152    8.100000\n",
       "dtype: float64"
      ]
     },
     "execution_count": 12,
     "metadata": {},
     "output_type": "execute_result"
    }
   ],
   "source": [
    "#using the buildings with both height and level info to get an estimate of median level height\n",
    "heights = gdf_l.loc[gdf_l['height'] > 0]['height'] / gdf_l.loc[gdf_l['height'] > 0]['building:levels'] \n",
    "heights"
   ]
  },
  {
   "cell_type": "code",
   "execution_count": 13,
   "id": "79e9ebe2-c419-4a08-9333-e1c98c503f5e",
   "metadata": {
    "tags": []
   },
   "outputs": [],
   "source": [
    "#using the median of heights lower than the 90% percentile (clearing out messy values)\n",
    "levelheight = heights.loc[heights < heights.quantile(0.9)].median()"
   ]
  },
  {
   "cell_type": "code",
   "execution_count": 14,
   "id": "2b152fae-77f8-4b6f-a284-5c83c8401efa",
   "metadata": {
    "tags": []
   },
   "outputs": [
    {
     "data": {
      "text/plain": [
       "3.725"
      ]
     },
     "execution_count": 14,
     "metadata": {},
     "output_type": "execute_result"
    }
   ],
   "source": [
    "levelheight"
   ]
  },
  {
   "cell_type": "code",
   "execution_count": 15,
   "id": "8fdf2a50-9ca0-4193-a235-9de5098e2ea0",
   "metadata": {
    "tags": []
   },
   "outputs": [],
   "source": [
    "#the levelheight could be use to estimate level-amounts on buildings with only height information, \n",
    "#but in this case all buildings with height information had level information also."
   ]
  },
  {
   "cell_type": "code",
   "execution_count": 19,
   "id": "ee33ec50-ba63-4c48-a2e2-a0b3b9745e09",
   "metadata": {
    "tags": []
   },
   "outputs": [
    {
     "name": "stderr",
     "output_type": "stream",
     "text": [
      "/opt/conda/lib/python3.10/site-packages/geopandas/geodataframe.py:1443: SettingWithCopyWarning: \n",
      "A value is trying to be set on a copy of a slice from a DataFrame.\n",
      "Try using .loc[row_indexer,col_indexer] = value instead\n",
      "\n",
      "See the caveats in the documentation: https://pandas.pydata.org/pandas-docs/stable/user_guide/indexing.html#returning-a-view-versus-a-copy\n",
      "  super().__setitem__(key, value)\n"
     ]
    }
   ],
   "source": [
    "#multiplying floor area with figure from Antti's model, using climate zone 5 for Stockholm\n",
    "gdf_l['kWh/a'] = gdf_l['floor'] * 159.993"
   ]
  },
  {
   "cell_type": "code",
   "execution_count": 21,
   "id": "ad727142-4bb2-49b7-b1a0-db329e719864",
   "metadata": {
    "tags": []
   },
   "outputs": [
    {
     "data": {
      "text/plain": [
       "0.20848999999999998"
      ]
     },
     "execution_count": 21,
     "metadata": {},
     "output_type": "execute_result"
    }
   ],
   "source": [
    "#using this article https://www.sei.org/publications/swedish-heat-energy-system-new-tensions-and-lock-ins-after-a-successful-transition/#:~:text=Fossil%20fuel%20energy%20has%20been,demand%20for%20heating%20in%20buildings.\n",
    "#to calculate an estimate of the energy mix and it's co2-emissions using Antti's model\n",
    "co2 = 0.5*0.195 + 0.25*0.104 + 0.08*0.255 + 0.08*0.354 + 0.09*0.403\n",
    "co2"
   ]
  },
  {
   "cell_type": "code",
   "execution_count": 22,
   "id": "978bb5bc-654c-481b-85ee-572043bfe70a",
   "metadata": {
    "tags": []
   },
   "outputs": [
    {
     "name": "stderr",
     "output_type": "stream",
     "text": [
      "/opt/conda/lib/python3.10/site-packages/geopandas/geodataframe.py:1443: SettingWithCopyWarning: \n",
      "A value is trying to be set on a copy of a slice from a DataFrame.\n",
      "Try using .loc[row_indexer,col_indexer] = value instead\n",
      "\n",
      "See the caveats in the documentation: https://pandas.pydata.org/pandas-docs/stable/user_guide/indexing.html#returning-a-view-versus-a-copy\n",
      "  super().__setitem__(key, value)\n"
     ]
    }
   ],
   "source": [
    "#multiplying kWh with co2/kWh for estimate of co2-emissions\n",
    "gdf_l['co2/a'] = gdf_l['kWh/a'] * co2"
   ]
  },
  {
   "cell_type": "code",
   "execution_count": null,
   "id": "e41f9efc-aa63-4a15-96e6-dffac0871212",
   "metadata": {},
   "outputs": [],
   "source": []
  }
 ],
 "metadata": {
  "kernelspec": {
   "display_name": "Python 3 (ipykernel)",
   "language": "python",
   "name": "python3"
  },
  "language_info": {
   "codemirror_mode": {
    "name": "ipython",
    "version": 3
   },
   "file_extension": ".py",
   "mimetype": "text/x-python",
   "name": "python",
   "nbconvert_exporter": "python",
   "pygments_lexer": "ipython3",
   "version": "3.10.9"
  }
 },
 "nbformat": 4,
 "nbformat_minor": 5
}
