{
 "cells": [
  {
   "cell_type": "code",
   "execution_count": 2,
   "id": "70f3c77a-ece0-46e6-bb09-c0aa4fb431c7",
   "metadata": {
    "tags": []
   },
   "outputs": [],
   "source": [
    "import osmium\n",
    "import shapely.wkb as wkblib\n",
    "import pandas as pd\n",
    "import geopandas\n",
    "import osmnx as ox\n",
    "import matplotlib.pyplot as plt\n",
    "import psutil"
   ]
  },
  {
   "cell_type": "code",
   "execution_count": null,
   "id": "e8175f4b-8881-405d-90c2-2e1d9575c3ed",
   "metadata": {},
   "outputs": [],
   "source": [
    "#uncomment and download data if you need it\n",
    "#!wget http://download.geofabrik.de/europe/sweden-latest.osm.pbf"
   ]
  },
  {
   "cell_type": "code",
   "execution_count": null,
   "id": "e2c3fd9f-63bd-46f9-b387-a9a00c648067",
   "metadata": {},
   "outputs": [],
   "source": [
    "#https://max-coding.medium.com/extracting-open-street-map-osm-street-data-from-data-files-using-pyosmium-afca6eaa5d00"
   ]
  },
  {
   "cell_type": "code",
   "execution_count": 3,
   "id": "83ea2840-e650-4d6c-aaca-2ae84eb4e100",
   "metadata": {
    "tags": []
   },
   "outputs": [],
   "source": [
    "#this class creates\n",
    "#multipolygons for all buildings. Uses \"area\", and I don't know\n",
    "#if e.g. \"way\" or \"relation\" also could/should be used.\n",
    "#Inspiration from here https://max-coding.medium.com/extracting-open-street-map-osm-street-data-from-data-files-using-pyosmium-afca6eaa5d00\n",
    "class BuildingHandler(osmium.SimpleHandler):\n",
    "    def __init__(self):\n",
    "        osmium.SimpleHandler.__init__(self)\n",
    "        self.building_count = 0\n",
    "        self.buildings = []\n",
    "        # A global factory that creates WKB from a osmium geometry\n",
    "        self.wkbfab = osmium.geom.WKBFactory()\n",
    "\n",
    "    def area(self, w):\n",
    "        if w.tags.get(\"building\") == 'yes':\n",
    "            try:\n",
    "                wkb = self.wkbfab.create_multipolygon(w)\n",
    "                geo = wkblib.loads(wkb, hex=True)\n",
    "            except Exception as e:\n",
    "                print(e)\n",
    "                return\n",
    "            row = { \"w_id\": w.id, \"geometry\": geo }\n",
    "\n",
    "            for key, value in w.tags:\n",
    "                row[key] = value\n",
    "\n",
    "            self.buildings.append(row)\n",
    "            self.building_count += 1"
   ]
  },
  {
   "cell_type": "code",
   "execution_count": 4,
   "id": "6a983db8-d234-49a7-9a04-fe543c01e9ee",
   "metadata": {
    "tags": []
   },
   "outputs": [],
   "source": [
    "#this runs the actual loading from the file, might take a while\n",
    "buildinghandler = BuildingHandler()\n",
    "buildinghandler.apply_file(\"sweden-latest.osm.pbf\", locations=True)"
   ]
  },
  {
   "cell_type": "code",
   "execution_count": 6,
   "id": "97e7c1f0-6c13-4d26-b7b3-46fca933ea9b",
   "metadata": {
    "tags": []
   },
   "outputs": [
    {
     "data": {
      "text/plain": [
       "2022401"
      ]
     },
     "execution_count": 6,
     "metadata": {},
     "output_type": "execute_result"
    }
   ],
   "source": [
    "len(buildinghandler.buildings)"
   ]
  },
  {
   "cell_type": "code",
   "execution_count": 8,
   "id": "23268e37-0f93-4902-97ae-26e02c60a718",
   "metadata": {
    "tags": []
   },
   "outputs": [
    {
     "data": {
      "text/plain": [
       "9.2"
      ]
     },
     "execution_count": 8,
     "metadata": {},
     "output_type": "execute_result"
    }
   ],
   "source": [
    "psutil.virtual_memory().percent"
   ]
  },
  {
   "cell_type": "code",
   "execution_count": 43,
   "id": "f3879ec4-3ce5-4049-bd3f-7bbc1c59fd07",
   "metadata": {
    "tags": []
   },
   "outputs": [],
   "source": [
    "#first to a pandas dataframe and then to geopandas\n",
    "df = pd.DataFrame(buildinghandler.buildings[:100000])\n",
    "gdf = geopandas.GeoDataFrame(df, geometry='geometry')\n",
    "gdf = gdf.set_crs(\"EPSG:4326\")\n",
    "gdf = ox.project_gdf(gdf)"
   ]
  },
  {
   "cell_type": "code",
   "execution_count": 49,
   "id": "e70bf5ea-b623-430a-99d7-d92dcb8fcec3",
   "metadata": {
    "tags": []
   },
   "outputs": [
    {
     "data": {
      "text/plain": [
       "(3056, 410)"
      ]
     },
     "execution_count": 49,
     "metadata": {},
     "output_type": "execute_result"
    }
   ],
   "source": [
    "#dropping all buildings that don't have level information\n",
    "gdf = gdf.dropna(subset=['building:levels'])\n",
    "gdf.shape"
   ]
  },
  {
   "cell_type": "code",
   "execution_count": 62,
   "id": "342eb498-6d60-43b3-b7af-6c1714950b54",
   "metadata": {
    "tags": []
   },
   "outputs": [
    {
     "data": {
      "text/plain": [
       "2.919011780104712"
      ]
     },
     "execution_count": 62,
     "metadata": {},
     "output_type": "execute_result"
    }
   ],
   "source": [
    "#taking a look at the mean levels\n",
    "gdf['building:levels'].astype(float).mean()"
   ]
  },
  {
   "cell_type": "code",
   "execution_count": 161,
   "id": "959da162-47d5-437c-a987-093f3a073d47",
   "metadata": {
    "tags": []
   },
   "outputs": [
    {
     "data": {
      "image/png": "[encoded data removed]",
      "text/plain": [
       "<Figure size 640x480 with 1 Axes>"
      ]
     },
     "metadata": {},
     "output_type": "display_data"
    }
   ],
   "source": [
    "#taking a look at the building levels in the 100000 building sample\n",
    "plt.hist(gdf['building:levels'].astype(float), bins=20)\n",
    "plt.show()"
   ]
  },
  {
   "cell_type": "code",
   "execution_count": 78,
   "id": "e04cd693-d0d8-4275-8408-248abd9bd599",
   "metadata": {
    "tags": []
   },
   "outputs": [
    {
     "name": "stderr",
     "output_type": "stream",
     "text": [
      "/tmp/ipykernel_2616/2662106380.py:1: UserWarning: Column names longer than 10 characters will be truncated when saved to ESRI Shapefile.\n",
      "  gdf.to_file('datafram.shp')\n"
     ]
    }
   ],
   "source": [
    "#if one wants to store a gdf, this is how you do it\n",
    "#gdf.to_file('datafram.shp')"
   ]
  },
  {
   "cell_type": "code",
   "execution_count": 84,
   "id": "794da2f7-3003-49cc-9a41-9a2d2f6aab01",
   "metadata": {
    "tags": []
   },
   "outputs": [
    {
     "data": {
      "text/plain": [
       "<Derived Projected CRS: +proj=utm +zone=33 +ellps=WGS84 +datum=WGS84 +unit ...>\n",
       "Name: unknown\n",
       "Axis Info [cartesian]:\n",
       "- E[east]: Easting (metre)\n",
       "- N[north]: Northing (metre)\n",
       "Area of Use:\n",
       "- undefined\n",
       "Coordinate Operation:\n",
       "- name: UTM zone 33N\n",
       "- method: Transverse Mercator\n",
       "Datum: World Geodetic System 1984\n",
       "- Ellipsoid: WGS 84\n",
       "- Prime Meridian: Greenwich"
      ]
     },
     "execution_count": 84,
     "metadata": {},
     "output_type": "execute_result"
    }
   ],
   "source": [
    "#learning new stuff about the projection\n",
    "gdf.crs"
   ]
  },
  {
   "cell_type": "code",
   "execution_count": 85,
   "id": "5f602c36-0534-4474-afc0-9315a8a36494",
   "metadata": {
    "tags": []
   },
   "outputs": [],
   "source": [
    "#testing filtering out the Stockholm region using the cx-function\n",
    "gdf_s = gdf.cx[636513:711110, 6618371:6565834]"
   ]
  },
  {
   "cell_type": "code",
   "execution_count": 119,
   "id": "6385c23d-bb3c-402e-b4aa-6612fa5945b3",
   "metadata": {
    "tags": []
   },
   "outputs": [
    {
     "name": "stdout",
     "output_type": "stream",
     "text": [
      "(3891, 3)\n",
      "(5168, 3)\n",
      "(6180, 3)\n",
      "(6930, 3)\n",
      "(7864, 3)\n",
      "(8890, 3)\n",
      "(11317, 3)\n",
      "(11989, 3)\n",
      "(12931, 3)\n",
      "(13711, 3)\n"
     ]
    }
   ],
   "source": [
    "i = 200000\n",
    "while i < len(buildinghandler.buildings):\n",
    "    dfx = pd.DataFrame(buildinghandler.buildings[(i-200000):min([i, len(buildinghandler.buildings)-1])])\n",
    "    gdfx = geopandas.GeoDataFrame(dfx, geometry='geometry')\n",
    "    gdfx = gdfx.set_crs(\"EPSG:4326\")\n",
    "    gdfx = ox.project_gdf(gdfx)\n",
    "    gdfx = gdfx.dropna(subset=['building:levels'])\n",
    "    gdfx = gdfx[['w_id', 'geometry', 'building:levels']]\n",
    "    if i < 200001:\n",
    "        meta = gdfx\n",
    "    else:\n",
    "        meta = pd.concat([meta, gdfx])\n",
    "    print(meta.shape)\n",
    "    i += 200000"
   ]
  },
  {
   "cell_type": "code",
   "execution_count": 134,
   "id": "2ab079a8-2cf1-452a-8737-c4d70ace5127",
   "metadata": {
    "tags": []
   },
   "outputs": [],
   "source": [
    "#meta['floorarea'] = meta.area * meta['building:levels'].astype(float)\n",
    "meta = meta[meta['building:levels'].str.contains('[A-Za-z]') == False]"
   ]
  },
  {
   "cell_type": "code",
   "execution_count": 143,
   "id": "bec003ba-bf4f-4895-a4fd-c54256ac5460",
   "metadata": {
    "tags": []
   },
   "outputs": [
    {
     "data": {
      "text/plain": [
       "(13705, 3)"
      ]
     },
     "execution_count": 143,
     "metadata": {},
     "output_type": "execute_result"
    }
   ],
   "source": [
    "meta = meta[meta['building:levels'].str.contains('[;-]') == False]\n",
    "meta.shape"
   ]
  },
  {
   "cell_type": "code",
   "execution_count": 144,
   "id": "dbd737a8-2116-4d9d-a7b9-9b86187a3346",
   "metadata": {
    "tags": []
   },
   "outputs": [],
   "source": [
    "meta['floorarea'] = meta.area * meta['building:levels'].astype(float)"
   ]
  },
  {
   "cell_type": "code",
   "execution_count": 152,
   "id": "fac5e7cc-b049-4d77-a447-3f9821db41bf",
   "metadata": {
    "tags": []
   },
   "outputs": [],
   "source": [
    "meta['ratio'] = meta['floorarea'].astype(float) / meta.area"
   ]
  },
  {
   "cell_type": "code",
   "execution_count": 153,
   "id": "5ea3ed6c-c115-49c4-bb99-172667ac0c4a",
   "metadata": {
    "tags": []
   },
   "outputs": [
    {
     "data": {
      "text/plain": [
       "2.0668004377964246"
      ]
     },
     "execution_count": 153,
     "metadata": {},
     "output_type": "execute_result"
    }
   ],
   "source": [
    "meta['ratio'].mean()"
   ]
  },
  {
   "cell_type": "code",
   "execution_count": 160,
   "id": "ec6a17e9-bf3c-421e-b436-8adb32ce62c2",
   "metadata": {
    "tags": []
   },
   "outputs": [
    {
     "data": {
      "image/png": "[encoded data removed]",
      "text/plain": [
       "<Figure size 640x480 with 1 Axes>"
      ]
     },
     "metadata": {},
     "output_type": "display_data"
    }
   ],
   "source": [
    "plt.hist(meta['ratio'], bins=100)\n",
    "plt.show()"
   ]
  },
  {
   "cell_type": "code",
   "execution_count": 156,
   "id": "7454e792-ef08-472d-b98f-a33ca4b2935c",
   "metadata": {
    "tags": []
   },
   "outputs": [
    {
     "data": {
      "text/plain": [
       "48.99999999999999"
      ]
     },
     "execution_count": 156,
     "metadata": {},
     "output_type": "execute_result"
    }
   ],
   "source": [
    "meta['ratio'].max()"
   ]
  },
  {
   "cell_type": "code",
   "execution_count": 157,
   "id": "650e61ef-6d33-41ee-979e-6debcbee1638",
   "metadata": {
    "tags": []
   },
   "outputs": [
    {
     "data": {
      "text/plain": [
       "(6, 5)"
      ]
     },
     "execution_count": 157,
     "metadata": {},
     "output_type": "execute_result"
    }
   ],
   "source": [
    "meta[meta['ratio'] > 20].shape"
   ]
  },
  {
   "cell_type": "code",
   "execution_count": 158,
   "id": "00c3335a-603f-41a0-b2c4-74442f0719cd",
   "metadata": {
    "tags": []
   },
   "outputs": [
    {
     "data": {
      "text/html": [
       "<div>\n",
       "<style scoped>\n",
       "    .dataframe tbody tr th:only-of-type {\n",
       "        vertical-align: middle;\n",
       "    }\n",
       "\n",
       "    .dataframe tbody tr th {\n",
       "        vertical-align: top;\n",
       "    }\n",
       "\n",
       "    .dataframe thead th {\n",
       "        text-align: right;\n",
       "    }\n",
       "</style>\n",
       "<table border=\"1\" class=\"dataframe\">\n",
       "  <thead>\n",
       "    <tr style=\"text-align: right;\">\n",
       "      <th></th>\n",
       "      <th>w_id</th>\n",
       "      <th>geometry</th>\n",
       "      <th>building:levels</th>\n",
       "      <th>floorarea</th>\n",
       "      <th>ratio</th>\n",
       "    </tr>\n",
       "  </thead>\n",
       "  <tbody>\n",
       "    <tr>\n",
       "      <th>2535</th>\n",
       "      <td>59423490</td>\n",
       "      <td>MULTIPOLYGON (((373039.384 6163194.017, 373046...</td>\n",
       "      <td>26</td>\n",
       "      <td>27327.078762</td>\n",
       "      <td>26.0</td>\n",
       "    </tr>\n",
       "    <tr>\n",
       "      <th>2537</th>\n",
       "      <td>59569900</td>\n",
       "      <td>MULTIPOLYGON (((374040.747 6162961.813, 374081...</td>\n",
       "      <td>22</td>\n",
       "      <td>25848.665522</td>\n",
       "      <td>22.0</td>\n",
       "    </tr>\n",
       "    <tr>\n",
       "      <th>4280</th>\n",
       "      <td>66069654</td>\n",
       "      <td>MULTIPOLYGON (((674110.777 6582951.007, 674122...</td>\n",
       "      <td>21</td>\n",
       "      <td>10743.761927</td>\n",
       "      <td>21.0</td>\n",
       "    </tr>\n",
       "    <tr>\n",
       "      <th>84543</th>\n",
       "      <td>190297506</td>\n",
       "      <td>MULTIPOLYGON (((587410.644 6609141.111, 587431...</td>\n",
       "      <td>25</td>\n",
       "      <td>103439.323883</td>\n",
       "      <td>25.0</td>\n",
       "    </tr>\n",
       "    <tr>\n",
       "      <th>103503</th>\n",
       "      <td>2128066182</td>\n",
       "      <td>MULTIPOLYGON (((609698.812 6651238.056, 609707...</td>\n",
       "      <td>49</td>\n",
       "      <td>2398.426236</td>\n",
       "      <td>49.0</td>\n",
       "    </tr>\n",
       "    <tr>\n",
       "      <th>169823</th>\n",
       "      <td>2210736504</td>\n",
       "      <td>MULTIPOLYGON (((320791.408 6400026.902, 320793...</td>\n",
       "      <td>37</td>\n",
       "      <td>36491.524549</td>\n",
       "      <td>37.0</td>\n",
       "    </tr>\n",
       "  </tbody>\n",
       "</table>\n",
       "</div>"
      ],
      "text/plain": [
       "              w_id                                           geometry  \\\n",
       "2535      59423490  MULTIPOLYGON (((373039.384 6163194.017, 373046...   \n",
       "2537      59569900  MULTIPOLYGON (((374040.747 6162961.813, 374081...   \n",
       "4280      66069654  MULTIPOLYGON (((674110.777 6582951.007, 674122...   \n",
       "84543    190297506  MULTIPOLYGON (((587410.644 6609141.111, 587431...   \n",
       "103503  2128066182  MULTIPOLYGON (((609698.812 6651238.056, 609707...   \n",
       "169823  2210736504  MULTIPOLYGON (((320791.408 6400026.902, 320793...   \n",
       "\n",
       "       building:levels      floorarea  ratio  \n",
       "2535                26   27327.078762   26.0  \n",
       "2537                22   25848.665522   22.0  \n",
       "4280                21   10743.761927   21.0  \n",
       "84543               25  103439.323883   25.0  \n",
       "103503              49    2398.426236   49.0  \n",
       "169823              37   36491.524549   37.0  "
      ]
     },
     "execution_count": 158,
     "metadata": {},
     "output_type": "execute_result"
    }
   ],
   "source": [
    "meta[meta['ratio'] > 20]"
   ]
  }
 ],
 "metadata": {
  "kernelspec": {
   "display_name": "Python 3 (ipykernel)",
   "language": "python",
   "name": "python3"
  },
  "language_info": {
   "codemirror_mode": {
    "name": "ipython",
    "version": 3
   },
   "file_extension": ".py",
   "mimetype": "text/x-python",
   "name": "python",
   "nbconvert_exporter": "python",
   "pygments_lexer": "ipython3",
   "version": "3.10.6"
  }
 },
 "nbformat": 4,
 "nbformat_minor": 5
}
