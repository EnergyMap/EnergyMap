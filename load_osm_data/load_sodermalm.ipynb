{
 "cells": [
  {
   "cell_type": "code",
   "execution_count": 1,
   "id": "70f3c77a-ece0-46e6-bb09-c0aa4fb431c7",
   "metadata": {
    "tags": []
   },
   "outputs": [],
   "source": [
    "import osmium\n",
    "import shapely.wkb as wkblib\n",
    "import pandas as pd\n",
    "import geopandas\n",
    "import osmnx as ox\n",
    "import matplotlib.pyplot as plt\n",
    "import psutil"
   ]
  },
  {
   "cell_type": "code",
   "execution_count": 2,
   "id": "e8175f4b-8881-405d-90c2-2e1d9575c3ed",
   "metadata": {
    "tags": []
   },
   "outputs": [
    {
     "name": "stdout",
     "output_type": "stream",
     "text": [
      "--2023-03-14 10:49:05--  http://download.geofabrik.de/europe/sweden-latest.osm.pbf\n",
      "Resolving download.geofabrik.de (download.geofabrik.de)... 65.109.50.43, 65.109.48.72\n",
      "Connecting to download.geofabrik.de (download.geofabrik.de)|65.109.50.43|:80... connected.\n",
      "HTTP request sent, awaiting response... 200 OK\n",
      "Length: 657674513 (627M) [application/octet-stream]\n",
      "Saving to: ‘sweden-latest.osm.pbf’\n",
      "\n",
      "sweden-latest.osm.p 100%[===================>] 627.21M  50.5MB/s    in 11s     \n",
      "\n",
      "2023-03-14 10:49:16 (57.6 MB/s) - ‘sweden-latest.osm.pbf’ saved [657674513/657674513]\n",
      "\n"
     ]
    }
   ],
   "source": [
    "#uncomment and download data if you need it\n",
    "!wget http://download.geofabrik.de/europe/sweden-latest.osm.pbf"
   ]
  },
  {
   "cell_type": "code",
   "execution_count": 3,
   "id": "e2c3fd9f-63bd-46f9-b387-a9a00c648067",
   "metadata": {},
   "outputs": [],
   "source": [
    "#https://max-coding.medium.com/extracting-open-street-map-osm-street-data-from-data-files-using-pyosmium-afca6eaa5d00"
   ]
  },
  {
   "cell_type": "code",
   "execution_count": 3,
   "id": "83ea2840-e650-4d6c-aaca-2ae84eb4e100",
   "metadata": {
    "tags": []
   },
   "outputs": [],
   "source": [
    "#this class creates\n",
    "#multipolygons for all buildings. Uses \"area\", and I don't know\n",
    "#if e.g. \"way\" or \"relation\" also could/should be used.\n",
    "#Inspiration from here https://max-coding.medium.com/extracting-open-street-map-osm-street-data-from-data-files-using-pyosmium-afca6eaa5d00\n",
    "class BuildingHandler(osmium.SimpleHandler):\n",
    "    def __init__(self):\n",
    "        osmium.SimpleHandler.__init__(self)\n",
    "        self.building_count = 0\n",
    "        self.buildings = []\n",
    "        # A global factory that creates WKB from a osmium geometry\n",
    "        self.wkbfab = osmium.geom.WKBFactory()\n",
    "\n",
    "    def area(self, w):\n",
    "        if w.tags.get(\"building\") == 'yes':\n",
    "            try:\n",
    "                wkb = self.wkbfab.create_multipolygon(w)\n",
    "                geo = wkblib.loads(wkb, hex=True)\n",
    "            except Exception as e:\n",
    "                print(e)\n",
    "                return\n",
    "            row = { \"w_id\": w.id, \"geometry\": geo }\n",
    "\n",
    "            for key, value in w.tags:\n",
    "                row[key] = value\n",
    "\n",
    "            self.buildings.append(row)\n",
    "            self.building_count += 1"
   ]
  },
  {
   "cell_type": "code",
   "execution_count": 4,
   "id": "6a983db8-d234-49a7-9a04-fe543c01e9ee",
   "metadata": {
    "tags": []
   },
   "outputs": [],
   "source": [
    "#this runs the actual loading from the file, might take a while\n",
    "buildinghandler = BuildingHandler()\n",
    "buildinghandler.apply_file(\"sweden-latest.osm.pbf\", locations=True)"
   ]
  },
  {
   "cell_type": "code",
   "execution_count": 5,
   "id": "97e7c1f0-6c13-4d26-b7b3-46fca933ea9b",
   "metadata": {
    "tags": []
   },
   "outputs": [
    {
     "data": {
      "text/plain": [
       "2023522"
      ]
     },
     "execution_count": 5,
     "metadata": {},
     "output_type": "execute_result"
    }
   ],
   "source": [
    "len(buildinghandler.buildings)"
   ]
  },
  {
   "cell_type": "code",
   "execution_count": 6,
   "id": "23268e37-0f93-4902-97ae-26e02c60a718",
   "metadata": {
    "tags": []
   },
   "outputs": [
    {
     "data": {
      "text/plain": [
       "9.3"
      ]
     },
     "execution_count": 6,
     "metadata": {},
     "output_type": "execute_result"
    }
   ],
   "source": [
    "psutil.virtual_memory().percent"
   ]
  },
  {
   "cell_type": "code",
   "execution_count": 7,
   "id": "f3879ec4-3ce5-4049-bd3f-7bbc1c59fd07",
   "metadata": {
    "tags": []
   },
   "outputs": [],
   "source": [
    "#first to a pandas dataframe and then to geopandas\n",
    "df = pd.DataFrame(buildinghandler.buildings[:100000])\n",
    "gdf = geopandas.GeoDataFrame(df, geometry='geometry')\n",
    "gdf = gdf.set_crs(\"EPSG:4326\")\n",
    "gdf = ox.project_gdf(gdf)"
   ]
  },
  {
   "cell_type": "code",
   "execution_count": 49,
   "id": "e70bf5ea-b623-430a-99d7-d92dcb8fcec3",
   "metadata": {
    "tags": []
   },
   "outputs": [
    {
     "data": {
      "text/plain": [
       "(3056, 410)"
      ]
     },
     "execution_count": 49,
     "metadata": {},
     "output_type": "execute_result"
    }
   ],
   "source": [
    "#dropping all buildings that don't have level information\n",
    "gdf = gdf.dropna(subset=['building:levels'])\n",
    "gdf.shape"
   ]
  },
  {
   "cell_type": "code",
   "execution_count": 62,
   "id": "342eb498-6d60-43b3-b7af-6c1714950b54",
   "metadata": {
    "tags": []
   },
   "outputs": [
    {
     "data": {
      "text/plain": [
       "2.919011780104712"
      ]
     },
     "execution_count": 62,
     "metadata": {},
     "output_type": "execute_result"
    }
   ],
   "source": [
    "#taking a look at the mean levels\n",
    "gdf['building:levels'].astype(float).mean()"
   ]
  },
  {
   "cell_type": "code",
   "execution_count": 161,
   "id": "959da162-47d5-437c-a987-093f3a073d47",
   "metadata": {
    "tags": []
   },
   "outputs": [
    {
     "data": {
      "image/png": "[encoded data removed]",
      "text/plain": [
       "<Figure size 640x480 with 1 Axes>"
      ]
     },
     "metadata": {},
     "output_type": "display_data"
    }
   ],
   "source": [
    "#taking a look at the building levels in the 100000 building sample\n",
    "plt.hist(gdf['building:levels'].astype(float), bins=20)\n",
    "plt.show()"
   ]
  },
  {
   "cell_type": "code",
   "execution_count": 78,
   "id": "e04cd693-d0d8-4275-8408-248abd9bd599",
   "metadata": {
    "tags": []
   },
   "outputs": [
    {
     "name": "stderr",
     "output_type": "stream",
     "text": [
      "/tmp/ipykernel_2616/2662106380.py:1: UserWarning: Column names longer than 10 characters will be truncated when saved to ESRI Shapefile.\n",
      "  gdf.to_file('datafram.shp')\n"
     ]
    }
   ],
   "source": [
    "#if one wants to store a gdf, this is how you do it\n",
    "#gdf.to_file('datafram.shp')"
   ]
  },
  {
   "cell_type": "code",
   "execution_count": 84,
   "id": "794da2f7-3003-49cc-9a41-9a2d2f6aab01",
   "metadata": {
    "tags": []
   },
   "outputs": [
    {
     "data": {
      "text/plain": [
       "<Derived Projected CRS: +proj=utm +zone=33 +ellps=WGS84 +datum=WGS84 +unit ...>\n",
       "Name: unknown\n",
       "Axis Info [cartesian]:\n",
       "- E[east]: Easting (metre)\n",
       "- N[north]: Northing (metre)\n",
       "Area of Use:\n",
       "- undefined\n",
       "Coordinate Operation:\n",
       "- name: UTM zone 33N\n",
       "- method: Transverse Mercator\n",
       "Datum: World Geodetic System 1984\n",
       "- Ellipsoid: WGS 84\n",
       "- Prime Meridian: Greenwich"
      ]
     },
     "execution_count": 84,
     "metadata": {},
     "output_type": "execute_result"
    }
   ],
   "source": [
    "#learning new stuff about the projection\n",
    "gdf.crs"
   ]
  },
  {
   "cell_type": "code",
   "execution_count": 85,
   "id": "5f602c36-0534-4474-afc0-9315a8a36494",
   "metadata": {
    "tags": []
   },
   "outputs": [],
   "source": [
    "#testing filtering out the Stockholm region using the cx-function\n",
    "#gdf_s = gdf.cx[672205:6579860, 676862:6577873]"
   ]
  },
  {
   "cell_type": "code",
   "execution_count": 8,
   "id": "6385c23d-bb3c-402e-b4aa-6612fa5945b3",
   "metadata": {
    "tags": []
   },
   "outputs": [
    {
     "name": "stdout",
     "output_type": "stream",
     "text": [
      "(943, 3)\n",
      "(1886, 3)\n",
      "(2829, 3)\n",
      "(3772, 3)\n",
      "(4715, 3)\n",
      "(5658, 3)\n",
      "(6601, 3)\n",
      "(7544, 3)\n",
      "(8487, 3)\n",
      "(9430, 3)\n"
     ]
    }
   ],
   "source": [
    "i = 200000\n",
    "while i < len(buildinghandler.buildings):\n",
    "    dfx = pd.DataFrame(buildinghandler.buildings[(i-200000):min([i, len(buildinghandler.buildings)-1])])\n",
    "    gdfx = geopandas.GeoDataFrame(dfx, geometry='geometry')\n",
    "    gdfx = gdfx.set_crs(\"EPSG:4326\")\n",
    "    gdfx = ox.project_gdf(gdfx)\n",
    "    gdfx = gdf.cx[672205:6579860, 676862:6577873]\n",
    "    #gdfx = gdfx.dropna(subset=['building:levels'])\n",
    "    gdfx = gdfx[['w_id', 'geometry', 'building:levels']]\n",
    "    if i < 200001:\n",
    "        meta = gdfx\n",
    "    else:\n",
    "        meta = pd.concat([meta, gdfx])\n",
    "    print(meta.shape)\n",
    "    i += 200000"
   ]
  },
  {
   "cell_type": "code",
   "execution_count": 9,
   "id": "73e49572-4b82-43ef-80ea-fefe7d29bf3c",
   "metadata": {
    "tags": []
   },
   "outputs": [
    {
     "data": {
      "text/plain": [
       "(810, 3)"
      ]
     },
     "execution_count": 9,
     "metadata": {},
     "output_type": "execute_result"
    }
   ],
   "source": [
    "levels = meta.dropna(subset=['building:levels'])\n",
    "levels.shape"
   ]
  },
  {
   "cell_type": "code",
   "execution_count": 11,
   "id": "d05f95ac-825c-47cd-a373-94d42061279b",
   "metadata": {
    "tags": []
   },
   "outputs": [
    {
     "data": {
      "text/plain": [
       "(8620, 3)"
      ]
     },
     "execution_count": 11,
     "metadata": {},
     "output_type": "execute_result"
    }
   ],
   "source": [
    "nolevel = meta.loc[~meta.index.isin(meta.dropna(subset=['building:levels']).index)]\n",
    "nolevel.shape"
   ]
  },
  {
   "cell_type": "code",
   "execution_count": 12,
   "id": "c8b51e68-ad12-46c4-8445-82afdcd4333f",
   "metadata": {
    "tags": []
   },
   "outputs": [],
   "source": [
    "y = levels['building:levels'].astype(float)\n",
    "x = levels.area"
   ]
  },
  {
   "cell_type": "code",
   "execution_count": 16,
   "id": "26da860e-3cb3-44ab-94f1-c3bb928c8e5a",
   "metadata": {
    "tags": []
   },
   "outputs": [],
   "source": [
    "from sklearn.model_selection import train_test_split, cross_val_score\n",
    "X_train, X_test, y_train, y_test = train_test_split(\n",
    "    x, y, train_size=600, random_state=42, shuffle=True\n",
    ")"
   ]
  },
  {
   "cell_type": "code",
   "execution_count": 15,
   "id": "29cca31f-871d-4025-810f-dee6d6d344f4",
   "metadata": {
    "tags": []
   },
   "outputs": [],
   "source": [
    "from sklearn.linear_model import LinearRegression"
   ]
  },
  {
   "cell_type": "code",
   "execution_count": 17,
   "id": "a107bdd0-4e99-41ee-9613-c3805f830ac4",
   "metadata": {
    "tags": []
   },
   "outputs": [],
   "source": [
    "model = LinearRegression()"
   ]
  },
  {
   "cell_type": "code",
   "execution_count": 21,
   "id": "b176d1fc-7e64-4f25-9aa6-47f06adb024b",
   "metadata": {
    "tags": []
   },
   "outputs": [
    {
     "data": {
      "text/html": [
       "<style>#sk-container-id-1 {color: black;background-color: white;}#sk-container-id-1 pre{padding: 0;}#sk-container-id-1 div.sk-toggleable {background-color: white;}#sk-container-id-1 label.sk-toggleable__label {cursor: pointer;display: block;width: 100%;margin-bottom: 0;padding: 0.3em;box-sizing: border-box;text-align: center;}#sk-container-id-1 label.sk-toggleable__label-arrow:before {content: \"▸\";float: left;margin-right: 0.25em;color: #696969;}#sk-container-id-1 label.sk-toggleable__label-arrow:hover:before {color: black;}#sk-container-id-1 div.sk-estimator:hover label.sk-toggleable__label-arrow:before {color: black;}#sk-container-id-1 div.sk-toggleable__content {max-height: 0;max-width: 0;overflow: hidden;text-align: left;background-color: #f0f8ff;}#sk-container-id-1 div.sk-toggleable__content pre {margin: 0.2em;color: black;border-radius: 0.25em;background-color: #f0f8ff;}#sk-container-id-1 input.sk-toggleable__control:checked~div.sk-toggleable__content {max-height: 200px;max-width: 100%;overflow: auto;}#sk-container-id-1 input.sk-toggleable__control:checked~label.sk-toggleable__label-arrow:before {content: \"▾\";}#sk-container-id-1 div.sk-estimator input.sk-toggleable__control:checked~label.sk-toggleable__label {background-color: #d4ebff;}#sk-container-id-1 div.sk-label input.sk-toggleable__control:checked~label.sk-toggleable__label {background-color: #d4ebff;}#sk-container-id-1 input.sk-hidden--visually {border: 0;clip: rect(1px 1px 1px 1px);clip: rect(1px, 1px, 1px, 1px);height: 1px;margin: -1px;overflow: hidden;padding: 0;position: absolute;width: 1px;}#sk-container-id-1 div.sk-estimator {font-family: monospace;background-color: #f0f8ff;border: 1px dotted black;border-radius: 0.25em;box-sizing: border-box;margin-bottom: 0.5em;}#sk-container-id-1 div.sk-estimator:hover {background-color: #d4ebff;}#sk-container-id-1 div.sk-parallel-item::after {content: \"\";width: 100%;border-bottom: 1px solid gray;flex-grow: 1;}#sk-container-id-1 div.sk-label:hover label.sk-toggleable__label {background-color: #d4ebff;}#sk-container-id-1 div.sk-serial::before {content: \"\";position: absolute;border-left: 1px solid gray;box-sizing: border-box;top: 0;bottom: 0;left: 50%;z-index: 0;}#sk-container-id-1 div.sk-serial {display: flex;flex-direction: column;align-items: center;background-color: white;padding-right: 0.2em;padding-left: 0.2em;position: relative;}#sk-container-id-1 div.sk-item {position: relative;z-index: 1;}#sk-container-id-1 div.sk-parallel {display: flex;align-items: stretch;justify-content: center;background-color: white;position: relative;}#sk-container-id-1 div.sk-item::before, #sk-container-id-1 div.sk-parallel-item::before {content: \"\";position: absolute;border-left: 1px solid gray;box-sizing: border-box;top: 0;bottom: 0;left: 50%;z-index: -1;}#sk-container-id-1 div.sk-parallel-item {display: flex;flex-direction: column;z-index: 1;position: relative;background-color: white;}#sk-container-id-1 div.sk-parallel-item:first-child::after {align-self: flex-end;width: 50%;}#sk-container-id-1 div.sk-parallel-item:last-child::after {align-self: flex-start;width: 50%;}#sk-container-id-1 div.sk-parallel-item:only-child::after {width: 0;}#sk-container-id-1 div.sk-dashed-wrapped {border: 1px dashed gray;margin: 0 0.4em 0.5em 0.4em;box-sizing: border-box;padding-bottom: 0.4em;background-color: white;}#sk-container-id-1 div.sk-label label {font-family: monospace;font-weight: bold;display: inline-block;line-height: 1.2em;}#sk-container-id-1 div.sk-label-container {text-align: center;}#sk-container-id-1 div.sk-container {/* jupyter's `normalize.less` sets `[hidden] { display: none; }` but bootstrap.min.css set `[hidden] { display: none !important; }` so we also need the `!important` here to be able to override the default hidden behavior on the sphinx rendered scikit-learn.org. See: https://github.com/scikit-learn/scikit-learn/issues/21755 */display: inline-block !important;position: relative;}#sk-container-id-1 div.sk-text-repr-fallback {display: none;}</style><div id=\"sk-container-id-1\" class=\"sk-top-container\"><div class=\"sk-text-repr-fallback\"><pre>LinearRegression()</pre><b>In a Jupyter environment, please rerun this cell to show the HTML representation or trust the notebook. <br />On GitHub, the HTML representation is unable to render, please try loading this page with nbviewer.org.</b></div><div class=\"sk-container\" hidden><div class=\"sk-item\"><div class=\"sk-estimator sk-toggleable\"><input class=\"sk-toggleable__control sk-hidden--visually\" id=\"sk-estimator-id-1\" type=\"checkbox\" checked><label for=\"sk-estimator-id-1\" class=\"sk-toggleable__label sk-toggleable__label-arrow\">LinearRegression</label><div class=\"sk-toggleable__content\"><pre>LinearRegression()</pre></div></div></div></div></div>"
      ],
      "text/plain": [
       "LinearRegression()"
      ]
     },
     "execution_count": 21,
     "metadata": {},
     "output_type": "execute_result"
    }
   ],
   "source": [
    "import numpy as np\n",
    "model.fit(np.array(X_train).reshape(-1,1), y_train)"
   ]
  },
  {
   "cell_type": "code",
   "execution_count": 24,
   "id": "c8cb4ce0-54e5-4dbe-9082-396ed9bdec7a",
   "metadata": {
    "tags": []
   },
   "outputs": [
    {
     "data": {
      "text/plain": [
       "2.3005366666306863"
      ]
     },
     "execution_count": 24,
     "metadata": {},
     "output_type": "execute_result"
    }
   ],
   "source": [
    "from sklearn.metrics import mean_squared_error\n",
    "import math\n",
    "predict_y = model.predict(np.array(X_test).reshape(-1,1))\n",
    "rmse = math.sqrt(mean_squared_error(y_test,predict_y))\n",
    "rmse"
   ]
  },
  {
   "cell_type": "code",
   "execution_count": 26,
   "id": "bf3bd379-3dae-4135-b8c3-c54891fc08ac",
   "metadata": {
    "tags": []
   },
   "outputs": [
    {
     "data": {
      "text/plain": [
       "72.64852631465327"
      ]
     },
     "execution_count": 26,
     "metadata": {},
     "output_type": "execute_result"
    }
   ],
   "source": [
    "#computing scatter indexs\n",
    "rmse / y.mean() * 100\n",
    "#and it is very high - the model is not a good one"
   ]
  },
  {
   "cell_type": "code",
   "execution_count": 29,
   "id": "c9a7ea88-2487-42d6-b448-bdd4bf5df5dc",
   "metadata": {
    "tags": []
   },
   "outputs": [
    {
     "data": {
      "image/png": "[encoded data removed]",
      "text/plain": [
       "<Figure size 640x480 with 1 Axes>"
      ]
     },
     "metadata": {},
     "output_type": "display_data"
    }
   ],
   "source": [
    "plt.hist(y, bins=20)\n",
    "plt.show()"
   ]
  },
  {
   "cell_type": "code",
   "execution_count": 34,
   "id": "d8878fe5-7e98-4fa3-a7c7-676393deb40e",
   "metadata": {
    "tags": []
   },
   "outputs": [
    {
     "data": {
      "text/plain": [
       "Text(0.5, 0, 'area at groundlevel')"
      ]
     },
     "execution_count": 34,
     "metadata": {},
     "output_type": "execute_result"
    },
    {
     "data": {
      "image/png": "[encoded data removed]",
      "text/plain": [
       "<Figure size 640x480 with 1 Axes>"
      ]
     },
     "metadata": {},
     "output_type": "display_data"
    }
   ],
   "source": [
    "plt.scatter(x, y)\n",
    "plt.ylabel('levels')\n",
    "plt.xlabel('area at groundlevel')"
   ]
  },
  {
   "cell_type": "code",
   "execution_count": 35,
   "id": "6aca27e7-496e-4185-82d9-44cfcbc0ec28",
   "metadata": {
    "tags": []
   },
   "outputs": [
    {
     "data": {
      "text/plain": [
       "3.1666666666666665"
      ]
     },
     "execution_count": 35,
     "metadata": {},
     "output_type": "execute_result"
    }
   ],
   "source": [
    "y.mean()"
   ]
  },
  {
   "cell_type": "code",
   "execution_count": 36,
   "id": "2378681b-98bf-46df-bbff-f0d2ce7dc4ea",
   "metadata": {
    "tags": []
   },
   "outputs": [
    {
     "name": "stderr",
     "output_type": "stream",
     "text": [
      "/usr/local/lib/python3.10/dist-packages/geopandas/geodataframe.py:1443: SettingWithCopyWarning: \n",
      "A value is trying to be set on a copy of a slice from a DataFrame.\n",
      "Try using .loc[row_indexer,col_indexer] = value instead\n",
      "\n",
      "See the caveats in the documentation: https://pandas.pydata.org/pandas-docs/stable/user_guide/indexing.html#returning-a-view-versus-a-copy\n",
      "  super().__setitem__(key, value)\n"
     ]
    }
   ],
   "source": [
    "nolevel['building:levels'] = 3.167"
   ]
  },
  {
   "cell_type": "code",
   "execution_count": 37,
   "id": "296d17f0-a96f-4368-a807-01295066518b",
   "metadata": {
    "tags": []
   },
   "outputs": [
    {
     "data": {
      "text/plain": [
       "45       3.167\n",
       "46       3.167\n",
       "113      3.167\n",
       "278      3.167\n",
       "668      3.167\n",
       "         ...  \n",
       "98941    3.167\n",
       "98942    3.167\n",
       "98949    3.167\n",
       "98950    3.167\n",
       "98951    3.167\n",
       "Name: building:levels, Length: 8620, dtype: float64"
      ]
     },
     "execution_count": 37,
     "metadata": {},
     "output_type": "execute_result"
    }
   ],
   "source": [
    "nolevel['building:levels']"
   ]
  },
  {
   "cell_type": "code",
   "execution_count": 38,
   "id": "f5137eb0-a688-42da-92ca-a61849c7fe52",
   "metadata": {
    "tags": []
   },
   "outputs": [
    {
     "name": "stderr",
     "output_type": "stream",
     "text": [
      "/usr/local/lib/python3.10/dist-packages/geopandas/geodataframe.py:1443: SettingWithCopyWarning: \n",
      "A value is trying to be set on a copy of a slice from a DataFrame.\n",
      "Try using .loc[row_indexer,col_indexer] = value instead\n",
      "\n",
      "See the caveats in the documentation: https://pandas.pydata.org/pandas-docs/stable/user_guide/indexing.html#returning-a-view-versus-a-copy\n",
      "  super().__setitem__(key, value)\n"
     ]
    }
   ],
   "source": [
    "nolevel['randomlevel'] = 'yes'"
   ]
  },
  {
   "cell_type": "code",
   "execution_count": 39,
   "id": "7fc00e70-aaeb-4b14-94c7-840d373ec3b8",
   "metadata": {
    "tags": []
   },
   "outputs": [
    {
     "name": "stderr",
     "output_type": "stream",
     "text": [
      "/usr/local/lib/python3.10/dist-packages/geopandas/geodataframe.py:1443: SettingWithCopyWarning: \n",
      "A value is trying to be set on a copy of a slice from a DataFrame.\n",
      "Try using .loc[row_indexer,col_indexer] = value instead\n",
      "\n",
      "See the caveats in the documentation: https://pandas.pydata.org/pandas-docs/stable/user_guide/indexing.html#returning-a-view-versus-a-copy\n",
      "  super().__setitem__(key, value)\n"
     ]
    }
   ],
   "source": [
    "levels['randomlevel'] = 'no'"
   ]
  },
  {
   "cell_type": "code",
   "execution_count": 40,
   "id": "52fbf0d1-3cf3-49b1-88d6-c259875443fc",
   "metadata": {
    "tags": []
   },
   "outputs": [
    {
     "data": {
      "text/html": [
       "<div>\n",
       "<style scoped>\n",
       "    .dataframe tbody tr th:only-of-type {\n",
       "        vertical-align: middle;\n",
       "    }\n",
       "\n",
       "    .dataframe tbody tr th {\n",
       "        vertical-align: top;\n",
       "    }\n",
       "\n",
       "    .dataframe thead th {\n",
       "        text-align: right;\n",
       "    }\n",
       "</style>\n",
       "<table border=\"1\" class=\"dataframe\">\n",
       "  <thead>\n",
       "    <tr style=\"text-align: right;\">\n",
       "      <th></th>\n",
       "      <th>w_id</th>\n",
       "      <th>geometry</th>\n",
       "      <th>building:levels</th>\n",
       "      <th>randomlevel</th>\n",
       "    </tr>\n",
       "  </thead>\n",
       "  <tbody>\n",
       "    <tr>\n",
       "      <th>45</th>\n",
       "      <td>18713762</td>\n",
       "      <td>MULTIPOLYGON (((696333.120 6392680.068, 696400...</td>\n",
       "      <td>3.167</td>\n",
       "      <td>yes</td>\n",
       "    </tr>\n",
       "    <tr>\n",
       "      <th>46</th>\n",
       "      <td>18714514</td>\n",
       "      <td>MULTIPOLYGON (((698764.740 6391980.459, 698832...</td>\n",
       "      <td>3.167</td>\n",
       "      <td>yes</td>\n",
       "    </tr>\n",
       "    <tr>\n",
       "      <th>113</th>\n",
       "      <td>29752260</td>\n",
       "      <td>MULTIPOLYGON (((672267.605 6576424.625, 672272...</td>\n",
       "      <td>3.167</td>\n",
       "      <td>yes</td>\n",
       "    </tr>\n",
       "    <tr>\n",
       "      <th>278</th>\n",
       "      <td>45929720</td>\n",
       "      <td>MULTIPOLYGON (((674988.771 6573155.966, 675052...</td>\n",
       "      <td>3.167</td>\n",
       "      <td>yes</td>\n",
       "    </tr>\n",
       "    <tr>\n",
       "      <th>668</th>\n",
       "      <td>47035202</td>\n",
       "      <td>MULTIPOLYGON (((674653.143 6572307.140, 674655...</td>\n",
       "      <td>3.167</td>\n",
       "      <td>yes</td>\n",
       "    </tr>\n",
       "    <tr>\n",
       "      <th>...</th>\n",
       "      <td>...</td>\n",
       "      <td>...</td>\n",
       "      <td>...</td>\n",
       "      <td>...</td>\n",
       "    </tr>\n",
       "    <tr>\n",
       "      <th>61137</th>\n",
       "      <td>180757626</td>\n",
       "      <td>MULTIPOLYGON (((676862.921 6574335.512, 676871...</td>\n",
       "      <td>1</td>\n",
       "      <td>no</td>\n",
       "    </tr>\n",
       "    <tr>\n",
       "      <th>62040</th>\n",
       "      <td>180891850</td>\n",
       "      <td>MULTIPOLYGON (((677184.881 6570131.155, 677195...</td>\n",
       "      <td>2</td>\n",
       "      <td>no</td>\n",
       "    </tr>\n",
       "    <tr>\n",
       "      <th>62043</th>\n",
       "      <td>180891868</td>\n",
       "      <td>MULTIPOLYGON (((677183.114 6569952.822, 677187...</td>\n",
       "      <td>1</td>\n",
       "      <td>no</td>\n",
       "    </tr>\n",
       "    <tr>\n",
       "      <th>62046</th>\n",
       "      <td>180891876</td>\n",
       "      <td>MULTIPOLYGON (((677090.251 6569959.434, 677103...</td>\n",
       "      <td>1</td>\n",
       "      <td>no</td>\n",
       "    </tr>\n",
       "    <tr>\n",
       "      <th>73236</th>\n",
       "      <td>185957824</td>\n",
       "      <td>MULTIPOLYGON (((688744.433 6575779.996, 688763...</td>\n",
       "      <td>1</td>\n",
       "      <td>no</td>\n",
       "    </tr>\n",
       "  </tbody>\n",
       "</table>\n",
       "<p>9430 rows × 4 columns</p>\n",
       "</div>"
      ],
      "text/plain": [
       "            w_id                                           geometry  \\\n",
       "45      18713762  MULTIPOLYGON (((696333.120 6392680.068, 696400...   \n",
       "46      18714514  MULTIPOLYGON (((698764.740 6391980.459, 698832...   \n",
       "113     29752260  MULTIPOLYGON (((672267.605 6576424.625, 672272...   \n",
       "278     45929720  MULTIPOLYGON (((674988.771 6573155.966, 675052...   \n",
       "668     47035202  MULTIPOLYGON (((674653.143 6572307.140, 674655...   \n",
       "...          ...                                                ...   \n",
       "61137  180757626  MULTIPOLYGON (((676862.921 6574335.512, 676871...   \n",
       "62040  180891850  MULTIPOLYGON (((677184.881 6570131.155, 677195...   \n",
       "62043  180891868  MULTIPOLYGON (((677183.114 6569952.822, 677187...   \n",
       "62046  180891876  MULTIPOLYGON (((677090.251 6569959.434, 677103...   \n",
       "73236  185957824  MULTIPOLYGON (((688744.433 6575779.996, 688763...   \n",
       "\n",
       "      building:levels randomlevel  \n",
       "45              3.167         yes  \n",
       "46              3.167         yes  \n",
       "113             3.167         yes  \n",
       "278             3.167         yes  \n",
       "668             3.167         yes  \n",
       "...               ...         ...  \n",
       "61137               1          no  \n",
       "62040               2          no  \n",
       "62043               1          no  \n",
       "62046               1          no  \n",
       "73236               1          no  \n",
       "\n",
       "[9430 rows x 4 columns]"
      ]
     },
     "execution_count": 40,
     "metadata": {},
     "output_type": "execute_result"
    }
   ],
   "source": [
    "soder = pd.concat([nolevel, levels])\n",
    "soder"
   ]
  },
  {
   "cell_type": "code",
   "execution_count": 41,
   "id": "2ab079a8-2cf1-452a-8737-c4d70ace5127",
   "metadata": {
    "tags": []
   },
   "outputs": [],
   "source": [
    "soder['floorarea'] = soder.area * soder['building:levels'].astype(float)\n",
    "#metal = metal[meta['building:levels'].str.contains('[A-Za-z]') == False]"
   ]
  },
  {
   "cell_type": "code",
   "execution_count": 42,
   "id": "bef9b1b4-5d88-43f1-af17-5c835efa61e1",
   "metadata": {
    "tags": []
   },
   "outputs": [
    {
     "data": {
      "text/plain": [
       "45        7472.331497\n",
       "46       10816.076112\n",
       "113      16026.841148\n",
       "278      21668.615210\n",
       "668       1052.932553\n",
       "             ...     \n",
       "61137      504.972199\n",
       "62040      285.919652\n",
       "62043      184.621453\n",
       "62046      112.947263\n",
       "73236      206.724128\n",
       "Name: floorarea, Length: 9430, dtype: float64"
      ]
     },
     "execution_count": 42,
     "metadata": {},
     "output_type": "execute_result"
    }
   ],
   "source": [
    "soder['floorarea']"
   ]
  },
  {
   "cell_type": "code",
   "execution_count": 43,
   "id": "bec003ba-bf4f-4895-a4fd-c54256ac5460",
   "metadata": {
    "tags": []
   },
   "outputs": [],
   "source": [
    "#multiplying floor area with figure from Antti's model, using climate zone 5 for Stockholm\n",
    "soder['kWh/a'] = soder['floorarea'] * 159.993"
   ]
  },
  {
   "cell_type": "code",
   "execution_count": 44,
   "id": "dbd737a8-2116-4d9d-a7b9-9b86187a3346",
   "metadata": {
    "tags": []
   },
   "outputs": [
    {
     "data": {
      "text/plain": [
       "0.20848999999999998"
      ]
     },
     "execution_count": 44,
     "metadata": {},
     "output_type": "execute_result"
    }
   ],
   "source": [
    "#using this article https://www.sei.org/publications/swedish-heat-energy-system-new-tensions-and-lock-ins-after-a-successful-transition/#:~:text=Fossil%20fuel%20energy%20has%20been,demand%20for%20heating%20in%20buildings.\n",
    "#to calculate an estimate of the energy mix and it's co2-emissions using Antti's model\n",
    "co2 = 0.5*0.195 + 0.25*0.104 + 0.08*0.255 + 0.08*0.354 + 0.09*0.403\n",
    "co2"
   ]
  },
  {
   "cell_type": "code",
   "execution_count": 45,
   "id": "fac5e7cc-b049-4d77-a447-3f9821db41bf",
   "metadata": {
    "tags": []
   },
   "outputs": [],
   "source": [
    "#multiplying kWh with co2/kWh for estimate of co2-emissions\n",
    "soder['yearly-co2'] = soder['kWh/a'] * co2"
   ]
  },
  {
   "cell_type": "code",
   "execution_count": 49,
   "id": "0e2464ae-ee68-4a9c-bcbe-c46046622a82",
   "metadata": {
    "tags": []
   },
   "outputs": [],
   "source": [
    "soder = soder.rename(columns={'building:levels':'levels', 'yearly-co2':'co2/a', 'randomlevel':'fakelevel'})"
   ]
  },
  {
   "cell_type": "code",
   "execution_count": 50,
   "id": "c77b9ba1-d63b-4886-a8d6-fe741548895b",
   "metadata": {
    "tags": []
   },
   "outputs": [
    {
     "data": {
      "text/html": [
       "<div>\n",
       "<style scoped>\n",
       "    .dataframe tbody tr th:only-of-type {\n",
       "        vertical-align: middle;\n",
       "    }\n",
       "\n",
       "    .dataframe tbody tr th {\n",
       "        vertical-align: top;\n",
       "    }\n",
       "\n",
       "    .dataframe thead th {\n",
       "        text-align: right;\n",
       "    }\n",
       "</style>\n",
       "<table border=\"1\" class=\"dataframe\">\n",
       "  <thead>\n",
       "    <tr style=\"text-align: right;\">\n",
       "      <th></th>\n",
       "      <th>w_id</th>\n",
       "      <th>geometry</th>\n",
       "      <th>levels</th>\n",
       "      <th>fakelevel</th>\n",
       "      <th>floorarea</th>\n",
       "      <th>kWh/a</th>\n",
       "      <th>co2/a</th>\n",
       "    </tr>\n",
       "  </thead>\n",
       "  <tbody>\n",
       "    <tr>\n",
       "      <th>45</th>\n",
       "      <td>18713762</td>\n",
       "      <td>MULTIPOLYGON (((696333.120 6392680.068, 696400...</td>\n",
       "      <td>3.167</td>\n",
       "      <td>yes</td>\n",
       "      <td>7472.331497</td>\n",
       "      <td>1.195521e+06</td>\n",
       "      <td>249254.117651</td>\n",
       "    </tr>\n",
       "    <tr>\n",
       "      <th>46</th>\n",
       "      <td>18714514</td>\n",
       "      <td>MULTIPOLYGON (((698764.740 6391980.459, 698832...</td>\n",
       "      <td>3.167</td>\n",
       "      <td>yes</td>\n",
       "      <td>10816.076112</td>\n",
       "      <td>1.730496e+06</td>\n",
       "      <td>360791.208065</td>\n",
       "    </tr>\n",
       "    <tr>\n",
       "      <th>113</th>\n",
       "      <td>29752260</td>\n",
       "      <td>MULTIPOLYGON (((672267.605 6576424.625, 672272...</td>\n",
       "      <td>3.167</td>\n",
       "      <td>yes</td>\n",
       "      <td>16026.841148</td>\n",
       "      <td>2.564182e+06</td>\n",
       "      <td>534606.387701</td>\n",
       "    </tr>\n",
       "    <tr>\n",
       "      <th>278</th>\n",
       "      <td>45929720</td>\n",
       "      <td>MULTIPOLYGON (((674988.771 6573155.966, 675052...</td>\n",
       "      <td>3.167</td>\n",
       "      <td>yes</td>\n",
       "      <td>21668.615210</td>\n",
       "      <td>3.466827e+06</td>\n",
       "      <td>722798.709787</td>\n",
       "    </tr>\n",
       "    <tr>\n",
       "      <th>668</th>\n",
       "      <td>47035202</td>\n",
       "      <td>MULTIPOLYGON (((674653.143 6572307.140, 674655...</td>\n",
       "      <td>3.167</td>\n",
       "      <td>yes</td>\n",
       "      <td>1052.932553</td>\n",
       "      <td>1.684618e+05</td>\n",
       "      <td>35122.608598</td>\n",
       "    </tr>\n",
       "  </tbody>\n",
       "</table>\n",
       "</div>"
      ],
      "text/plain": [
       "         w_id                                           geometry levels  \\\n",
       "45   18713762  MULTIPOLYGON (((696333.120 6392680.068, 696400...  3.167   \n",
       "46   18714514  MULTIPOLYGON (((698764.740 6391980.459, 698832...  3.167   \n",
       "113  29752260  MULTIPOLYGON (((672267.605 6576424.625, 672272...  3.167   \n",
       "278  45929720  MULTIPOLYGON (((674988.771 6573155.966, 675052...  3.167   \n",
       "668  47035202  MULTIPOLYGON (((674653.143 6572307.140, 674655...  3.167   \n",
       "\n",
       "    fakelevel     floorarea         kWh/a          co2/a  \n",
       "45        yes   7472.331497  1.195521e+06  249254.117651  \n",
       "46        yes  10816.076112  1.730496e+06  360791.208065  \n",
       "113       yes  16026.841148  2.564182e+06  534606.387701  \n",
       "278       yes  21668.615210  3.466827e+06  722798.709787  \n",
       "668       yes   1052.932553  1.684618e+05   35122.608598  "
      ]
     },
     "execution_count": 50,
     "metadata": {},
     "output_type": "execute_result"
    }
   ],
   "source": [
    "soder.head()"
   ]
  },
  {
   "cell_type": "code",
   "execution_count": 51,
   "id": "26032b9b-c1db-4de9-911e-763ee0154684",
   "metadata": {
    "tags": []
   },
   "outputs": [],
   "source": [
    "soder.to_file('sodermalm-all.shp')"
   ]
  },
  {
   "cell_type": "code",
   "execution_count": 29,
   "id": "2be7a362-df45-474b-baa2-744894f4b815",
   "metadata": {
    "tags": []
   },
   "outputs": [
    {
     "data": {
      "text/html": [
       "<div>\n",
       "<style scoped>\n",
       "    .dataframe tbody tr th:only-of-type {\n",
       "        vertical-align: middle;\n",
       "    }\n",
       "\n",
       "    .dataframe tbody tr th {\n",
       "        vertical-align: top;\n",
       "    }\n",
       "\n",
       "    .dataframe thead th {\n",
       "        text-align: right;\n",
       "    }\n",
       "</style>\n",
       "<table border=\"1\" class=\"dataframe\">\n",
       "  <thead>\n",
       "    <tr style=\"text-align: right;\">\n",
       "      <th></th>\n",
       "      <th>w_id</th>\n",
       "      <th>levels</th>\n",
       "      <th>floorarea</th>\n",
       "      <th>kWh/a</th>\n",
       "      <th>co2/a</th>\n",
       "      <th>geometry</th>\n",
       "    </tr>\n",
       "  </thead>\n",
       "  <tbody>\n",
       "    <tr>\n",
       "      <th>0</th>\n",
       "      <td>29741604</td>\n",
       "      <td>4</td>\n",
       "      <td>11743.984416</td>\n",
       "      <td>1.878955e+06</td>\n",
       "      <td>391743.390228</td>\n",
       "      <td>POLYGON ((675282.055 6577525.008, 675301.606 6...</td>\n",
       "    </tr>\n",
       "    <tr>\n",
       "      <th>1</th>\n",
       "      <td>29752940</td>\n",
       "      <td>4</td>\n",
       "      <td>2031.588532</td>\n",
       "      <td>3.250399e+05</td>\n",
       "      <td>67767.577923</td>\n",
       "      <td>POLYGON ((672911.430 6576548.124, 672922.732 6...</td>\n",
       "    </tr>\n",
       "    <tr>\n",
       "      <th>2</th>\n",
       "      <td>47971704</td>\n",
       "      <td>2</td>\n",
       "      <td>4490.550194</td>\n",
       "      <td>7.184566e+05</td>\n",
       "      <td>149791.015938</td>\n",
       "      <td>POLYGON ((678820.355 6571576.675, 678839.388 6...</td>\n",
       "    </tr>\n",
       "    <tr>\n",
       "      <th>3</th>\n",
       "      <td>48029436</td>\n",
       "      <td>2</td>\n",
       "      <td>672.347392</td>\n",
       "      <td>1.075709e+05</td>\n",
       "      <td>22427.451988</td>\n",
       "      <td>POLYGON ((679299.694 6574068.135, 679308.462 6...</td>\n",
       "    </tr>\n",
       "    <tr>\n",
       "      <th>4</th>\n",
       "      <td>48780448</td>\n",
       "      <td>1</td>\n",
       "      <td>14555.442774</td>\n",
       "      <td>2.328769e+06</td>\n",
       "      <td>485525.039569</td>\n",
       "      <td>POLYGON ((673941.779 6572849.976, 674217.168 6...</td>\n",
       "    </tr>\n",
       "  </tbody>\n",
       "</table>\n",
       "</div>"
      ],
      "text/plain": [
       "       w_id levels     floorarea         kWh/a          co2/a  \\\n",
       "0  29741604      4  11743.984416  1.878955e+06  391743.390228   \n",
       "1  29752940      4   2031.588532  3.250399e+05   67767.577923   \n",
       "2  47971704      2   4490.550194  7.184566e+05  149791.015938   \n",
       "3  48029436      2    672.347392  1.075709e+05   22427.451988   \n",
       "4  48780448      1  14555.442774  2.328769e+06  485525.039569   \n",
       "\n",
       "                                            geometry  \n",
       "0  POLYGON ((675282.055 6577525.008, 675301.606 6...  \n",
       "1  POLYGON ((672911.430 6576548.124, 672922.732 6...  \n",
       "2  POLYGON ((678820.355 6571576.675, 678839.388 6...  \n",
       "3  POLYGON ((679299.694 6574068.135, 679308.462 6...  \n",
       "4  POLYGON ((673941.779 6572849.976, 674217.168 6...  "
      ]
     },
     "execution_count": 29,
     "metadata": {},
     "output_type": "execute_result"
    }
   ],
   "source": [
    "how_to_read = geopandas.read_file('sodermalm.shp')\n",
    "how_to_read.head()"
   ]
  },
  {
   "cell_type": "code",
   "execution_count": null,
   "id": "c32737d3-2bea-4c4f-afbf-829e1ace3942",
   "metadata": {},
   "outputs": [],
   "source": []
  }
 ],
 "metadata": {
  "kernelspec": {
   "display_name": "Python 3 (ipykernel)",
   "language": "python",
   "name": "python3"
  },
  "language_info": {
   "codemirror_mode": {
    "name": "ipython",
    "version": 3
   },
   "file_extension": ".py",
   "mimetype": "text/x-python",
   "name": "python",
   "nbconvert_exporter": "python",
   "pygments_lexer": "ipython3",
   "version": "3.10.6"
  }
 },
 "nbformat": 4,
 "nbformat_minor": 5
}
