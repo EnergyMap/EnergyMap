{
 "cells": [
  {
   "cell_type": "code",
   "execution_count": 1,
   "id": "70f3c77a-ece0-46e6-bb09-c0aa4fb431c7",
   "metadata": {
    "tags": []
   },
   "outputs": [],
   "source": [
    "import osmium\n",
    "import shapely.wkb as wkblib\n",
    "import pandas as pd\n",
    "import geopandas\n",
    "import osmnx as ox\n",
    "import matplotlib.pyplot as plt\n",
    "import psutil"
   ]
  },
  {
   "cell_type": "code",
   "execution_count": 2,
   "id": "e8175f4b-8881-405d-90c2-2e1d9575c3ed",
   "metadata": {},
   "outputs": [
    {
     "name": "stdout",
     "output_type": "stream",
     "text": [
      "--2023-03-13 18:01:35--  http://download.geofabrik.de/europe/sweden-latest.osm.pbf\n",
      "Resolving download.geofabrik.de (download.geofabrik.de)... 65.109.48.72, 65.109.50.43\n",
      "Connecting to download.geofabrik.de (download.geofabrik.de)|65.109.48.72|:80... connected.\n",
      "HTTP request sent, awaiting response... 200 OK\n",
      "Length: 657522876 (627M) [application/octet-stream]\n",
      "Saving to: ‘sweden-latest.osm.pbf’\n",
      "\n",
      "sweden-latest.osm.p 100%[===================>] 627.06M  92.9MB/s    in 7.1s    \n",
      "\n",
      "2023-03-13 18:01:43 (88.7 MB/s) - ‘sweden-latest.osm.pbf’ saved [657522876/657522876]\n",
      "\n"
     ]
    }
   ],
   "source": [
    "#uncomment and download data if you need it\n",
    "!wget http://download.geofabrik.de/europe/sweden-latest.osm.pbf"
   ]
  },
  {
   "cell_type": "code",
   "execution_count": 3,
   "id": "e2c3fd9f-63bd-46f9-b387-a9a00c648067",
   "metadata": {},
   "outputs": [],
   "source": [
    "#https://max-coding.medium.com/extracting-open-street-map-osm-street-data-from-data-files-using-pyosmium-afca6eaa5d00"
   ]
  },
  {
   "cell_type": "code",
   "execution_count": 4,
   "id": "83ea2840-e650-4d6c-aaca-2ae84eb4e100",
   "metadata": {
    "tags": []
   },
   "outputs": [],
   "source": [
    "#this class creates\n",
    "#multipolygons for all buildings. Uses \"area\", and I don't know\n",
    "#if e.g. \"way\" or \"relation\" also could/should be used.\n",
    "#Inspiration from here https://max-coding.medium.com/extracting-open-street-map-osm-street-data-from-data-files-using-pyosmium-afca6eaa5d00\n",
    "class BuildingHandler(osmium.SimpleHandler):\n",
    "    def __init__(self):\n",
    "        osmium.SimpleHandler.__init__(self)\n",
    "        self.building_count = 0\n",
    "        self.buildings = []\n",
    "        # A global factory that creates WKB from a osmium geometry\n",
    "        self.wkbfab = osmium.geom.WKBFactory()\n",
    "\n",
    "    def area(self, w):\n",
    "        if w.tags.get(\"building\") == 'yes':\n",
    "            try:\n",
    "                wkb = self.wkbfab.create_multipolygon(w)\n",
    "                geo = wkblib.loads(wkb, hex=True)\n",
    "            except Exception as e:\n",
    "                print(e)\n",
    "                return\n",
    "            row = { \"w_id\": w.id, \"geometry\": geo }\n",
    "\n",
    "            for key, value in w.tags:\n",
    "                row[key] = value\n",
    "\n",
    "            self.buildings.append(row)\n",
    "            self.building_count += 1"
   ]
  },
  {
   "cell_type": "code",
   "execution_count": 5,
   "id": "6a983db8-d234-49a7-9a04-fe543c01e9ee",
   "metadata": {
    "tags": []
   },
   "outputs": [],
   "source": [
    "#this runs the actual loading from the file, might take a while\n",
    "buildinghandler = BuildingHandler()\n",
    "buildinghandler.apply_file(\"sweden-latest.osm.pbf\", locations=True)"
   ]
  },
  {
   "cell_type": "code",
   "execution_count": 6,
   "id": "97e7c1f0-6c13-4d26-b7b3-46fca933ea9b",
   "metadata": {
    "tags": []
   },
   "outputs": [
    {
     "data": {
      "text/plain": [
       "2022401"
      ]
     },
     "execution_count": 6,
     "metadata": {},
     "output_type": "execute_result"
    }
   ],
   "source": [
    "len(buildinghandler.buildings)"
   ]
  },
  {
   "cell_type": "code",
   "execution_count": 7,
   "id": "23268e37-0f93-4902-97ae-26e02c60a718",
   "metadata": {
    "tags": []
   },
   "outputs": [
    {
     "data": {
      "text/plain": [
       "22.3"
      ]
     },
     "execution_count": 7,
     "metadata": {},
     "output_type": "execute_result"
    }
   ],
   "source": [
    "psutil.virtual_memory().percent"
   ]
  },
  {
   "cell_type": "code",
   "execution_count": 8,
   "id": "f3879ec4-3ce5-4049-bd3f-7bbc1c59fd07",
   "metadata": {
    "tags": []
   },
   "outputs": [],
   "source": [
    "#first to a pandas dataframe and then to geopandas\n",
    "df = pd.DataFrame(buildinghandler.buildings[:100000])\n",
    "gdf = geopandas.GeoDataFrame(df, geometry='geometry')\n",
    "gdf = gdf.set_crs(\"EPSG:4326\")\n",
    "gdf = ox.project_gdf(gdf)"
   ]
  },
  {
   "cell_type": "code",
   "execution_count": 49,
   "id": "e70bf5ea-b623-430a-99d7-d92dcb8fcec3",
   "metadata": {
    "tags": []
   },
   "outputs": [
    {
     "data": {
      "text/plain": [
       "(3056, 410)"
      ]
     },
     "execution_count": 49,
     "metadata": {},
     "output_type": "execute_result"
    }
   ],
   "source": [
    "#dropping all buildings that don't have level information\n",
    "gdf = gdf.dropna(subset=['building:levels'])\n",
    "gdf.shape"
   ]
  },
  {
   "cell_type": "code",
   "execution_count": 62,
   "id": "342eb498-6d60-43b3-b7af-6c1714950b54",
   "metadata": {
    "tags": []
   },
   "outputs": [
    {
     "data": {
      "text/plain": [
       "2.919011780104712"
      ]
     },
     "execution_count": 62,
     "metadata": {},
     "output_type": "execute_result"
    }
   ],
   "source": [
    "#taking a look at the mean levels\n",
    "gdf['building:levels'].astype(float).mean()"
   ]
  },
  {
   "cell_type": "code",
   "execution_count": 161,
   "id": "959da162-47d5-437c-a987-093f3a073d47",
   "metadata": {
    "tags": []
   },
   "outputs": [
    {
     "data": {
      "image/png": "[encoded data removed]",
      "text/plain": [
       "<Figure size 640x480 with 1 Axes>"
      ]
     },
     "metadata": {},
     "output_type": "display_data"
    }
   ],
   "source": [
    "#taking a look at the building levels in the 100000 building sample\n",
    "plt.hist(gdf['building:levels'].astype(float), bins=20)\n",
    "plt.show()"
   ]
  },
  {
   "cell_type": "code",
   "execution_count": 78,
   "id": "e04cd693-d0d8-4275-8408-248abd9bd599",
   "metadata": {
    "tags": []
   },
   "outputs": [
    {
     "name": "stderr",
     "output_type": "stream",
     "text": [
      "/tmp/ipykernel_2616/2662106380.py:1: UserWarning: Column names longer than 10 characters will be truncated when saved to ESRI Shapefile.\n",
      "  gdf.to_file('datafram.shp')\n"
     ]
    }
   ],
   "source": [
    "#if one wants to store a gdf, this is how you do it\n",
    "#gdf.to_file('datafram.shp')"
   ]
  },
  {
   "cell_type": "code",
   "execution_count": 84,
   "id": "794da2f7-3003-49cc-9a41-9a2d2f6aab01",
   "metadata": {
    "tags": []
   },
   "outputs": [
    {
     "data": {
      "text/plain": [
       "<Derived Projected CRS: +proj=utm +zone=33 +ellps=WGS84 +datum=WGS84 +unit ...>\n",
       "Name: unknown\n",
       "Axis Info [cartesian]:\n",
       "- E[east]: Easting (metre)\n",
       "- N[north]: Northing (metre)\n",
       "Area of Use:\n",
       "- undefined\n",
       "Coordinate Operation:\n",
       "- name: UTM zone 33N\n",
       "- method: Transverse Mercator\n",
       "Datum: World Geodetic System 1984\n",
       "- Ellipsoid: WGS 84\n",
       "- Prime Meridian: Greenwich"
      ]
     },
     "execution_count": 84,
     "metadata": {},
     "output_type": "execute_result"
    }
   ],
   "source": [
    "#learning new stuff about the projection\n",
    "gdf.crs"
   ]
  },
  {
   "cell_type": "code",
   "execution_count": 85,
   "id": "5f602c36-0534-4474-afc0-9315a8a36494",
   "metadata": {
    "tags": []
   },
   "outputs": [],
   "source": [
    "#testing filtering out the Stockholm region using the cx-function\n",
    "#gdf_s = gdf.cx[672205:6579860, 676862:6577873]"
   ]
  },
  {
   "cell_type": "code",
   "execution_count": 9,
   "id": "6385c23d-bb3c-402e-b4aa-6612fa5945b3",
   "metadata": {
    "tags": []
   },
   "outputs": [
    {
     "name": "stdout",
     "output_type": "stream",
     "text": [
      "(943, 3)\n",
      "(1886, 3)\n",
      "(2829, 3)\n",
      "(3772, 3)\n",
      "(4715, 3)\n",
      "(5658, 3)\n",
      "(6601, 3)\n",
      "(7544, 3)\n",
      "(8487, 3)\n",
      "(9430, 3)\n"
     ]
    }
   ],
   "source": [
    "i = 200000\n",
    "while i < len(buildinghandler.buildings):\n",
    "    dfx = pd.DataFrame(buildinghandler.buildings[(i-200000):min([i, len(buildinghandler.buildings)-1])])\n",
    "    gdfx = geopandas.GeoDataFrame(dfx, geometry='geometry')\n",
    "    gdfx = gdfx.set_crs(\"EPSG:4326\")\n",
    "    gdfx = ox.project_gdf(gdfx)\n",
    "    gdfx = gdf.cx[672205:6579860, 676862:6577873]\n",
    "    #gdfx = gdfx.dropna(subset=['building:levels'])\n",
    "    gdfx = gdfx[['w_id', 'geometry', 'building:levels']]\n",
    "    if i < 200001:\n",
    "        meta = gdfx\n",
    "    else:\n",
    "        meta = pd.concat([meta, gdfx])\n",
    "    print(meta.shape)\n",
    "    i += 200000"
   ]
  },
  {
   "cell_type": "code",
   "execution_count": 14,
   "id": "73e49572-4b82-43ef-80ea-fefe7d29bf3c",
   "metadata": {
    "tags": []
   },
   "outputs": [
    {
     "data": {
      "text/plain": [
       "(810, 3)"
      ]
     },
     "execution_count": 14,
     "metadata": {},
     "output_type": "execute_result"
    }
   ],
   "source": [
    "metal = meta.dropna(subset=['building:levels'])\n",
    "metal.shape"
   ]
  },
  {
   "cell_type": "code",
   "execution_count": null,
   "id": "2ab079a8-2cf1-452a-8737-c4d70ace5127",
   "metadata": {
    "tags": []
   },
   "outputs": [],
   "source": [
    "metal['floorarea'] = metal.area * metal['building:levels'].astype(float)\n",
    "#metal = metal[meta['building:levels'].str.contains('[A-Za-z]') == False]"
   ]
  },
  {
   "cell_type": "code",
   "execution_count": 17,
   "id": "bef9b1b4-5d88-43f1-af17-5c835efa61e1",
   "metadata": {
    "tags": []
   },
   "outputs": [
    {
     "data": {
      "text/plain": [
       "107      11743.984416\n",
       "114       2031.588532\n",
       "783       4490.550194\n",
       "805        672.347392\n",
       "941      14555.442774\n",
       "             ...     \n",
       "61137      504.972199\n",
       "62040      285.919652\n",
       "62043      184.621453\n",
       "62046      112.947263\n",
       "73236      206.724128\n",
       "Name: floorarea, Length: 810, dtype: float64"
      ]
     },
     "execution_count": 17,
     "metadata": {},
     "output_type": "execute_result"
    }
   ],
   "source": [
    "metal['floorarea']"
   ]
  },
  {
   "cell_type": "code",
   "execution_count": null,
   "id": "bec003ba-bf4f-4895-a4fd-c54256ac5460",
   "metadata": {
    "tags": []
   },
   "outputs": [],
   "source": [
    "#multiplying floor area with figure from Antti's model, using climate zone 5 for Stockholm\n",
    "metal['kWh/a'] = metal['floorarea'] * 159.993"
   ]
  },
  {
   "cell_type": "code",
   "execution_count": 19,
   "id": "dbd737a8-2116-4d9d-a7b9-9b86187a3346",
   "metadata": {
    "tags": []
   },
   "outputs": [
    {
     "data": {
      "text/plain": [
       "0.20848999999999998"
      ]
     },
     "execution_count": 19,
     "metadata": {},
     "output_type": "execute_result"
    }
   ],
   "source": [
    "#using this article https://www.sei.org/publications/swedish-heat-energy-system-new-tensions-and-lock-ins-after-a-successful-transition/#:~:text=Fossil%20fuel%20energy%20has%20been,demand%20for%20heating%20in%20buildings.\n",
    "#to calculate an estimate of the energy mix and it's co2-emissions using Antti's model\n",
    "co2 = 0.5*0.195 + 0.25*0.104 + 0.08*0.255 + 0.08*0.354 + 0.09*0.403\n",
    "co2"
   ]
  },
  {
   "cell_type": "code",
   "execution_count": null,
   "id": "fac5e7cc-b049-4d77-a447-3f9821db41bf",
   "metadata": {
    "tags": []
   },
   "outputs": [],
   "source": [
    "#multiplying kWh with co2/kWh for estimate of co2-emissions\n",
    "metal['yearly-co2'] = metal['kWh/a'] * co2"
   ]
  },
  {
   "cell_type": "code",
   "execution_count": 25,
   "id": "0e2464ae-ee68-4a9c-bcbe-c46046622a82",
   "metadata": {
    "tags": []
   },
   "outputs": [],
   "source": [
    "metal = metal.rename(columns={'building:levels':'levels', 'yearly-co2':'co2/a'})"
   ]
  },
  {
   "cell_type": "code",
   "execution_count": 26,
   "id": "c77b9ba1-d63b-4886-a8d6-fe741548895b",
   "metadata": {
    "tags": []
   },
   "outputs": [
    {
     "data": {
      "text/html": [
       "<div>\n",
       "<style scoped>\n",
       "    .dataframe tbody tr th:only-of-type {\n",
       "        vertical-align: middle;\n",
       "    }\n",
       "\n",
       "    .dataframe tbody tr th {\n",
       "        vertical-align: top;\n",
       "    }\n",
       "\n",
       "    .dataframe thead th {\n",
       "        text-align: right;\n",
       "    }\n",
       "</style>\n",
       "<table border=\"1\" class=\"dataframe\">\n",
       "  <thead>\n",
       "    <tr style=\"text-align: right;\">\n",
       "      <th></th>\n",
       "      <th>w_id</th>\n",
       "      <th>geometry</th>\n",
       "      <th>levels</th>\n",
       "      <th>floorarea</th>\n",
       "      <th>kWh/a</th>\n",
       "      <th>co2/a</th>\n",
       "    </tr>\n",
       "  </thead>\n",
       "  <tbody>\n",
       "    <tr>\n",
       "      <th>107</th>\n",
       "      <td>29741604</td>\n",
       "      <td>MULTIPOLYGON (((675282.055 6577525.008, 675296...</td>\n",
       "      <td>4</td>\n",
       "      <td>11743.984416</td>\n",
       "      <td>1.878955e+06</td>\n",
       "      <td>391743.390228</td>\n",
       "    </tr>\n",
       "    <tr>\n",
       "      <th>114</th>\n",
       "      <td>29752940</td>\n",
       "      <td>MULTIPOLYGON (((672911.430 6576548.124, 672930...</td>\n",
       "      <td>4</td>\n",
       "      <td>2031.588532</td>\n",
       "      <td>3.250399e+05</td>\n",
       "      <td>67767.577923</td>\n",
       "    </tr>\n",
       "    <tr>\n",
       "      <th>783</th>\n",
       "      <td>47971704</td>\n",
       "      <td>MULTIPOLYGON (((678820.355 6571576.675, 678825...</td>\n",
       "      <td>2</td>\n",
       "      <td>4490.550194</td>\n",
       "      <td>7.184566e+05</td>\n",
       "      <td>149791.015938</td>\n",
       "    </tr>\n",
       "    <tr>\n",
       "      <th>805</th>\n",
       "      <td>48029436</td>\n",
       "      <td>MULTIPOLYGON (((679299.694 6574068.135, 679318...</td>\n",
       "      <td>2</td>\n",
       "      <td>672.347392</td>\n",
       "      <td>1.075709e+05</td>\n",
       "      <td>22427.451988</td>\n",
       "    </tr>\n",
       "    <tr>\n",
       "      <th>941</th>\n",
       "      <td>48780448</td>\n",
       "      <td>MULTIPOLYGON (((673941.779 6572849.976, 673941...</td>\n",
       "      <td>1</td>\n",
       "      <td>14555.442774</td>\n",
       "      <td>2.328769e+06</td>\n",
       "      <td>485525.039569</td>\n",
       "    </tr>\n",
       "  </tbody>\n",
       "</table>\n",
       "</div>"
      ],
      "text/plain": [
       "         w_id                                           geometry levels  \\\n",
       "107  29741604  MULTIPOLYGON (((675282.055 6577525.008, 675296...      4   \n",
       "114  29752940  MULTIPOLYGON (((672911.430 6576548.124, 672930...      4   \n",
       "783  47971704  MULTIPOLYGON (((678820.355 6571576.675, 678825...      2   \n",
       "805  48029436  MULTIPOLYGON (((679299.694 6574068.135, 679318...      2   \n",
       "941  48780448  MULTIPOLYGON (((673941.779 6572849.976, 673941...      1   \n",
       "\n",
       "        floorarea         kWh/a          co2/a  \n",
       "107  11743.984416  1.878955e+06  391743.390228  \n",
       "114   2031.588532  3.250399e+05   67767.577923  \n",
       "783   4490.550194  7.184566e+05  149791.015938  \n",
       "805    672.347392  1.075709e+05   22427.451988  \n",
       "941  14555.442774  2.328769e+06  485525.039569  "
      ]
     },
     "execution_count": 26,
     "metadata": {},
     "output_type": "execute_result"
    }
   ],
   "source": [
    "metal.head()"
   ]
  },
  {
   "cell_type": "code",
   "execution_count": 27,
   "id": "26032b9b-c1db-4de9-911e-763ee0154684",
   "metadata": {
    "tags": []
   },
   "outputs": [],
   "source": [
    "metal.to_file('sodermalm.shp')"
   ]
  },
  {
   "cell_type": "code",
   "execution_count": 29,
   "id": "2be7a362-df45-474b-baa2-744894f4b815",
   "metadata": {
    "tags": []
   },
   "outputs": [
    {
     "data": {
      "text/html": [
       "<div>\n",
       "<style scoped>\n",
       "    .dataframe tbody tr th:only-of-type {\n",
       "        vertical-align: middle;\n",
       "    }\n",
       "\n",
       "    .dataframe tbody tr th {\n",
       "        vertical-align: top;\n",
       "    }\n",
       "\n",
       "    .dataframe thead th {\n",
       "        text-align: right;\n",
       "    }\n",
       "</style>\n",
       "<table border=\"1\" class=\"dataframe\">\n",
       "  <thead>\n",
       "    <tr style=\"text-align: right;\">\n",
       "      <th></th>\n",
       "      <th>w_id</th>\n",
       "      <th>levels</th>\n",
       "      <th>floorarea</th>\n",
       "      <th>kWh/a</th>\n",
       "      <th>co2/a</th>\n",
       "      <th>geometry</th>\n",
       "    </tr>\n",
       "  </thead>\n",
       "  <tbody>\n",
       "    <tr>\n",
       "      <th>0</th>\n",
       "      <td>29741604</td>\n",
       "      <td>4</td>\n",
       "      <td>11743.984416</td>\n",
       "      <td>1.878955e+06</td>\n",
       "      <td>391743.390228</td>\n",
       "      <td>POLYGON ((675282.055 6577525.008, 675301.606 6...</td>\n",
       "    </tr>\n",
       "    <tr>\n",
       "      <th>1</th>\n",
       "      <td>29752940</td>\n",
       "      <td>4</td>\n",
       "      <td>2031.588532</td>\n",
       "      <td>3.250399e+05</td>\n",
       "      <td>67767.577923</td>\n",
       "      <td>POLYGON ((672911.430 6576548.124, 672922.732 6...</td>\n",
       "    </tr>\n",
       "    <tr>\n",
       "      <th>2</th>\n",
       "      <td>47971704</td>\n",
       "      <td>2</td>\n",
       "      <td>4490.550194</td>\n",
       "      <td>7.184566e+05</td>\n",
       "      <td>149791.015938</td>\n",
       "      <td>POLYGON ((678820.355 6571576.675, 678839.388 6...</td>\n",
       "    </tr>\n",
       "    <tr>\n",
       "      <th>3</th>\n",
       "      <td>48029436</td>\n",
       "      <td>2</td>\n",
       "      <td>672.347392</td>\n",
       "      <td>1.075709e+05</td>\n",
       "      <td>22427.451988</td>\n",
       "      <td>POLYGON ((679299.694 6574068.135, 679308.462 6...</td>\n",
       "    </tr>\n",
       "    <tr>\n",
       "      <th>4</th>\n",
       "      <td>48780448</td>\n",
       "      <td>1</td>\n",
       "      <td>14555.442774</td>\n",
       "      <td>2.328769e+06</td>\n",
       "      <td>485525.039569</td>\n",
       "      <td>POLYGON ((673941.779 6572849.976, 674217.168 6...</td>\n",
       "    </tr>\n",
       "  </tbody>\n",
       "</table>\n",
       "</div>"
      ],
      "text/plain": [
       "       w_id levels     floorarea         kWh/a          co2/a  \\\n",
       "0  29741604      4  11743.984416  1.878955e+06  391743.390228   \n",
       "1  29752940      4   2031.588532  3.250399e+05   67767.577923   \n",
       "2  47971704      2   4490.550194  7.184566e+05  149791.015938   \n",
       "3  48029436      2    672.347392  1.075709e+05   22427.451988   \n",
       "4  48780448      1  14555.442774  2.328769e+06  485525.039569   \n",
       "\n",
       "                                            geometry  \n",
       "0  POLYGON ((675282.055 6577525.008, 675301.606 6...  \n",
       "1  POLYGON ((672911.430 6576548.124, 672922.732 6...  \n",
       "2  POLYGON ((678820.355 6571576.675, 678839.388 6...  \n",
       "3  POLYGON ((679299.694 6574068.135, 679308.462 6...  \n",
       "4  POLYGON ((673941.779 6572849.976, 674217.168 6...  "
      ]
     },
     "execution_count": 29,
     "metadata": {},
     "output_type": "execute_result"
    }
   ],
   "source": [
    "how_to_read = geopandas.read_file('sodermalm.shp')\n",
    "how_to_read.head()"
   ]
  },
  {
   "cell_type": "code",
   "execution_count": null,
   "id": "c32737d3-2bea-4c4f-afbf-829e1ace3942",
   "metadata": {},
   "outputs": [],
   "source": []
  }
 ],
 "metadata": {
  "kernelspec": {
   "display_name": "Python 3 (ipykernel)",
   "language": "python",
   "name": "python3"
  },
  "language_info": {
   "codemirror_mode": {
    "name": "ipython",
    "version": 3
   },
   "file_extension": ".py",
   "mimetype": "text/x-python",
   "name": "python",
   "nbconvert_exporter": "python",
   "pygments_lexer": "ipython3",
   "version": "3.10.6"
  }
 },
 "nbformat": 4,
 "nbformat_minor": 5
}
