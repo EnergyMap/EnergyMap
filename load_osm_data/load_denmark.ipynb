{
 "cells": [
  {
   "cell_type": "code",
   "execution_count": 1,
   "id": "70f3c77a-ece0-46e6-bb09-c0aa4fb431c7",
   "metadata": {
    "tags": []
   },
   "outputs": [],
   "source": [
    "import osmium\n",
    "import shapely.wkb as wkblib\n",
    "import pandas as pd\n",
    "import geopandas\n",
    "import osmnx as ox\n",
    "import matplotlib.pyplot as plt\n",
    "import psutil"
   ]
  },
  {
   "cell_type": "code",
   "execution_count": 2,
   "id": "e8175f4b-8881-405d-90c2-2e1d9575c3ed",
   "metadata": {},
   "outputs": [
    {
     "name": "stdout",
     "output_type": "stream",
     "text": [
      "--2023-03-13 14:54:54--  http://download.geofabrik.de/europe/denmark-latest.osm.pbf\n",
      "Resolving download.geofabrik.de (download.geofabrik.de)... 65.109.48.72, 65.109.50.43\n",
      "Connecting to download.geofabrik.de (download.geofabrik.de)|65.109.48.72|:80... connected.\n",
      "HTTP request sent, awaiting response... 200 OK\n",
      "Length: 424910619 (405M) [application/octet-stream]\n",
      "Saving to: ‘denmark-latest.osm.pbf’\n",
      "\n",
      "denmark-latest.osm. 100%[===================>] 405.23M  86.4MB/s    in 5.5s    \n",
      "\n",
      "2023-03-13 14:54:59 (74.3 MB/s) - ‘denmark-latest.osm.pbf’ saved [424910619/424910619]\n",
      "\n"
     ]
    }
   ],
   "source": [
    "#uncomment and download data if you need it\n",
    "!wget http://download.geofabrik.de/europe/denmark-latest.osm.pbf"
   ]
  },
  {
   "cell_type": "code",
   "execution_count": null,
   "id": "e2c3fd9f-63bd-46f9-b387-a9a00c648067",
   "metadata": {},
   "outputs": [],
   "source": [
    "#https://max-coding.medium.com/extracting-open-street-map-osm-street-data-from-data-files-using-pyosmium-afca6eaa5d00"
   ]
  },
  {
   "cell_type": "code",
   "execution_count": 3,
   "id": "83ea2840-e650-4d6c-aaca-2ae84eb4e100",
   "metadata": {
    "tags": []
   },
   "outputs": [],
   "source": [
    "#this class creates\n",
    "#multipolygons for all buildings. Uses \"area\", and I don't know\n",
    "#if e.g. \"way\" or \"relation\" also could/should be used.\n",
    "#Inspiration from here https://max-coding.medium.com/extracting-open-street-map-osm-street-data-from-data-files-using-pyosmium-afca6eaa5d00\n",
    "class BuildingHandler(osmium.SimpleHandler):\n",
    "    def __init__(self):\n",
    "        osmium.SimpleHandler.__init__(self)\n",
    "        self.building_count = 0\n",
    "        self.buildings = []\n",
    "        # A global factory that creates WKB from a osmium geometry\n",
    "        self.wkbfab = osmium.geom.WKBFactory()\n",
    "\n",
    "    def area(self, w):\n",
    "        if w.tags.get(\"building\") == 'yes':\n",
    "            try:\n",
    "                wkb = self.wkbfab.create_multipolygon(w)\n",
    "                geo = wkblib.loads(wkb, hex=True)\n",
    "            except Exception as e:\n",
    "                print(e)\n",
    "                return\n",
    "            row = { \"w_id\": w.id, \"geometry\": geo }\n",
    "\n",
    "            for key, value in w.tags:\n",
    "                row[key] = value\n",
    "\n",
    "            self.buildings.append(row)\n",
    "            self.building_count += 1"
   ]
  },
  {
   "cell_type": "code",
   "execution_count": 4,
   "id": "6a983db8-d234-49a7-9a04-fe543c01e9ee",
   "metadata": {
    "tags": []
   },
   "outputs": [
    {
     "name": "stdout",
     "output_type": "stream",
     "text": [
      "invalid area (area_id=2137954400)\n"
     ]
    }
   ],
   "source": [
    "#this runs the actual loading from the file, might take a while\n",
    "buildinghandler = BuildingHandler()\n",
    "buildinghandler.apply_file(\"denmark-latest.osm.pbf\", locations=True)"
   ]
  },
  {
   "cell_type": "code",
   "execution_count": 5,
   "id": "97e7c1f0-6c13-4d26-b7b3-46fca933ea9b",
   "metadata": {
    "tags": []
   },
   "outputs": [
    {
     "data": {
      "text/plain": [
       "3302226"
      ]
     },
     "execution_count": 5,
     "metadata": {},
     "output_type": "execute_result"
    }
   ],
   "source": [
    "len(buildinghandler.buildings)"
   ]
  },
  {
   "cell_type": "code",
   "execution_count": 6,
   "id": "23268e37-0f93-4902-97ae-26e02c60a718",
   "metadata": {
    "tags": []
   },
   "outputs": [
    {
     "data": {
      "text/plain": [
       "12.8"
      ]
     },
     "execution_count": 6,
     "metadata": {},
     "output_type": "execute_result"
    }
   ],
   "source": [
    "psutil.virtual_memory().percent"
   ]
  },
  {
   "cell_type": "code",
   "execution_count": 43,
   "id": "f3879ec4-3ce5-4049-bd3f-7bbc1c59fd07",
   "metadata": {
    "tags": []
   },
   "outputs": [],
   "source": [
    "#first to a pandas dataframe and then to geopandas\n",
    "df = pd.DataFrame(buildinghandler.buildings[:100000])\n",
    "gdf = geopandas.GeoDataFrame(df, geometry='geometry')\n",
    "gdf = gdf.set_crs(\"EPSG:4326\")\n",
    "gdf = ox.project_gdf(gdf)"
   ]
  },
  {
   "cell_type": "code",
   "execution_count": 49,
   "id": "e70bf5ea-b623-430a-99d7-d92dcb8fcec3",
   "metadata": {
    "tags": []
   },
   "outputs": [
    {
     "data": {
      "text/plain": [
       "(3056, 410)"
      ]
     },
     "execution_count": 49,
     "metadata": {},
     "output_type": "execute_result"
    }
   ],
   "source": [
    "#dropping all buildings that don't have level information\n",
    "gdf = gdf.dropna(subset=['building:levels'])\n",
    "gdf.shape"
   ]
  },
  {
   "cell_type": "code",
   "execution_count": 62,
   "id": "342eb498-6d60-43b3-b7af-6c1714950b54",
   "metadata": {
    "tags": []
   },
   "outputs": [
    {
     "data": {
      "text/plain": [
       "2.919011780104712"
      ]
     },
     "execution_count": 62,
     "metadata": {},
     "output_type": "execute_result"
    }
   ],
   "source": [
    "#taking a look at the mean levels\n",
    "gdf['building:levels'].astype(float).mean()"
   ]
  },
  {
   "cell_type": "code",
   "execution_count": 161,
   "id": "959da162-47d5-437c-a987-093f3a073d47",
   "metadata": {
    "tags": []
   },
   "outputs": [
    {
     "data": {
      "image/png": "[encoded data removed]",
      "text/plain": [
       "<Figure size 640x480 with 1 Axes>"
      ]
     },
     "metadata": {},
     "output_type": "display_data"
    }
   ],
   "source": [
    "#taking a look at the building levels in the 100000 building sample\n",
    "plt.hist(gdf['building:levels'].astype(float), bins=20)\n",
    "plt.show()"
   ]
  },
  {
   "cell_type": "code",
   "execution_count": 78,
   "id": "e04cd693-d0d8-4275-8408-248abd9bd599",
   "metadata": {
    "tags": []
   },
   "outputs": [
    {
     "name": "stderr",
     "output_type": "stream",
     "text": [
      "/tmp/ipykernel_2616/2662106380.py:1: UserWarning: Column names longer than 10 characters will be truncated when saved to ESRI Shapefile.\n",
      "  gdf.to_file('datafram.shp')\n"
     ]
    }
   ],
   "source": [
    "#if one wants to store a gdf, this is how you do it\n",
    "#gdf.to_file('datafram.shp')"
   ]
  },
  {
   "cell_type": "code",
   "execution_count": 84,
   "id": "794da2f7-3003-49cc-9a41-9a2d2f6aab01",
   "metadata": {
    "tags": []
   },
   "outputs": [
    {
     "data": {
      "text/plain": [
       "<Derived Projected CRS: +proj=utm +zone=33 +ellps=WGS84 +datum=WGS84 +unit ...>\n",
       "Name: unknown\n",
       "Axis Info [cartesian]:\n",
       "- E[east]: Easting (metre)\n",
       "- N[north]: Northing (metre)\n",
       "Area of Use:\n",
       "- undefined\n",
       "Coordinate Operation:\n",
       "- name: UTM zone 33N\n",
       "- method: Transverse Mercator\n",
       "Datum: World Geodetic System 1984\n",
       "- Ellipsoid: WGS 84\n",
       "- Prime Meridian: Greenwich"
      ]
     },
     "execution_count": 84,
     "metadata": {},
     "output_type": "execute_result"
    }
   ],
   "source": [
    "#learning new stuff about the projection\n",
    "gdf.crs"
   ]
  },
  {
   "cell_type": "code",
   "execution_count": 85,
   "id": "5f602c36-0534-4474-afc0-9315a8a36494",
   "metadata": {
    "tags": []
   },
   "outputs": [],
   "source": [
    "#testing filtering out the Stockholm region using the cx-function\n",
    "gdf_s = gdf.cx[636513:711110, 6618371:6565834]"
   ]
  },
  {
   "cell_type": "code",
   "execution_count": 7,
   "id": "6385c23d-bb3c-402e-b4aa-6612fa5945b3",
   "metadata": {
    "tags": []
   },
   "outputs": [
    {
     "name": "stdout",
     "output_type": "stream",
     "text": [
      "(851, 3)\n",
      "(1243, 3)\n",
      "(2306, 3)\n",
      "(3193, 3)\n",
      "(4231, 3)\n",
      "(5245, 3)\n",
      "(5378, 3)\n",
      "(5405, 3)\n",
      "(5842, 3)\n",
      "(6159, 3)\n",
      "(7212, 3)\n",
      "(7251, 3)\n",
      "(7345, 3)\n",
      "(7443, 3)\n",
      "(7506, 3)\n",
      "(7673, 3)\n"
     ]
    }
   ],
   "source": [
    "i = 200000\n",
    "while i < len(buildinghandler.buildings):\n",
    "    dfx = pd.DataFrame(buildinghandler.buildings[(i-200000):min([i, len(buildinghandler.buildings)-1])])\n",
    "    gdfx = geopandas.GeoDataFrame(dfx, geometry='geometry')\n",
    "    gdfx = gdfx.set_crs(\"EPSG:4326\")\n",
    "    gdfx = ox.project_gdf(gdfx)\n",
    "    gdfx = gdfx.dropna(subset=['building:levels'])\n",
    "    gdfx = gdfx[['w_id', 'geometry', 'building:levels']]\n",
    "    if i < 200001:\n",
    "        meta = gdfx\n",
    "    else:\n",
    "        meta = pd.concat([meta, gdfx])\n",
    "    print(meta.shape)\n",
    "    i += 200000"
   ]
  },
  {
   "cell_type": "code",
   "execution_count": 8,
   "id": "2ab079a8-2cf1-452a-8737-c4d70ace5127",
   "metadata": {
    "tags": []
   },
   "outputs": [],
   "source": [
    "#meta['floorarea'] = meta.area * meta['building:levels'].astype(float)\n",
    "meta = meta[meta['building:levels'].str.contains('[A-Za-z]') == False]"
   ]
  },
  {
   "cell_type": "code",
   "execution_count": 9,
   "id": "bec003ba-bf4f-4895-a4fd-c54256ac5460",
   "metadata": {
    "tags": []
   },
   "outputs": [
    {
     "data": {
      "text/plain": [
       "(7673, 3)"
      ]
     },
     "execution_count": 9,
     "metadata": {},
     "output_type": "execute_result"
    }
   ],
   "source": [
    "meta = meta[meta['building:levels'].str.contains('[;-]') == False]\n",
    "meta.shape"
   ]
  },
  {
   "cell_type": "code",
   "execution_count": 10,
   "id": "dbd737a8-2116-4d9d-a7b9-9b86187a3346",
   "metadata": {
    "tags": []
   },
   "outputs": [],
   "source": [
    "meta['floorarea'] = meta.area * meta['building:levels'].astype(float)"
   ]
  },
  {
   "cell_type": "code",
   "execution_count": 11,
   "id": "fac5e7cc-b049-4d77-a447-3f9821db41bf",
   "metadata": {
    "tags": []
   },
   "outputs": [],
   "source": [
    "meta['ratio'] = meta['floorarea'].astype(float) / meta.area"
   ]
  },
  {
   "cell_type": "code",
   "execution_count": 12,
   "id": "5ea3ed6c-c115-49c4-bb99-172667ac0c4a",
   "metadata": {
    "tags": []
   },
   "outputs": [
    {
     "data": {
      "text/plain": [
       "1.3795777401277205"
      ]
     },
     "execution_count": 12,
     "metadata": {},
     "output_type": "execute_result"
    }
   ],
   "source": [
    "meta['ratio'].mean()"
   ]
  },
  {
   "cell_type": "code",
   "execution_count": 13,
   "id": "ec6a17e9-bf3c-421e-b436-8adb32ce62c2",
   "metadata": {
    "tags": []
   },
   "outputs": [
    {
     "data": {
      "image/png": "[encoded data removed]",
      "text/plain": [
       "<Figure size 640x480 with 1 Axes>"
      ]
     },
     "metadata": {},
     "output_type": "display_data"
    }
   ],
   "source": [
    "plt.hist(meta['ratio'], bins=100)\n",
    "plt.show()"
   ]
  },
  {
   "cell_type": "code",
   "execution_count": 14,
   "id": "7454e792-ef08-472d-b98f-a33ca4b2935c",
   "metadata": {
    "tags": []
   },
   "outputs": [
    {
     "data": {
      "text/plain": [
       "18.0"
      ]
     },
     "execution_count": 14,
     "metadata": {},
     "output_type": "execute_result"
    }
   ],
   "source": [
    "meta['ratio'].max()"
   ]
  },
  {
   "cell_type": "code",
   "execution_count": 15,
   "id": "650e61ef-6d33-41ee-979e-6debcbee1638",
   "metadata": {
    "tags": []
   },
   "outputs": [
    {
     "data": {
      "text/plain": [
       "(16, 5)"
      ]
     },
     "execution_count": 15,
     "metadata": {},
     "output_type": "execute_result"
    }
   ],
   "source": [
    "meta[meta['ratio'] > 10].shape"
   ]
  },
  {
   "cell_type": "code",
   "execution_count": 17,
   "id": "00c3335a-603f-41a0-b2c4-74442f0719cd",
   "metadata": {
    "tags": []
   },
   "outputs": [
    {
     "data": {
      "text/html": [
       "<div>\n",
       "<style scoped>\n",
       "    .dataframe tbody tr th:only-of-type {\n",
       "        vertical-align: middle;\n",
       "    }\n",
       "\n",
       "    .dataframe tbody tr th {\n",
       "        vertical-align: top;\n",
       "    }\n",
       "\n",
       "    .dataframe thead th {\n",
       "        text-align: right;\n",
       "    }\n",
       "</style>\n",
       "<table border=\"1\" class=\"dataframe\">\n",
       "  <thead>\n",
       "    <tr style=\"text-align: right;\">\n",
       "      <th></th>\n",
       "      <th>w_id</th>\n",
       "      <th>geometry</th>\n",
       "      <th>building:levels</th>\n",
       "      <th>floorarea</th>\n",
       "      <th>ratio</th>\n",
       "    </tr>\n",
       "  </thead>\n",
       "  <tbody>\n",
       "    <tr>\n",
       "      <th>4</th>\n",
       "      <td>28620146</td>\n",
       "      <td>MULTIPOLYGON (((724690.096 6174949.379, 724711...</td>\n",
       "      <td>11</td>\n",
       "      <td>31821.080247</td>\n",
       "      <td>11.0</td>\n",
       "    </tr>\n",
       "    <tr>\n",
       "      <th>728</th>\n",
       "      <td>52722656</td>\n",
       "      <td>MULTIPOLYGON (((718992.757 6180126.255, 719002...</td>\n",
       "      <td>13</td>\n",
       "      <td>2691.602867</td>\n",
       "      <td>13.0</td>\n",
       "    </tr>\n",
       "    <tr>\n",
       "      <th>2890</th>\n",
       "      <td>135056936</td>\n",
       "      <td>MULTIPOLYGON (((724262.223 6174776.390, 724264...</td>\n",
       "      <td>13</td>\n",
       "      <td>12689.998244</td>\n",
       "      <td>13.0</td>\n",
       "    </tr>\n",
       "    <tr>\n",
       "      <th>2893</th>\n",
       "      <td>135056956</td>\n",
       "      <td>MULTIPOLYGON (((724255.247 6174657.554, 724276...</td>\n",
       "      <td>12</td>\n",
       "      <td>25363.170155</td>\n",
       "      <td>12.0</td>\n",
       "    </tr>\n",
       "    <tr>\n",
       "      <th>147043</th>\n",
       "      <td>264984378</td>\n",
       "      <td>MULTIPOLYGON (((725234.766 6176001.878, 725243...</td>\n",
       "      <td>17</td>\n",
       "      <td>31461.550323</td>\n",
       "      <td>17.0</td>\n",
       "    </tr>\n",
       "    <tr>\n",
       "      <th>147350</th>\n",
       "      <td>265360336</td>\n",
       "      <td>MULTIPOLYGON (((725350.695 6176143.447, 725353...</td>\n",
       "      <td>13</td>\n",
       "      <td>10830.944802</td>\n",
       "      <td>13.0</td>\n",
       "    </tr>\n",
       "    <tr>\n",
       "      <th>147353</th>\n",
       "      <td>265360342</td>\n",
       "      <td>MULTIPOLYGON (((725339.122 6176103.352, 725341...</td>\n",
       "      <td>13</td>\n",
       "      <td>12678.705547</td>\n",
       "      <td>13.0</td>\n",
       "    </tr>\n",
       "    <tr>\n",
       "      <th>147357</th>\n",
       "      <td>265360352</td>\n",
       "      <td>MULTIPOLYGON (((725327.730 6176138.802, 725339...</td>\n",
       "      <td>12</td>\n",
       "      <td>9957.984179</td>\n",
       "      <td>12.0</td>\n",
       "    </tr>\n",
       "    <tr>\n",
       "      <th>147359</th>\n",
       "      <td>265360726</td>\n",
       "      <td>MULTIPOLYGON (((725230.946 6176045.169, 725236...</td>\n",
       "      <td>13</td>\n",
       "      <td>5647.803372</td>\n",
       "      <td>13.0</td>\n",
       "    </tr>\n",
       "    <tr>\n",
       "      <th>147368</th>\n",
       "      <td>265362332</td>\n",
       "      <td>MULTIPOLYGON (((725147.047 6176015.129, 725154...</td>\n",
       "      <td>14</td>\n",
       "      <td>8786.928674</td>\n",
       "      <td>14.0</td>\n",
       "    </tr>\n",
       "    <tr>\n",
       "      <th>159724</th>\n",
       "      <td>283519194</td>\n",
       "      <td>MULTIPOLYGON (((722553.453 6175346.830, 722572...</td>\n",
       "      <td>13</td>\n",
       "      <td>4859.118319</td>\n",
       "      <td>13.0</td>\n",
       "    </tr>\n",
       "    <tr>\n",
       "      <th>176346</th>\n",
       "      <td>759344726</td>\n",
       "      <td>MULTIPOLYGON (((728447.192 6174281.992, 728447...</td>\n",
       "      <td>12</td>\n",
       "      <td>4688.829312</td>\n",
       "      <td>12.0</td>\n",
       "    </tr>\n",
       "    <tr>\n",
       "      <th>65529</th>\n",
       "      <td>14108543</td>\n",
       "      <td>MULTIPOLYGON (((725279.561 6176024.511, 725280...</td>\n",
       "      <td>18</td>\n",
       "      <td>34038.667393</td>\n",
       "      <td>18.0</td>\n",
       "    </tr>\n",
       "    <tr>\n",
       "      <th>145016</th>\n",
       "      <td>1180759550</td>\n",
       "      <td>MULTIPOLYGON (((591251.482 6369906.387, 591252...</td>\n",
       "      <td>12</td>\n",
       "      <td>6238.640960</td>\n",
       "      <td>12.0</td>\n",
       "    </tr>\n",
       "    <tr>\n",
       "      <th>40892</th>\n",
       "      <td>17792689</td>\n",
       "      <td>MULTIPOLYGON (((726265.240 6179321.879, 726265...</td>\n",
       "      <td>15</td>\n",
       "      <td>24986.513843</td>\n",
       "      <td>15.0</td>\n",
       "    </tr>\n",
       "    <tr>\n",
       "      <th>35755</th>\n",
       "      <td>1388751516</td>\n",
       "      <td>MULTIPOLYGON (((464297.094 6148246.902, 464297...</td>\n",
       "      <td>17</td>\n",
       "      <td>8001.866015</td>\n",
       "      <td>17.0</td>\n",
       "    </tr>\n",
       "  </tbody>\n",
       "</table>\n",
       "</div>"
      ],
      "text/plain": [
       "              w_id                                           geometry  \\\n",
       "4         28620146  MULTIPOLYGON (((724690.096 6174949.379, 724711...   \n",
       "728       52722656  MULTIPOLYGON (((718992.757 6180126.255, 719002...   \n",
       "2890     135056936  MULTIPOLYGON (((724262.223 6174776.390, 724264...   \n",
       "2893     135056956  MULTIPOLYGON (((724255.247 6174657.554, 724276...   \n",
       "147043   264984378  MULTIPOLYGON (((725234.766 6176001.878, 725243...   \n",
       "147350   265360336  MULTIPOLYGON (((725350.695 6176143.447, 725353...   \n",
       "147353   265360342  MULTIPOLYGON (((725339.122 6176103.352, 725341...   \n",
       "147357   265360352  MULTIPOLYGON (((725327.730 6176138.802, 725339...   \n",
       "147359   265360726  MULTIPOLYGON (((725230.946 6176045.169, 725236...   \n",
       "147368   265362332  MULTIPOLYGON (((725147.047 6176015.129, 725154...   \n",
       "159724   283519194  MULTIPOLYGON (((722553.453 6175346.830, 722572...   \n",
       "176346   759344726  MULTIPOLYGON (((728447.192 6174281.992, 728447...   \n",
       "65529     14108543  MULTIPOLYGON (((725279.561 6176024.511, 725280...   \n",
       "145016  1180759550  MULTIPOLYGON (((591251.482 6369906.387, 591252...   \n",
       "40892     17792689  MULTIPOLYGON (((726265.240 6179321.879, 726265...   \n",
       "35755   1388751516  MULTIPOLYGON (((464297.094 6148246.902, 464297...   \n",
       "\n",
       "       building:levels     floorarea  ratio  \n",
       "4                   11  31821.080247   11.0  \n",
       "728                 13   2691.602867   13.0  \n",
       "2890                13  12689.998244   13.0  \n",
       "2893                12  25363.170155   12.0  \n",
       "147043              17  31461.550323   17.0  \n",
       "147350              13  10830.944802   13.0  \n",
       "147353              13  12678.705547   13.0  \n",
       "147357              12   9957.984179   12.0  \n",
       "147359              13   5647.803372   13.0  \n",
       "147368              14   8786.928674   14.0  \n",
       "159724              13   4859.118319   13.0  \n",
       "176346              12   4688.829312   12.0  \n",
       "65529               18  34038.667393   18.0  \n",
       "145016              12   6238.640960   12.0  \n",
       "40892               15  24986.513843   15.0  \n",
       "35755               17   8001.866015   17.0  "
      ]
     },
     "execution_count": 17,
     "metadata": {},
     "output_type": "execute_result"
    }
   ],
   "source": [
    "meta[meta['ratio'] > 10]"
   ]
  },
  {
   "cell_type": "code",
   "execution_count": null,
   "id": "2b7a87c3-f205-4f4a-b17a-ace679324009",
   "metadata": {},
   "outputs": [],
   "source": []
  }
 ],
 "metadata": {
  "kernelspec": {
   "display_name": "Python 3 (ipykernel)",
   "language": "python",
   "name": "python3"
  },
  "language_info": {
   "codemirror_mode": {
    "name": "ipython",
    "version": 3
   },
   "file_extension": ".py",
   "mimetype": "text/x-python",
   "name": "python",
   "nbconvert_exporter": "python",
   "pygments_lexer": "ipython3",
   "version": "3.10.6"
  }
 },
 "nbformat": 4,
 "nbformat_minor": 5
}
