{
 "cells": [
  {
   "cell_type": "code",
   "execution_count": 1,
   "id": "7c1c51a3-15ad-4a30-afc3-528814c9f61b",
   "metadata": {
    "tags": []
   },
   "outputs": [],
   "source": [
    "#run this for every file in the folder, so make a loop for that (execute this as a function)\n",
    "file = 'filtered-bosnia-herzegovina-latest.osm.pbf'"
   ]
  },
  {
   "cell_type": "code",
   "execution_count": 2,
   "id": "c7d101c6-8b8b-445c-a1a2-5b8166a5266d",
   "metadata": {
    "tags": []
   },
   "outputs": [
    {
     "name": "stdout",
     "output_type": "stream",
     "text": [
      "Loading osm-data from file filtered-bosnia-herzegovina-latest.osm.pbf, this will take a while...\n",
      "invalid area (area_id=2330470704)\n",
      "Creating geodataframe from the data from filtered-bosnia-herzegovina-latest.osm.pbf, this will take a while...\n"
     ]
    }
   ],
   "source": [
    "from pipeline.buildings import create_geodataframe\n",
    "gdf = create_geodataframe(file)"
   ]
  },
  {
   "cell_type": "code",
   "execution_count": 3,
   "id": "66438fe3-6479-4598-a94f-d38ca1f01c84",
   "metadata": {
    "tags": []
   },
   "outputs": [
    {
     "name": "stdout",
     "output_type": "stream",
     "text": [
      "Estimating levels for country bosnia-herzegovina, this will take a while...\n"
     ]
    }
   ],
   "source": [
    "from pipeline.level_estimation import estimate_levels_with_knn\n",
    "gdf = estimate_levels_with_knn(gdf)"
   ]
  },
  {
   "cell_type": "code",
   "execution_count": 4,
   "id": "42e229b8-f108-4a2f-a479-e8dd993a759b",
   "metadata": {
    "tags": []
   },
   "outputs": [],
   "source": [
    "from pipeline.climate_zones import get_climate_zones\n",
    "zones = get_climate_zones()"
   ]
  },
  {
   "cell_type": "code",
   "execution_count": 5,
   "id": "bd6cc0f3-4214-4bb6-9cb7-cee62f4591e2",
   "metadata": {
    "tags": []
   },
   "outputs": [
    {
     "name": "stdout",
     "output_type": "stream",
     "text": [
      "Estimating energy demand per climate zone for country bosnia-herzegovina, this will take a while...\n"
     ]
    }
   ],
   "source": [
    "from pipeline.energy_demand import get_energy_demand\n",
    "gdf = get_energy_demand(gdf, zones)"
   ]
  },
  {
   "cell_type": "code",
   "execution_count": 6,
   "id": "636e4a73-c368-4361-aea3-2b9b95511635",
   "metadata": {
    "tags": []
   },
   "outputs": [
    {
     "name": "stdout",
     "output_type": "stream",
     "text": [
      "Calculating co2-emissions for country bosnia-herzegovina...\n"
     ]
    }
   ],
   "source": [
    "from pipeline.co2_emissions import get_co2_emissions\n",
    "import pandas as pd\n",
    "co2_rates = pd.read_csv('pipeline/co2rates.csv', index_col=0)\n",
    "gdf = get_co2_emissions(gdf, co2_rates)"
   ]
  },
  {
   "cell_type": "code",
   "execution_count": 7,
   "id": "df9c1518-500c-4b03-a11a-161807056db6",
   "metadata": {
    "tags": []
   },
   "outputs": [
    {
     "name": "stdout",
     "output_type": "stream",
     "text": [
      "Creating square-tiles of sum emission levels for bosnia-herzegovina, this will take a while...\n"
     ]
    }
   ],
   "source": [
    "from pipeline.square_tiles import create_square_tiles\n",
    "tuple = create_square_tiles(gdf)"
   ]
  },
  {
   "cell_type": "code",
   "execution_count": 8,
   "id": "a65703c3-9a1e-4d39-a6a2-68b94a5efa5f",
   "metadata": {
    "tags": []
   },
   "outputs": [],
   "source": [
    "from dotenv import dotenv_values\n",
    "cf = dotenv_values(\".env\")\n",
    "db_url = f'postgresql://{cf[\"USER\"]}:{cf[\"PW\"]}@{cf[\"URL\"]}:{cf[\"PORT\"]}/{cf[\"DB\"]}'"
   ]
  },
  {
   "cell_type": "code",
   "execution_count": 9,
   "id": "8a28d81e-c04e-4a2d-ac08-fc55a047ce3a",
   "metadata": {},
   "outputs": [],
   "source": [
    "from sqlalchemy import create_engine\n",
    "engine = create_engine(db_url)  "
   ]
  },
  {
   "cell_type": "code",
   "execution_count": 10,
   "id": "41b9168a-d862-4997-9166-865485ace8bd",
   "metadata": {
    "tags": []
   },
   "outputs": [],
   "source": [
    "gdf.to_postgis(cf[\"TABLE\"], engine, if_exists=\"append\") "
   ]
  }
 ],
 "metadata": {
  "kernelspec": {
   "display_name": "Python 3 (ipykernel)",
   "language": "python",
   "name": "python3"
  },
  "language_info": {
   "codemirror_mode": {
    "name": "ipython",
    "version": 3
   },
   "file_extension": ".py",
   "mimetype": "text/x-python",
   "name": "python",
   "nbconvert_exporter": "python",
   "pygments_lexer": "ipython3",
   "version": "3.10.6"
  }
 },
 "nbformat": 4,
 "nbformat_minor": 5
}
