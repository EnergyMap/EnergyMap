{
 "cells": [
  {
   "cell_type": "markdown",
   "id": "0a1dc2d1-ba3e-46f9-a8c6-f03463f12bcb",
   "metadata": {},
   "source": [
    "### This notebook is an option to running the automated pipeline, e.g., for debugging possible problems in the pipeline-methods."
   ]
  },
  {
   "cell_type": "code",
   "execution_count": 1,
   "id": "7c1c51a3-15ad-4a30-afc3-528814c9f61b",
   "metadata": {
    "tags": []
   },
   "outputs": [],
   "source": [
    "file = 'data/filtered-portugal-latest.osm.pbf'"
   ]
  },
  {
   "cell_type": "code",
   "execution_count": 2,
   "id": "c7d101c6-8b8b-445c-a1a2-5b8166a5266d",
   "metadata": {
    "tags": []
   },
   "outputs": [
    {
     "name": "stdout",
     "output_type": "stream",
     "text": [
      "Loading osm-data from file data/filtered-portugal-latest.osm.pbf, this will take a while...\n",
      "invalid area (area_id=1219870002)\n",
      "invalid area (area_id=31268923)\n",
      "Creating geodataframe from the data from data/filtered-portugal-latest.osm.pbf, this will take a while...\n"
     ]
    }
   ],
   "source": [
    "#read the building data from the osm-file and insert into a geopandas dataframe\n",
    "from pipeline.buildings import create_geodataframe\n",
    "gdf = create_geodataframe(file)"
   ]
  },
  {
   "cell_type": "code",
   "execution_count": 3,
   "id": "66438fe3-6479-4598-a94f-d38ca1f01c84",
   "metadata": {
    "tags": []
   },
   "outputs": [
    {
     "name": "stdout",
     "output_type": "stream",
     "text": [
      "Predicting levels, please wait...\n",
      "Using training data length 14992\n",
      "Fitting model to data, please wait...\n"
     ]
    }
   ],
   "source": [
    "#estimate levels for the buildings lacking level data\n",
    "from pipeline.level_estimation import estimate_levels_with_randomforest\n",
    "gdf = estimate_levels_with_randomforest(gdf)"
   ]
  },
  {
   "cell_type": "code",
   "execution_count": 4,
   "id": "42e229b8-f108-4a2f-a479-e8dd993a759b",
   "metadata": {
    "tags": []
   },
   "outputs": [],
   "source": [
    "#load the climate zones into a geopandas dataframe\n",
    "from pipeline.climate_zones import get_climate_zones\n",
    "zones = get_climate_zones()"
   ]
  },
  {
   "cell_type": "code",
   "execution_count": 5,
   "id": "bd6cc0f3-4214-4bb6-9cb7-cee62f4591e2",
   "metadata": {
    "tags": []
   },
   "outputs": [
    {
     "name": "stdout",
     "output_type": "stream",
     "text": [
      "Estimating energy demand per climate zone for country portugal, this will take a while...\n"
     ]
    }
   ],
   "source": [
    "#calculate energy demand using the climate zone data\n",
    "from pipeline.energy_demand import get_energy_demand\n",
    "gdf = get_energy_demand(gdf, zones)"
   ]
  },
  {
   "cell_type": "code",
   "execution_count": 6,
   "id": "636e4a73-c368-4361-aea3-2b9b95511635",
   "metadata": {
    "tags": []
   },
   "outputs": [
    {
     "name": "stdout",
     "output_type": "stream",
     "text": [
      "Calculating co2-emissions for country portugal...\n"
     ]
    }
   ],
   "source": [
    "#calculate co2-emissions using the co2-rate data\n",
    "from pipeline.co2_emissions import get_co2_emissions\n",
    "import pandas as pd\n",
    "co2_rates = pd.read_csv('pipeline/co2rates.csv', index_col=0)\n",
    "gdf = get_co2_emissions(gdf, co2_rates)"
   ]
  },
  {
   "cell_type": "code",
   "execution_count": 17,
   "id": "df9c1518-500c-4b03-a11a-161807056db6",
   "metadata": {
    "tags": []
   },
   "outputs": [
    {
     "name": "stdout",
     "output_type": "stream",
     "text": [
      "Creating square-tiles of sum emission levels for portugal, this will take a while...\n"
     ]
    }
   ],
   "source": [
    "#create kilometer square tiles of co2-emission sums\n",
    "from pipeline.square_tiles import create_square_tiles\n",
    "tuple = create_square_tiles(gdf)"
   ]
  },
  {
   "cell_type": "code",
   "execution_count": 19,
   "id": "a65703c3-9a1e-4d39-a6a2-68b94a5efa5f",
   "metadata": {
    "tags": []
   },
   "outputs": [],
   "source": [
    "#create database connection\n",
    "from dotenv import dotenv_values\n",
    "cf = dotenv_values(\".env\")\n",
    "db_url = f'postgresql://{cf[\"USER\"]}:{cf[\"PW\"]}@{cf[\"URL\"]}:{cf[\"PORT\"]}/{cf[\"DB\"]}'"
   ]
  },
  {
   "cell_type": "code",
   "execution_count": 20,
   "id": "8a28d81e-c04e-4a2d-ac08-fc55a047ce3a",
   "metadata": {
    "tags": []
   },
   "outputs": [],
   "source": [
    "from sqlalchemy import create_engine\n",
    "engine = create_engine(db_url)  "
   ]
  },
  {
   "cell_type": "code",
   "execution_count": 26,
   "id": "41b9168a-d862-4997-9166-865485ace8bd",
   "metadata": {
    "tags": []
   },
   "outputs": [],
   "source": [
    "#insert the data into the postgis database\n",
    "gdf.to_postgis('buildings', engine, if_exists=\"append\") \n",
    "tuple[0].to_postgis('squares_co2', engine, if_exists=\"append\") \n",
    "tuple[1].to_postgis('squares_opt_co2', engine, if_exists=\"append\") \n",
    "tuple[2].to_postgis('squares_diff', engine, if_exists=\"append\") "
   ]
  }
 ],
 "metadata": {
  "kernelspec": {
   "display_name": "Python 3 (ipykernel)",
   "language": "python",
   "name": "python3"
  },
  "language_info": {
   "codemirror_mode": {
    "name": "ipython",
    "version": 3
   },
   "file_extension": ".py",
   "mimetype": "text/x-python",
   "name": "python",
   "nbconvert_exporter": "python",
   "pygments_lexer": "ipython3",
   "version": "3.10.6"
  }
 },
 "nbformat": 4,
 "nbformat_minor": 5
}
