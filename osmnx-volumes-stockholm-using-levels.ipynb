{
 "cells": [
  {
   "cell_type": "code",
   "execution_count": 1,
   "id": "8e3b4917-4f4d-4d8d-a080-48f689d4893c",
   "metadata": {
    "tags": []
   },
   "outputs": [],
   "source": [
    "import osmnx as ox"
   ]
  },
  {
   "cell_type": "code",
   "execution_count": null,
   "id": "a1ee0d77-c042-4424-9960-8dad975af3cb",
   "metadata": {
    "tags": []
   },
   "outputs": [],
   "source": [
    "#loading buildings from Södermalm in Stockholm\n",
    "tags = {\"building\": True}\n",
    "gdf = ox.geometries_from_place(\"Södermalm, Stockholm\", tags)"
   ]
  },
  {
   "cell_type": "code",
   "execution_count": 7,
   "id": "108cae6e-4753-4d04-90a4-f5c535a6a739",
   "metadata": {
    "tags": []
   },
   "outputs": [],
   "source": [
    "#choosing only the element_type \"way\", which perhaps(!) is the correct element_type\n",
    "gdf = gdf.loc[(gdf.index.get_level_values('element_type') == 'way')]"
   ]
  },
  {
   "cell_type": "code",
   "execution_count": 8,
   "id": "a3727f9f-9502-4517-825d-cb94f8743472",
   "metadata": {
    "tags": []
   },
   "outputs": [],
   "source": [
    "#according to instructions from osm nx-docs, making correct projection\n",
    "gdf_proj = ox.project_gdf(gdf)"
   ]
  },
  {
   "cell_type": "code",
   "execution_count": 10,
   "id": "0dc855ac-a2dd-431e-824e-777b7f3439a8",
   "metadata": {
    "tags": []
   },
   "outputs": [],
   "source": [
    "#using geopandas to calculate areas from the geometric polygons\n",
    "gdf_proj['area'] = gdf_proj.area"
   ]
  },
  {
   "cell_type": "code",
   "execution_count": null,
   "id": "f6bb8191-9249-4773-a1bd-4c417cf39709",
   "metadata": {
    "tags": []
   },
   "outputs": [],
   "source": [
    "#keeping only buildings with level information\n",
    "gdf_l = gdf_proj.dropna(subset=['building:levels'])"
   ]
  },
  {
   "cell_type": "code",
   "execution_count": null,
   "id": "9524e118-625a-461f-8dc7-0a0f9640bfde",
   "metadata": {
    "tags": []
   },
   "outputs": [],
   "source": [
    "gdf_l['height'] = gdf_l['height'].astype('float')"
   ]
  },
  {
   "cell_type": "code",
   "execution_count": null,
   "id": "a90fdb2b-7cd1-487c-bd73-f8a7a70c8a6b",
   "metadata": {
    "tags": []
   },
   "outputs": [],
   "source": [
    "gdf_l['building:levels'] = gdf_l['building:levels'].astype('float')"
   ]
  },
  {
   "cell_type": "code",
   "execution_count": 39,
   "id": "da637067-0f4a-4a88-90f8-7faa9bb7b7a7",
   "metadata": {
    "tags": []
   },
   "outputs": [
    {
     "data": {
      "text/plain": [
       "element_type  osmid    \n",
       "way           7266905      6.250000\n",
       "              37046494     3.866667\n",
       "              37299689     3.583333\n",
       "              42672700     3.291667\n",
       "              149948736    3.571429\n",
       "              846741207    4.131579\n",
       "              846742152    8.100000\n",
       "dtype: float64"
      ]
     },
     "execution_count": 39,
     "metadata": {},
     "output_type": "execute_result"
    }
   ],
   "source": [
    "#using the buildings with both height and level info to get an estimate of median level height\n",
    "heights = gdf_l.loc[gdf_l['height'] > 0]['height'] / gdf_l.loc[gdf_l['height'] > 0]['building:levels'] \n",
    "heights"
   ]
  },
  {
   "cell_type": "code",
   "execution_count": 47,
   "id": "79e9ebe2-c419-4a08-9333-e1c98c503f5e",
   "metadata": {
    "tags": []
   },
   "outputs": [],
   "source": [
    "#using the median of heights lower than the 90% percentile (clearing out messy values)\n",
    "levelheight = heights.loc[heights < heights.quantile(0.9)].median()"
   ]
  },
  {
   "cell_type": "code",
   "execution_count": 48,
   "id": "2b152fae-77f8-4b6f-a284-5c83c8401efa",
   "metadata": {
    "tags": []
   },
   "outputs": [
    {
     "data": {
      "text/plain": [
       "3.725"
      ]
     },
     "execution_count": 48,
     "metadata": {},
     "output_type": "execute_result"
    }
   ],
   "source": [
    "levelheight"
   ]
  },
  {
   "cell_type": "code",
   "execution_count": null,
   "id": "45536b23-1422-47ba-9903-650990180630",
   "metadata": {
    "tags": []
   },
   "outputs": [],
   "source": [
    "#calculating an estimate of the height for all buildings with level data\n",
    "gdf_l['est_height'] = gdf_l['building:levels'] * levelheight"
   ]
  },
  {
   "cell_type": "code",
   "execution_count": null,
   "id": "1d90639b-58de-47cb-b2e9-b348fbe7a00e",
   "metadata": {
    "tags": []
   },
   "outputs": [],
   "source": [
    "#calculating volume of the buildings\n",
    "gdf_l['vol'] = gdf_l['area'] * gdf_l['est_height']"
   ]
  },
  {
   "cell_type": "code",
   "execution_count": 53,
   "id": "46673916-de1c-4c15-92e1-036b75ac28c2",
   "metadata": {
    "tags": []
   },
   "outputs": [
    {
     "data": {
      "text/plain": [
       "element_type  osmid     \n",
       "way           7266905        17578.065771\n",
       "              17024283      283572.059517\n",
       "              17024436       19805.227960\n",
       "              17024460        3684.860448\n",
       "              17392811      206688.286232\n",
       "                                ...      \n",
       "              1030387591     21680.236140\n",
       "              1065362442       266.149270\n",
       "              1065843681       162.154248\n",
       "              1065843683       936.317764\n",
       "              1121465295       115.001376\n",
       "Name: vol, Length: 516, dtype: float64"
      ]
     },
     "execution_count": 53,
     "metadata": {},
     "output_type": "execute_result"
    }
   ],
   "source": [
    "#volume in m^3\n",
    "gdf_l['vol']"
   ]
  },
  {
   "cell_type": "code",
   "execution_count": null,
   "id": "8fdf2a50-9ca0-4193-a235-9de5098e2ea0",
   "metadata": {},
   "outputs": [],
   "source": []
  }
 ],
 "metadata": {
  "kernelspec": {
   "display_name": "Python 3 (ipykernel)",
   "language": "python",
   "name": "python3"
  },
  "language_info": {
   "codemirror_mode": {
    "name": "ipython",
    "version": 3
   },
   "file_extension": ".py",
   "mimetype": "text/x-python",
   "name": "python",
   "nbconvert_exporter": "python",
   "pygments_lexer": "ipython3",
   "version": "3.10.9"
  }
 },
 "nbformat": 4,
 "nbformat_minor": 5
}
